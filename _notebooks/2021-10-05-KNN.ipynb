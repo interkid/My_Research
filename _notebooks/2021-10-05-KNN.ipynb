{
  "nbformat": 4,
  "nbformat_minor": 0,
  "metadata": {
    "colab": {
      "name": "KNN.ipynb",
      "provenance": [],
      "collapsed_sections": [],
      "authorship_tag": "ABX9TyP4DkGZLkAIyr1rIgCBKqkZ"
    },
    "kernelspec": {
      "name": "python3",
      "display_name": "Python 3"
    },
    "language_info": {
      "name": "python"
    }
  },
  "cells": [
    {
      "cell_type": "markdown",
      "metadata": {
        "id": "Xe2FtcULYiZx"
      },
      "source": [
        "# KNN Algorithm"
      ]
    },
    {
      "cell_type": "markdown",
      "metadata": {
        "id": "wRWYi0Mk-gZ-"
      },
      "source": [
        "## KNN: What's it for\n",
        "* simple classification or regeression algorithm\n",
        "  * simple = low accuracy rather than other Algorithm\n",
        "* Regression\n",
        "  * Find the K closest points to a sample point and return the average value\n"
      ]
    },
    {
      "cell_type": "markdown",
      "metadata": {
        "id": "Zm6JijUR_Gsz"
      },
      "source": [
        "![](https://github.com/interkid/My_Research/blob/master/images/knn.png?raw=1)"
      ]
    },
    {
      "cell_type": "markdown",
      "metadata": {
        "id": "dysEfoVjRBkU"
      },
      "source": [
        "### The KNN’s steps are:\n",
        "1. Receive an unclassified data;\n",
        "2. Measure the distance (Euclidian, Manhattan, Minkowski or Weighted) from \n",
        "the new data to all others data that is already classified;\n",
        "3. Gets the K(K is a parameter that you difine) smaller distances;\n",
        "4. Check the list of classes had the shortest distance and count the amount of each class that appears;\n",
        "5. Takes as correct class the class that appeared the most times;\n",
        "6. Classifies the new data with the class that you took in step 5;"
      ]
    },
    {
      "cell_type": "markdown",
      "metadata": {
        "id": "2vkzNkBPHvL6"
      },
      "source": [
        "### How is it used?\n",
        "* Dimensionality reduction stage\n",
        "  * Avoid sparse data"
      ]
    },
    {
      "cell_type": "markdown",
      "metadata": {
        "id": "aAsIKnUjmdvJ"
      },
      "source": [
        "## Implementation Iris dataset"
      ]
    },
    {
      "cell_type": "code",
      "metadata": {
        "id": "oPbZx6ISmfov"
      },
      "source": [
        "import numpy as np\n",
        "import matplotlib.pyplot as plt\n",
        "import pandas as pd"
      ],
      "execution_count": 1,
      "outputs": []
    },
    {
      "cell_type": "markdown",
      "metadata": {
        "id": "6qogtuXZnNFU"
      },
      "source": [
        "Data"
      ]
    },
    {
      "cell_type": "code",
      "metadata": {
        "id": "I_bxc5q2mjAY"
      },
      "source": [
        "url = \"https://archive.ics.uci.edu/ml/machine-learning-databases/iris/iris.data\"\n",
        "names = ['sepal-length', 'sepal-width', 'petal-length', 'petal-width', 'Class']\n",
        "dataset = pd.read_csv(url, names=names)"
      ],
      "execution_count": 2,
      "outputs": []
    },
    {
      "cell_type": "code",
      "metadata": {
        "id": "S5IjINk2mpj1",
        "outputId": "8bf83d38-8298-4230-e0ee-9409ec88892f",
        "colab": {
          "base_uri": "https://localhost:8080/",
          "height": 424
        }
      },
      "source": [
        "dataset"
      ],
      "execution_count": 3,
      "outputs": [
        {
          "output_type": "execute_result",
          "data": {
            "text/html": [
              "<div>\n",
              "<style scoped>\n",
              "    .dataframe tbody tr th:only-of-type {\n",
              "        vertical-align: middle;\n",
              "    }\n",
              "\n",
              "    .dataframe tbody tr th {\n",
              "        vertical-align: top;\n",
              "    }\n",
              "\n",
              "    .dataframe thead th {\n",
              "        text-align: right;\n",
              "    }\n",
              "</style>\n",
              "<table border=\"1\" class=\"dataframe\">\n",
              "  <thead>\n",
              "    <tr style=\"text-align: right;\">\n",
              "      <th></th>\n",
              "      <th>sepal-length</th>\n",
              "      <th>sepal-width</th>\n",
              "      <th>petal-length</th>\n",
              "      <th>petal-width</th>\n",
              "      <th>Class</th>\n",
              "    </tr>\n",
              "  </thead>\n",
              "  <tbody>\n",
              "    <tr>\n",
              "      <th>0</th>\n",
              "      <td>5.1</td>\n",
              "      <td>3.5</td>\n",
              "      <td>1.4</td>\n",
              "      <td>0.2</td>\n",
              "      <td>Iris-setosa</td>\n",
              "    </tr>\n",
              "    <tr>\n",
              "      <th>1</th>\n",
              "      <td>4.9</td>\n",
              "      <td>3.0</td>\n",
              "      <td>1.4</td>\n",
              "      <td>0.2</td>\n",
              "      <td>Iris-setosa</td>\n",
              "    </tr>\n",
              "    <tr>\n",
              "      <th>2</th>\n",
              "      <td>4.7</td>\n",
              "      <td>3.2</td>\n",
              "      <td>1.3</td>\n",
              "      <td>0.2</td>\n",
              "      <td>Iris-setosa</td>\n",
              "    </tr>\n",
              "    <tr>\n",
              "      <th>3</th>\n",
              "      <td>4.6</td>\n",
              "      <td>3.1</td>\n",
              "      <td>1.5</td>\n",
              "      <td>0.2</td>\n",
              "      <td>Iris-setosa</td>\n",
              "    </tr>\n",
              "    <tr>\n",
              "      <th>4</th>\n",
              "      <td>5.0</td>\n",
              "      <td>3.6</td>\n",
              "      <td>1.4</td>\n",
              "      <td>0.2</td>\n",
              "      <td>Iris-setosa</td>\n",
              "    </tr>\n",
              "    <tr>\n",
              "      <th>...</th>\n",
              "      <td>...</td>\n",
              "      <td>...</td>\n",
              "      <td>...</td>\n",
              "      <td>...</td>\n",
              "      <td>...</td>\n",
              "    </tr>\n",
              "    <tr>\n",
              "      <th>145</th>\n",
              "      <td>6.7</td>\n",
              "      <td>3.0</td>\n",
              "      <td>5.2</td>\n",
              "      <td>2.3</td>\n",
              "      <td>Iris-virginica</td>\n",
              "    </tr>\n",
              "    <tr>\n",
              "      <th>146</th>\n",
              "      <td>6.3</td>\n",
              "      <td>2.5</td>\n",
              "      <td>5.0</td>\n",
              "      <td>1.9</td>\n",
              "      <td>Iris-virginica</td>\n",
              "    </tr>\n",
              "    <tr>\n",
              "      <th>147</th>\n",
              "      <td>6.5</td>\n",
              "      <td>3.0</td>\n",
              "      <td>5.2</td>\n",
              "      <td>2.0</td>\n",
              "      <td>Iris-virginica</td>\n",
              "    </tr>\n",
              "    <tr>\n",
              "      <th>148</th>\n",
              "      <td>6.2</td>\n",
              "      <td>3.4</td>\n",
              "      <td>5.4</td>\n",
              "      <td>2.3</td>\n",
              "      <td>Iris-virginica</td>\n",
              "    </tr>\n",
              "    <tr>\n",
              "      <th>149</th>\n",
              "      <td>5.9</td>\n",
              "      <td>3.0</td>\n",
              "      <td>5.1</td>\n",
              "      <td>1.8</td>\n",
              "      <td>Iris-virginica</td>\n",
              "    </tr>\n",
              "  </tbody>\n",
              "</table>\n",
              "<p>150 rows × 5 columns</p>\n",
              "</div>"
            ],
            "text/plain": [
              "     sepal-length  sepal-width  petal-length  petal-width           Class\n",
              "0             5.1          3.5           1.4          0.2     Iris-setosa\n",
              "1             4.9          3.0           1.4          0.2     Iris-setosa\n",
              "2             4.7          3.2           1.3          0.2     Iris-setosa\n",
              "3             4.6          3.1           1.5          0.2     Iris-setosa\n",
              "4             5.0          3.6           1.4          0.2     Iris-setosa\n",
              "..            ...          ...           ...          ...             ...\n",
              "145           6.7          3.0           5.2          2.3  Iris-virginica\n",
              "146           6.3          2.5           5.0          1.9  Iris-virginica\n",
              "147           6.5          3.0           5.2          2.0  Iris-virginica\n",
              "148           6.2          3.4           5.4          2.3  Iris-virginica\n",
              "149           5.9          3.0           5.1          1.8  Iris-virginica\n",
              "\n",
              "[150 rows x 5 columns]"
            ]
          },
          "metadata": {},
          "execution_count": 3
        }
      ]
    },
    {
      "cell_type": "code",
      "metadata": {
        "id": "96Fbe9iZmtb8"
      },
      "source": [
        "# Preprocessing\n",
        "X = dataset.iloc[:, :-1].values\n",
        "y = dataset.iloc[:, 4].values\n",
        "\n",
        "# Train Test Split\n",
        "from sklearn.model_selection import train_test_split\n",
        "X_train, X_test, y_train, y_test = train_test_split(X, y, test_size=0.20)\n",
        "\n",
        "# Feature Scaling\n",
        "from sklearn.preprocessing import StandardScaler\n",
        "scaler = StandardScaler()\n",
        "scaler.fit(X_train)\n",
        "\n",
        "X_train = scaler.transform(X_train)\n",
        "X_test = scaler.transform(X_test)"
      ],
      "execution_count": 5,
      "outputs": []
    },
    {
      "cell_type": "markdown",
      "metadata": {
        "id": "JTqn67jpnHWR"
      },
      "source": [
        "KNN"
      ]
    },
    {
      "cell_type": "code",
      "metadata": {
        "id": "z02wpT0znAvQ",
        "outputId": "78f9620a-6c85-4c23-9b7c-778a65f614d7",
        "colab": {
          "base_uri": "https://localhost:8080/"
        }
      },
      "source": [
        "from sklearn.neighbors import KNeighborsClassifier\n",
        "classifier = KNeighborsClassifier(n_neighbors=5)\n",
        "classifier.fit(X_train, y_train)"
      ],
      "execution_count": 7,
      "outputs": [
        {
          "output_type": "execute_result",
          "data": {
            "text/plain": [
              "KNeighborsClassifier(algorithm='auto', leaf_size=30, metric='minkowski',\n",
              "                     metric_params=None, n_jobs=None, n_neighbors=5, p=2,\n",
              "                     weights='uniform')"
            ]
          },
          "metadata": {},
          "execution_count": 7
        }
      ]
    },
    {
      "cell_type": "code",
      "metadata": {
        "id": "MoJYuXF0nV2F",
        "outputId": "9011977b-68eb-4863-e412-862315c498e2",
        "colab": {
          "base_uri": "https://localhost:8080/"
        }
      },
      "source": [
        "# predict\n",
        "y_pred = classifier.predict(X_test)\n",
        "\n",
        "# Evaluating\n",
        "from sklearn.metrics import classification_report, confusion_matrix\n",
        "print(classification_report(y_test, y_pred))"
      ],
      "execution_count": 12,
      "outputs": [
        {
          "output_type": "stream",
          "name": "stdout",
          "text": [
            "                 precision    recall  f1-score   support\n",
            "\n",
            "    Iris-setosa       1.00      1.00      1.00         8\n",
            "Iris-versicolor       0.93      0.88      0.90        16\n",
            " Iris-virginica       0.71      0.83      0.77         6\n",
            "\n",
            "       accuracy                           0.90        30\n",
            "      macro avg       0.88      0.90      0.89        30\n",
            "   weighted avg       0.91      0.90      0.90        30\n",
            "\n"
          ]
        }
      ]
    },
    {
      "cell_type": "markdown",
      "metadata": {
        "id": "xHGVuOz4c1Hh"
      },
      "source": [
        "# K-means algorithm\n"
      ]
    },
    {
      "cell_type": "markdown",
      "metadata": {
        "id": "EMAC0YHbeEMg"
      },
      "source": [
        "## K-means: What's it for\n",
        "* Unsupervised Learning for clustering\n",
        "* Non-hierarchical cluster / hierarchical cluster"
      ]
    },
    {
      "cell_type": "markdown",
      "metadata": {
        "id": "QjR2wR7cexoN"
      },
      "source": [
        "![](https://github.com/interkid/My_Research/blob/master/images/k_means.png?raw=1)"
      ]
    },
    {
      "cell_type": "markdown",
      "metadata": {
        "id": "02XWZ8F_fyoB"
      },
      "source": [
        "### The K-means steps are:\n",
        "1. Select the value of K, to decide the number of clusters to be formed.\n",
        "2. Select random K points which will act as centroids\n",
        "3.  Assign each data point, based on their distance from the randomly selected points (Centroid), to the nearest/closest centroid which will form the predefined clusters.\n",
        "4.  place a new centroid of each cluster.\n",
        "5. Repeat step no.3\n",
        "6. If any reassignment occurs, then go to step-4 else go to Step 7.\n",
        "7. Finish\n"
      ]
    },
    {
      "cell_type": "markdown",
      "metadata": {
        "id": "lL8GHXnliInI"
      },
      "source": [
        "Set randomly centeroid in step2, so It is important first value\n",
        "- to use effectively setting automatically initial centroid"
      ]
    },
    {
      "cell_type": "markdown",
      "metadata": {
        "id": "enlhkrv3EduO"
      },
      "source": [
        "### Reference\n",
        "\n",
        "- [KNN (K-Nearest Neighbors) #1](https://towardsdatascience.com/knn-k-nearest-neighbors-1-a4707b24bd1d)\n",
        "- [K Means Clustering Simplified in Python](https://www.analyticsvidhya.com/blog/2021/04/k-means-clustering-simplified-in-python/)\n",
        "- [K-Nearest Neighbors Algorithm in Python and Scikit-Learn](https://stackabuse.com/k-nearest-neighbors-algorithm-in-python-and-scikit-learn/)"
      ]
    },
    {
      "cell_type": "code",
      "metadata": {
        "id": "a-76TDyqn1BD"
      },
      "source": [
        ""
      ],
      "execution_count": null,
      "outputs": []
    }
  ]
}