{
  "nbformat": 4,
  "nbformat_minor": 0,
  "metadata": {
    "colab": {
      "name": "KNN.ipynb",
      "provenance": [],
      "collapsed_sections": [],
      "authorship_tag": "ABX9TyPvs+duGTuKsUafYS+UEZTt",
      "include_colab_link": true
    },
    "kernelspec": {
      "name": "python3",
      "display_name": "Python 3"
    },
    "language_info": {
      "name": "python"
    }
  },
  "cells": [
    {
      "cell_type": "markdown",
      "metadata": {
        "id": "view-in-github",
        "colab_type": "text"
      },
      "source": [
        "<a href=\"https://colab.research.google.com/github/interkid/My_Research/blob/master/_notebooks/2021-10-05-KNN.ipynb\" target=\"_parent\"><img src=\"https://colab.research.google.com/assets/colab-badge.svg\" alt=\"Open In Colab\"/></a>"
      ]
    },
    {
      "cell_type": "markdown",
      "metadata": {
        "id": "Xe2FtcULYiZx"
      },
      "source": [
        "# KNN Algorithm"
      ]
    },
    {
      "cell_type": "markdown",
      "metadata": {
        "id": "wRWYi0Mk-gZ-"
      },
      "source": [
        "## KNN: What's it for\n",
        "* simple classification or regeression algorithm\n",
        "  * simple = low accuracy rather than other Algorithm\n",
        "* Regression\n",
        "  * Find the K closest points to a sample point and return the average value\n"
      ]
    },
    {
      "cell_type": "markdown",
      "metadata": {
        "id": "Zm6JijUR_Gsz"
      },
      "source": [
        "![](https://github.com/interkid/My_Research/blob/master/images/knn.png?raw=1)"
      ]
    },
    {
      "cell_type": "markdown",
      "metadata": {
        "id": "dysEfoVjRBkU"
      },
      "source": [
        "### The KNN’s steps are:\n",
        "1. Receive an unclassified data;\n",
        "2. Measure the distance (Euclidian, Manhattan, Minkowski or Weighted) from \n",
        "the new data to all others data that is already classified;\n",
        "3. Gets the K(K is a parameter that you difine) smaller distances;\n",
        "4. Check the list of classes had the shortest distance and count the amount of each class that appears;\n",
        "5. Takes as correct class the class that appeared the most times;\n",
        "6. Classifies the new data with the class that you took in step 5;"
      ]
    },
    {
      "cell_type": "markdown",
      "metadata": {
        "id": "2vkzNkBPHvL6"
      },
      "source": [
        "### How is it used?\n",
        "* Dimensionality reduction stage\n",
        "  * Avoid sparse data"
      ]
    },
    {
      "cell_type": "code",
      "metadata": {
        "id": "FCZS_7Ha-ZxY"
      },
      "source": [
        ""
      ],
      "execution_count": null,
      "outputs": []
    },
    {
      "cell_type": "markdown",
      "metadata": {
        "id": "enlhkrv3EduO"
      },
      "source": [
        "### Reference\n",
        "\n",
        "[KNN (K-Nearest Neighbors) #1](https://towardsdatascience.com/knn-k-nearest-neighbors-1-a4707b24bd1d)"
      ]
    },
    {
      "cell_type": "code",
      "metadata": {
        "id": "aZZxWFXMEfsN"
      },
      "source": [
        ""
      ],
      "execution_count": null,
      "outputs": []
    }
  ]
}