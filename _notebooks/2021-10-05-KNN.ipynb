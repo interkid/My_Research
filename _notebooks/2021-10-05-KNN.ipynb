{
  "nbformat": 4,
  "nbformat_minor": 0,
  "metadata": {
    "colab": {
      "name": "KNN.ipynb",
      "provenance": [],
      "collapsed_sections": [],
      "authorship_tag": "ABX9TyPuaFkR3Q5ktIg0e8iSXS4f"
    },
    "kernelspec": {
      "name": "python3",
      "display_name": "Python 3"
    },
    "language_info": {
      "name": "python"
    }
  },
  "cells": [
    {
      "cell_type": "markdown",
      "metadata": {
        "id": "Xe2FtcULYiZx"
      },
      "source": [
        "# KNN Algorithm"
      ]
    },
    {
      "cell_type": "markdown",
      "metadata": {
        "id": "wRWYi0Mk-gZ-"
      },
      "source": [
        "## KNN: What's it for\n",
        "* simple classification or regeression algorithm\n",
        "  * simple = low accuracy rather than other Algorithm\n",
        "* Regression\n",
        "  * Find the K closest points to a sample point and return the average value\n"
      ]
    },
    {
      "cell_type": "markdown",
      "metadata": {
        "id": "Zm6JijUR_Gsz"
      },
      "source": [
        "![](https://github.com/interkid/My_Research/blob/master/images/knn.png?raw=1)"
      ]
    },
    {
      "cell_type": "markdown",
      "metadata": {
        "id": "dysEfoVjRBkU"
      },
      "source": [
        "### The KNN’s steps are:\n",
        "1. Receive an unclassified data;\n",
        "2. Measure the distance (Euclidian, Manhattan, Minkowski or Weighted) from \n",
        "the new data to all others data that is already classified;\n",
        "3. Gets the K(K is a parameter that you difine) smaller distances;\n",
        "4. Check the list of classes had the shortest distance and count the amount of each class that appears;\n",
        "5. Takes as correct class the class that appeared the most times;\n",
        "6. Classifies the new data with the class that you took in step 5;"
      ]
    },
    {
      "cell_type": "markdown",
      "metadata": {
        "id": "2vkzNkBPHvL6"
      },
      "source": [
        "### How is it used?\n",
        "* Dimensionality reduction stage\n",
        "  * Avoid sparse data"
      ]
    },
    {
      "cell_type": "markdown",
      "metadata": {
        "id": "xHGVuOz4c1Hh"
      },
      "source": [
        "# K-means algorithm\n"
      ]
    },
    {
      "cell_type": "markdown",
      "metadata": {
        "id": "EMAC0YHbeEMg"
      },
      "source": [
        "## K-means: What's it for\n",
        "* Unsupervised Learning for clustering\n",
        "* Non-hierarchical cluster / hierarchical cluster"
      ]
    },
    {
      "cell_type": "markdown",
      "metadata": {
        "id": "QjR2wR7cexoN"
      },
      "source": [
        "![](https://github.com/interkid/My_Research/blob/master/images/k_means.png?raw=1)"
      ]
    },
    {
      "cell_type": "markdown",
      "metadata": {
        "id": "02XWZ8F_fyoB"
      },
      "source": [
        "### The K-means steps are:\n",
        "1. Select the value of K, to decide the number of clusters to be formed.\n",
        "2. Select random K points which will act as centroids\n",
        "3.  Assign each data point, based on their distance from the randomly selected points (Centroid), to the nearest/closest centroid which will form the predefined clusters.\n",
        "4.  place a new centroid of each cluster.\n",
        "5. Repeat step no.3\n",
        "6. If any reassignment occurs, then go to step-4 else go to Step 7.\n",
        "7. Finish\n"
      ]
    },
    {
      "cell_type": "markdown",
      "metadata": {
        "id": "lL8GHXnliInI"
      },
      "source": [
        "Set randomly centeroid in step2, so It is important first value\n",
        "- to use effectively setting automatically initial centroid"
      ]
    },
    {
      "cell_type": "markdown",
      "metadata": {
        "id": "enlhkrv3EduO"
      },
      "source": [
        "### Reference\n",
        "\n",
        "- [KNN (K-Nearest Neighbors) #1](https://towardsdatascience.com/knn-k-nearest-neighbors-1-a4707b24bd1d)\n",
        "- [K Means Clustering Simplified in Python](https://www.analyticsvidhya.com/blog/2021/04/k-means-clustering-simplified-in-python/)"
      ]
    }
  ]
}