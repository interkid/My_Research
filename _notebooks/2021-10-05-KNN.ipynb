{
  "nbformat": 4,
  "nbformat_minor": 0,
  "metadata": {
    "colab": {
      "name": "KNN.ipynb",
      "provenance": [],
      "authorship_tag": "ABX9TyMCdNaKaV/FcqOefIUWD2Bl",
      "include_colab_link": true
    },
    "kernelspec": {
      "name": "python3",
      "display_name": "Python 3"
    },
    "language_info": {
      "name": "python"
    }
  },
  "cells": [
    {
      "cell_type": "markdown",
      "metadata": {
        "id": "view-in-github",
        "colab_type": "text"
      },
      "source": [
        "<a href=\"https://colab.research.google.com/github/interkid/My_Research/blob/master/_notebooks/2021-10-05-KNN.ipynb\" target=\"_parent\"><img src=\"https://colab.research.google.com/assets/colab-badge.svg\" alt=\"Open In Colab\"/></a>"
      ]
    },
    {
      "cell_type": "markdown",
      "metadata": {
        "id": "wRWYi0Mk-gZ-"
      },
      "source": [
        "KNN: What's it for\n",
        "* simple classification or regeression algorithm\n",
        "* Regression\n",
        "  * Find the K closest points to a sample point and return the average value"
      ]
    },
    {
      "cell_type": "markdown",
      "metadata": {
        "id": "Zm6JijUR_Gsz"
      },
      "source": [
        "![](../images/knn.png)"
      ]
    },
    {
      "cell_type": "code",
      "metadata": {
        "id": "FCZS_7Ha-ZxY"
      },
      "source": [
        ""
      ],
      "execution_count": null,
      "outputs": []
    }
  ]
}
