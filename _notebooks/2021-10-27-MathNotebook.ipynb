{
  "nbformat": 4,
  "nbformat_minor": 5,
  "metadata": {
    "colab": {
      "name": "MathNotebook.ipynb",
      "provenance": [],
      "collapsed_sections": []
    },
    "environment": {
      "name": "common-cu110.m81",
      "type": "gcloud",
      "uri": "gcr.io/deeplearning-platform-release/base-cu110:m81"
    },
    "kernelspec": {
      "display_name": "Python 3 (ipykernel)",
      "language": "python",
      "name": "python3"
    },
    "language_info": {
      "codemirror_mode": {
        "name": "ipython",
        "version": 3
      },
      "file_extension": ".py",
      "mimetype": "text/x-python",
      "name": "python",
      "nbconvert_exporter": "python",
      "pygments_lexer": "ipython3",
      "version": "3.8.5"
    }
  },
  "cells": [
    {
      "cell_type": "markdown",
      "metadata": {
        "id": "VQMdG-tJPnww"
      },
      "source": [
        "# Math for Data Science"
      ],
      "id": "VQMdG-tJPnww"
    },
    {
      "cell_type": "code",
      "metadata": {
        "id": "WYSaSmJiVgVj",
        "colab": {
          "base_uri": "https://localhost:8080/",
          "height": 1000
        },
        "outputId": "2b66ade8-bf2d-48dc-869b-b373366d8633"
      },
      "source": [
        "!pip install d2l\n",
        "!pip install -U pandas_profiling\n",
        "\n",
        "import os\n",
        "os.kill(os.getpid(), 9)"
      ],
      "id": "WYSaSmJiVgVj",
      "execution_count": null,
      "outputs": [
        {
          "output_type": "stream",
          "name": "stdout",
          "text": [
            "Collecting d2l\n",
            "  Downloading d2l-0.17.0-py3-none-any.whl (83 kB)\n",
            "\u001b[?25l\r\u001b[K     |████                            | 10 kB 29.1 MB/s eta 0:00:01\r\u001b[K     |███████▉                        | 20 kB 32.9 MB/s eta 0:00:01\r\u001b[K     |███████████▉                    | 30 kB 13.1 MB/s eta 0:00:01\r\u001b[K     |███████████████▊                | 40 kB 9.8 MB/s eta 0:00:01\r\u001b[K     |███████████████████▊            | 51 kB 5.5 MB/s eta 0:00:01\r\u001b[K     |███████████████████████▋        | 61 kB 5.8 MB/s eta 0:00:01\r\u001b[K     |███████████████████████████▋    | 71 kB 5.7 MB/s eta 0:00:01\r\u001b[K     |███████████████████████████████▌| 81 kB 6.4 MB/s eta 0:00:01\r\u001b[K     |████████████████████████████████| 83 kB 1.5 MB/s \n",
            "\u001b[?25hRequirement already satisfied: pandas in /usr/local/lib/python3.7/dist-packages (from d2l) (1.1.5)\n",
            "Requirement already satisfied: jupyter in /usr/local/lib/python3.7/dist-packages (from d2l) (1.0.0)\n",
            "Requirement already satisfied: numpy in /usr/local/lib/python3.7/dist-packages (from d2l) (1.19.5)\n",
            "Requirement already satisfied: requests in /usr/local/lib/python3.7/dist-packages (from d2l) (2.23.0)\n",
            "Requirement already satisfied: matplotlib in /usr/local/lib/python3.7/dist-packages (from d2l) (3.2.2)\n",
            "Requirement already satisfied: notebook in /usr/local/lib/python3.7/dist-packages (from jupyter->d2l) (5.3.1)\n",
            "Requirement already satisfied: nbconvert in /usr/local/lib/python3.7/dist-packages (from jupyter->d2l) (5.6.1)\n",
            "Requirement already satisfied: qtconsole in /usr/local/lib/python3.7/dist-packages (from jupyter->d2l) (5.1.1)\n",
            "Requirement already satisfied: jupyter-console in /usr/local/lib/python3.7/dist-packages (from jupyter->d2l) (5.2.0)\n",
            "Requirement already satisfied: ipywidgets in /usr/local/lib/python3.7/dist-packages (from jupyter->d2l) (7.6.5)\n",
            "Requirement already satisfied: ipykernel in /usr/local/lib/python3.7/dist-packages (from jupyter->d2l) (4.10.1)\n",
            "Requirement already satisfied: tornado>=4.0 in /usr/local/lib/python3.7/dist-packages (from ipykernel->jupyter->d2l) (5.1.1)\n",
            "Requirement already satisfied: jupyter-client in /usr/local/lib/python3.7/dist-packages (from ipykernel->jupyter->d2l) (5.3.5)\n",
            "Requirement already satisfied: ipython>=4.0.0 in /usr/local/lib/python3.7/dist-packages (from ipykernel->jupyter->d2l) (5.5.0)\n",
            "Requirement already satisfied: traitlets>=4.1.0 in /usr/local/lib/python3.7/dist-packages (from ipykernel->jupyter->d2l) (5.1.0)\n",
            "Requirement already satisfied: simplegeneric>0.8 in /usr/local/lib/python3.7/dist-packages (from ipython>=4.0.0->ipykernel->jupyter->d2l) (0.8.1)\n",
            "Requirement already satisfied: pickleshare in /usr/local/lib/python3.7/dist-packages (from ipython>=4.0.0->ipykernel->jupyter->d2l) (0.7.5)\n",
            "Requirement already satisfied: prompt-toolkit<2.0.0,>=1.0.4 in /usr/local/lib/python3.7/dist-packages (from ipython>=4.0.0->ipykernel->jupyter->d2l) (1.0.18)\n",
            "Requirement already satisfied: pexpect in /usr/local/lib/python3.7/dist-packages (from ipython>=4.0.0->ipykernel->jupyter->d2l) (4.8.0)\n",
            "Requirement already satisfied: setuptools>=18.5 in /usr/local/lib/python3.7/dist-packages (from ipython>=4.0.0->ipykernel->jupyter->d2l) (57.4.0)\n",
            "Requirement already satisfied: decorator in /usr/local/lib/python3.7/dist-packages (from ipython>=4.0.0->ipykernel->jupyter->d2l) (4.4.2)\n",
            "Requirement already satisfied: pygments in /usr/local/lib/python3.7/dist-packages (from ipython>=4.0.0->ipykernel->jupyter->d2l) (2.6.1)\n",
            "Requirement already satisfied: wcwidth in /usr/local/lib/python3.7/dist-packages (from prompt-toolkit<2.0.0,>=1.0.4->ipython>=4.0.0->ipykernel->jupyter->d2l) (0.2.5)\n",
            "Requirement already satisfied: six>=1.9.0 in /usr/local/lib/python3.7/dist-packages (from prompt-toolkit<2.0.0,>=1.0.4->ipython>=4.0.0->ipykernel->jupyter->d2l) (1.15.0)\n",
            "Requirement already satisfied: jupyterlab-widgets>=1.0.0 in /usr/local/lib/python3.7/dist-packages (from ipywidgets->jupyter->d2l) (1.0.2)\n",
            "Requirement already satisfied: ipython-genutils~=0.2.0 in /usr/local/lib/python3.7/dist-packages (from ipywidgets->jupyter->d2l) (0.2.0)\n",
            "Requirement already satisfied: widgetsnbextension~=3.5.0 in /usr/local/lib/python3.7/dist-packages (from ipywidgets->jupyter->d2l) (3.5.1)\n",
            "Requirement already satisfied: nbformat>=4.2.0 in /usr/local/lib/python3.7/dist-packages (from ipywidgets->jupyter->d2l) (5.1.3)\n",
            "Requirement already satisfied: jsonschema!=2.5.0,>=2.4 in /usr/local/lib/python3.7/dist-packages (from nbformat>=4.2.0->ipywidgets->jupyter->d2l) (2.6.0)\n",
            "Requirement already satisfied: jupyter-core in /usr/local/lib/python3.7/dist-packages (from nbformat>=4.2.0->ipywidgets->jupyter->d2l) (4.8.1)\n",
            "Requirement already satisfied: terminado>=0.8.1 in /usr/local/lib/python3.7/dist-packages (from notebook->jupyter->d2l) (0.12.1)\n",
            "Requirement already satisfied: Send2Trash in /usr/local/lib/python3.7/dist-packages (from notebook->jupyter->d2l) (1.8.0)\n",
            "Requirement already satisfied: jinja2 in /usr/local/lib/python3.7/dist-packages (from notebook->jupyter->d2l) (2.11.3)\n",
            "Requirement already satisfied: python-dateutil>=2.1 in /usr/local/lib/python3.7/dist-packages (from jupyter-client->ipykernel->jupyter->d2l) (2.8.2)\n",
            "Requirement already satisfied: pyzmq>=13 in /usr/local/lib/python3.7/dist-packages (from jupyter-client->ipykernel->jupyter->d2l) (22.3.0)\n",
            "Requirement already satisfied: ptyprocess in /usr/local/lib/python3.7/dist-packages (from terminado>=0.8.1->notebook->jupyter->d2l) (0.7.0)\n",
            "Requirement already satisfied: MarkupSafe>=0.23 in /usr/local/lib/python3.7/dist-packages (from jinja2->notebook->jupyter->d2l) (2.0.1)\n",
            "Requirement already satisfied: cycler>=0.10 in /usr/local/lib/python3.7/dist-packages (from matplotlib->d2l) (0.10.0)\n",
            "Requirement already satisfied: kiwisolver>=1.0.1 in /usr/local/lib/python3.7/dist-packages (from matplotlib->d2l) (1.3.2)\n",
            "Requirement already satisfied: pyparsing!=2.0.4,!=2.1.2,!=2.1.6,>=2.0.1 in /usr/local/lib/python3.7/dist-packages (from matplotlib->d2l) (2.4.7)\n",
            "Requirement already satisfied: mistune<2,>=0.8.1 in /usr/local/lib/python3.7/dist-packages (from nbconvert->jupyter->d2l) (0.8.4)\n",
            "Requirement already satisfied: entrypoints>=0.2.2 in /usr/local/lib/python3.7/dist-packages (from nbconvert->jupyter->d2l) (0.3)\n",
            "Requirement already satisfied: testpath in /usr/local/lib/python3.7/dist-packages (from nbconvert->jupyter->d2l) (0.5.0)\n",
            "Requirement already satisfied: bleach in /usr/local/lib/python3.7/dist-packages (from nbconvert->jupyter->d2l) (4.1.0)\n",
            "Requirement already satisfied: pandocfilters>=1.4.1 in /usr/local/lib/python3.7/dist-packages (from nbconvert->jupyter->d2l) (1.5.0)\n",
            "Requirement already satisfied: defusedxml in /usr/local/lib/python3.7/dist-packages (from nbconvert->jupyter->d2l) (0.7.1)\n",
            "Requirement already satisfied: packaging in /usr/local/lib/python3.7/dist-packages (from bleach->nbconvert->jupyter->d2l) (21.0)\n",
            "Requirement already satisfied: webencodings in /usr/local/lib/python3.7/dist-packages (from bleach->nbconvert->jupyter->d2l) (0.5.1)\n",
            "Requirement already satisfied: pytz>=2017.2 in /usr/local/lib/python3.7/dist-packages (from pandas->d2l) (2018.9)\n",
            "Requirement already satisfied: qtpy in /usr/local/lib/python3.7/dist-packages (from qtconsole->jupyter->d2l) (1.11.2)\n",
            "Requirement already satisfied: urllib3!=1.25.0,!=1.25.1,<1.26,>=1.21.1 in /usr/local/lib/python3.7/dist-packages (from requests->d2l) (1.24.3)\n",
            "Requirement already satisfied: chardet<4,>=3.0.2 in /usr/local/lib/python3.7/dist-packages (from requests->d2l) (3.0.4)\n",
            "Requirement already satisfied: idna<3,>=2.5 in /usr/local/lib/python3.7/dist-packages (from requests->d2l) (2.10)\n",
            "Requirement already satisfied: certifi>=2017.4.17 in /usr/local/lib/python3.7/dist-packages (from requests->d2l) (2021.5.30)\n",
            "Installing collected packages: d2l\n",
            "Successfully installed d2l-0.17.0\n",
            "Requirement already satisfied: pandas_profiling in /usr/local/lib/python3.7/dist-packages (1.4.1)\n",
            "Collecting pandas_profiling\n",
            "  Downloading pandas_profiling-3.1.0-py2.py3-none-any.whl (261 kB)\n",
            "\u001b[K     |████████████████████████████████| 261 kB 5.4 MB/s \n",
            "\u001b[?25hCollecting multimethod>=1.4\n",
            "  Downloading multimethod-1.6-py3-none-any.whl (9.4 kB)\n",
            "Requirement already satisfied: numpy>=1.16.0 in /usr/local/lib/python3.7/dist-packages (from pandas_profiling) (1.19.5)\n",
            "Requirement already satisfied: seaborn>=0.10.1 in /usr/local/lib/python3.7/dist-packages (from pandas_profiling) (0.11.2)\n",
            "Requirement already satisfied: jinja2>=2.11.1 in /usr/local/lib/python3.7/dist-packages (from pandas_profiling) (2.11.3)\n",
            "Requirement already satisfied: markupsafe~=2.0.1 in /usr/local/lib/python3.7/dist-packages (from pandas_profiling) (2.0.1)\n",
            "Collecting visions[type_image_path]==0.7.4\n",
            "  Downloading visions-0.7.4-py3-none-any.whl (102 kB)\n",
            "\u001b[K     |████████████████████████████████| 102 kB 12.8 MB/s \n",
            "\u001b[?25hCollecting PyYAML>=5.0.0\n",
            "  Downloading PyYAML-6.0-cp37-cp37m-manylinux_2_5_x86_64.manylinux1_x86_64.manylinux_2_12_x86_64.manylinux2010_x86_64.whl (596 kB)\n",
            "\u001b[K     |████████████████████████████████| 596 kB 49.3 MB/s \n",
            "\u001b[?25hRequirement already satisfied: scipy>=1.4.1 in /usr/local/lib/python3.7/dist-packages (from pandas_profiling) (1.4.1)\n",
            "Requirement already satisfied: pandas!=1.0.0,!=1.0.1,!=1.0.2,!=1.1.0,>=0.25.3 in /usr/local/lib/python3.7/dist-packages (from pandas_profiling) (1.1.5)\n",
            "Collecting htmlmin>=0.1.12\n",
            "  Downloading htmlmin-0.1.12.tar.gz (19 kB)\n",
            "Requirement already satisfied: tqdm>=4.48.2 in /usr/local/lib/python3.7/dist-packages (from pandas_profiling) (4.62.3)\n",
            "Requirement already satisfied: matplotlib>=3.2.0 in /usr/local/lib/python3.7/dist-packages (from pandas_profiling) (3.2.2)\n",
            "Collecting phik>=0.11.1\n",
            "  Downloading phik-0.12.0-cp37-cp37m-manylinux2010_x86_64.whl (675 kB)\n",
            "\u001b[K     |████████████████████████████████| 675 kB 46.4 MB/s \n",
            "\u001b[?25hRequirement already satisfied: missingno>=0.4.2 in /usr/local/lib/python3.7/dist-packages (from pandas_profiling) (0.5.0)\n",
            "Collecting tangled-up-in-unicode==0.1.0\n",
            "  Downloading tangled_up_in_unicode-0.1.0-py3-none-any.whl (3.1 MB)\n",
            "\u001b[K     |████████████████████████████████| 3.1 MB 56.0 MB/s \n",
            "\u001b[?25hCollecting pydantic>=1.8.1\n",
            "  Downloading pydantic-1.8.2-cp37-cp37m-manylinux2014_x86_64.whl (10.1 MB)\n",
            "\u001b[K     |████████████████████████████████| 10.1 MB 77.4 MB/s \n",
            "\u001b[?25hRequirement already satisfied: joblib~=1.0.1 in /usr/local/lib/python3.7/dist-packages (from pandas_profiling) (1.0.1)\n",
            "Collecting requests>=2.24.0\n",
            "  Downloading requests-2.26.0-py2.py3-none-any.whl (62 kB)\n",
            "\u001b[K     |████████████████████████████████| 62 kB 849 kB/s \n",
            "\u001b[?25hRequirement already satisfied: networkx>=2.4 in /usr/local/lib/python3.7/dist-packages (from visions[type_image_path]==0.7.4->pandas_profiling) (2.6.3)\n",
            "Requirement already satisfied: attrs>=19.3.0 in /usr/local/lib/python3.7/dist-packages (from visions[type_image_path]==0.7.4->pandas_profiling) (21.2.0)\n",
            "Collecting imagehash\n",
            "  Downloading ImageHash-4.2.1.tar.gz (812 kB)\n",
            "\u001b[K     |████████████████████████████████| 812 kB 83.8 MB/s \n",
            "\u001b[?25hRequirement already satisfied: Pillow in /usr/local/lib/python3.7/dist-packages (from visions[type_image_path]==0.7.4->pandas_profiling) (7.1.2)\n",
            "Requirement already satisfied: python-dateutil>=2.1 in /usr/local/lib/python3.7/dist-packages (from matplotlib>=3.2.0->pandas_profiling) (2.8.2)\n",
            "Requirement already satisfied: pyparsing!=2.0.4,!=2.1.2,!=2.1.6,>=2.0.1 in /usr/local/lib/python3.7/dist-packages (from matplotlib>=3.2.0->pandas_profiling) (2.4.7)\n",
            "Requirement already satisfied: kiwisolver>=1.0.1 in /usr/local/lib/python3.7/dist-packages (from matplotlib>=3.2.0->pandas_profiling) (1.3.2)\n",
            "Requirement already satisfied: cycler>=0.10 in /usr/local/lib/python3.7/dist-packages (from matplotlib>=3.2.0->pandas_profiling) (0.10.0)\n",
            "Requirement already satisfied: six in /usr/local/lib/python3.7/dist-packages (from cycler>=0.10->matplotlib>=3.2.0->pandas_profiling) (1.15.0)\n",
            "Requirement already satisfied: pytz>=2017.2 in /usr/local/lib/python3.7/dist-packages (from pandas!=1.0.0,!=1.0.1,!=1.0.2,!=1.1.0,>=0.25.3->pandas_profiling) (2018.9)\n",
            "Collecting scipy>=1.4.1\n",
            "  Downloading scipy-1.7.1-cp37-cp37m-manylinux_2_5_x86_64.manylinux1_x86_64.whl (28.5 MB)\n",
            "\u001b[K     |████████████████████████████████| 28.5 MB 49 kB/s \n",
            "\u001b[?25hRequirement already satisfied: typing-extensions>=3.7.4.3 in /usr/local/lib/python3.7/dist-packages (from pydantic>=1.8.1->pandas_profiling) (3.7.4.3)\n",
            "Requirement already satisfied: certifi>=2017.4.17 in /usr/local/lib/python3.7/dist-packages (from requests>=2.24.0->pandas_profiling) (2021.5.30)\n",
            "Requirement already satisfied: urllib3<1.27,>=1.21.1 in /usr/local/lib/python3.7/dist-packages (from requests>=2.24.0->pandas_profiling) (1.24.3)\n",
            "Requirement already satisfied: charset-normalizer~=2.0.0 in /usr/local/lib/python3.7/dist-packages (from requests>=2.24.0->pandas_profiling) (2.0.6)\n",
            "Requirement already satisfied: idna<4,>=2.5 in /usr/local/lib/python3.7/dist-packages (from requests>=2.24.0->pandas_profiling) (2.10)\n",
            "Requirement already satisfied: PyWavelets in /usr/local/lib/python3.7/dist-packages (from imagehash->visions[type_image_path]==0.7.4->pandas_profiling) (1.1.1)\n",
            "Building wheels for collected packages: htmlmin, imagehash\n",
            "  Building wheel for htmlmin (setup.py) ... \u001b[?25l\u001b[?25hdone\n",
            "  Created wheel for htmlmin: filename=htmlmin-0.1.12-py3-none-any.whl size=27098 sha256=b7c3b2b05d41f3398f13252e866d4fe387bbf6ca410bc70584eac03fa0a9ee4d\n",
            "  Stored in directory: /root/.cache/pip/wheels/70/e1/52/5b14d250ba868768823940c3229e9950d201a26d0bd3ee8655\n",
            "  Building wheel for imagehash (setup.py) ... \u001b[?25l\u001b[?25hdone\n",
            "  Created wheel for imagehash: filename=ImageHash-4.2.1-py2.py3-none-any.whl size=295207 sha256=ac7c7cb85efa8bcc38664c9961891f32b4b301615131d775bfefa85f230789a1\n",
            "  Stored in directory: /root/.cache/pip/wheels/4c/d5/59/5e3e297533ddb09407769762985d134135064c6831e29a914e\n",
            "Successfully built htmlmin imagehash\n",
            "Installing collected packages: tangled-up-in-unicode, scipy, multimethod, visions, imagehash, requests, PyYAML, pydantic, phik, htmlmin, pandas-profiling\n",
            "  Attempting uninstall: scipy\n",
            "    Found existing installation: scipy 1.4.1\n",
            "    Uninstalling scipy-1.4.1:\n",
            "      Successfully uninstalled scipy-1.4.1\n",
            "  Attempting uninstall: requests\n",
            "    Found existing installation: requests 2.23.0\n",
            "    Uninstalling requests-2.23.0:\n",
            "      Successfully uninstalled requests-2.23.0\n",
            "  Attempting uninstall: PyYAML\n",
            "    Found existing installation: PyYAML 3.13\n",
            "    Uninstalling PyYAML-3.13:\n",
            "      Successfully uninstalled PyYAML-3.13\n",
            "  Attempting uninstall: pandas-profiling\n",
            "    Found existing installation: pandas-profiling 1.4.1\n",
            "    Uninstalling pandas-profiling-1.4.1:\n",
            "      Successfully uninstalled pandas-profiling-1.4.1\n",
            "\u001b[31mERROR: pip's dependency resolver does not currently take into account all the packages that are installed. This behaviour is the source of the following dependency conflicts.\n",
            "google-colab 1.0.0 requires requests~=2.23.0, but you have requests 2.26.0 which is incompatible.\n",
            "datascience 0.10.6 requires folium==0.2.1, but you have folium 0.8.3 which is incompatible.\n",
            "albumentations 0.1.12 requires imgaug<0.2.7,>=0.2.5, but you have imgaug 0.2.9 which is incompatible.\u001b[0m\n",
            "Successfully installed PyYAML-6.0 htmlmin-0.1.12 imagehash-4.2.1 multimethod-1.6 pandas-profiling-3.1.0 phik-0.12.0 pydantic-1.8.2 requests-2.26.0 scipy-1.7.1 tangled-up-in-unicode-0.1.0 visions-0.7.4\n"
          ]
        },
        {
          "output_type": "display_data",
          "data": {
            "application/vnd.colab-display-data+json": {
              "pip_warning": {
                "packages": [
                  "scipy"
                ]
              }
            }
          },
          "metadata": {}
        }
      ]
    },
    {
      "cell_type": "markdown",
      "metadata": {
        "id": "ObhAx1R6PFPn"
      },
      "source": [
        "## Part 1 Theoretical explanation"
      ],
      "id": "ObhAx1R6PFPn"
    },
    {
      "cell_type": "markdown",
      "metadata": {
        "id": "8GToElo0PIYa"
      },
      "source": [
        "### Differential calculus\n",
        "The best constant approximation for the rate of change"
      ],
      "id": "8GToElo0PIYa"
    },
    {
      "cell_type": "markdown",
      "metadata": {
        "id": "VU-0p_0qA2Iq"
      },
      "source": [
        "![](https://upload.wikimedia.org/wikipedia/commons/3/37/Graph_of_sliding_derivative_line_no_text.gif)"
      ],
      "id": "VU-0p_0qA2Iq"
    },
    {
      "cell_type": "markdown",
      "metadata": {
        "id": "vNVJu3yVBbcX"
      },
      "source": [
        "\n",
        "\n",
        "<div>\n",
        "<img src=\"https://ds055uzetaobb.cloudfront.net/image_optimizer/f1aad8cb82a3d4acf67f2fc6523d8fe10677b478.gif\" width=\"400\"/>\n",
        "</div>"
      ],
      "id": "vNVJu3yVBbcX"
    },
    {
      "cell_type": "markdown",
      "metadata": {
        "id": "CE9AdP77DWfQ"
      },
      "source": [
        "\n",
        "<div>\n",
        "<img src=\"https://mathinsight.org/media/image/image/partial_derivative_as_slope.png\" width=\"400\"/>\n",
        "</div>"
      ],
      "id": "CE9AdP77DWfQ"
    },
    {
      "cell_type": "markdown",
      "metadata": {
        "id": "8gQiKrxNN6-h"
      },
      "source": [
        "$L = lim_{h→0}\\frac{f(a+h) - f(a)}{h}$\n",
        "\n",
        "- Power rules \\\n",
        "$\\frac{d}{dx}x^a=ax^{a-1}$ \n",
        "\n",
        "- Exponential and logarthm \\\n",
        "$\\frac{d}{dx}e^x=e^x$ \\\n",
        "$\\frac{d}{dx}a^x=a^xln(a)$\n",
        "\n",
        "- Sum rule \\\n",
        "$(af+ \\beta g)` = af` + \\beta g`$\n",
        "\n",
        "- Product rule \\\n",
        "$(fg)` = f`g +fg`$\n",
        "\n",
        "- Quotient rule \\\n",
        "$(\\frac{f}{g})` = \\frac{f`g-fg`}{g^2}$"
      ],
      "id": "8gQiKrxNN6-h"
    },
    {
      "cell_type": "markdown",
      "metadata": {
        "id": "rbJGiDHKX18-"
      },
      "source": [
        "### Integral Calculus\n",
        "\n",
        " an integral assigns numbers to functions in a way that describes displacement, area, volume, and other concepts that arise by combining infinitesimal data"
      ],
      "id": "rbJGiDHKX18-"
    },
    {
      "cell_type": "markdown",
      "metadata": {
        "id": "0YGhngpaEG4T"
      },
      "source": [
        "<div>\n",
        "<img src=\"https://upload.wikimedia.org/wikipedia/commons/5/54/Integral_riemann_animada.gif\" width=\"400\"/>\n",
        "</div>"
      ],
      "id": "0YGhngpaEG4T"
    },
    {
      "cell_type": "markdown",
      "metadata": {
        "id": "pfr-x5ZtXPQ1"
      },
      "source": [
        "<div>\n",
        "<img src=\"https://upload.wikimedia.org/wikipedia/commons/thumb/0/0a/Riemann_Integration_and_Darboux_Upper_Sums.gif/600px-Riemann_Integration_and_Darboux_Upper_Sums.gif\" width=\"400\"/>\n",
        "</div>\n"
      ],
      "id": "pfr-x5ZtXPQ1"
    },
    {
      "cell_type": "markdown",
      "metadata": {
        "id": "7cCOIrxXD9iq"
      },
      "source": [
        "#### Application: EM Algorithm"
      ],
      "id": "7cCOIrxXD9iq"
    },
    {
      "cell_type": "markdown",
      "metadata": {
        "id": "iVjmxis5YPC1"
      },
      "source": [
        "${\\displaystyle L({\\boldsymbol {\\theta }};\\mathbf {X} )=p(\\mathbf {X} \\mid {\\boldsymbol {\\theta }})=\\int p(\\mathbf {X} ,\\mathbf {Z} \\mid {\\boldsymbol {\\theta }})\\,d\\mathbf {Z} =\\int p(\\mathbf {Z} \\mid \\mathbf {X} ,{\\boldsymbol {\\theta }})p(\\mathbf {X} \\mid {\\boldsymbol {\\theta }})\\,d\\mathbf {Z} }$ \\\\\n",
        "${\\displaystyle Q({\\boldsymbol {\\theta }}\\mid {\\boldsymbol {\\theta }}^{(t)})=\\operatorname {E} _{\\mathbf {Z} \\mid \\mathbf {X} ,{\\boldsymbol {\\theta }}^{(t)}}\\left[\\log L({\\boldsymbol {\\theta }};\\mathbf {X} ,\\mathbf {Z} )\\right]\\,}$"
      ],
      "id": "iVjmxis5YPC1"
    },
    {
      "cell_type": "markdown",
      "metadata": {
        "id": "eT1RRLR5KDCI"
      },
      "source": [
        "<div>\n",
        "<img src=\"https://upload.wikimedia.org/wikipedia/commons/6/69/EM_Clustering_of_Old_Faithful_data.gif\" width=\"400\"/>\n",
        "</div>"
      ],
      "id": "eT1RRLR5KDCI"
    },
    {
      "cell_type": "code",
      "metadata": {
        "colab": {
          "base_uri": "https://localhost:8080/",
          "height": 244
        },
        "id": "Z2QUBQsWWeBi",
        "outputId": "e456a175-463b-460e-85b3-bb293cced570"
      },
      "source": [
        "%matplotlib inline\n",
        "import torch\n",
        "from IPython import display\n",
        "from mpl_toolkits import mplot3d\n",
        "from d2l import torch as d2l\n",
        "\n",
        "x = torch.arange(-2, 2, 0.01)\n",
        "f = torch.exp(-x**2)\n",
        "\n",
        "d2l.set_figsize()\n",
        "d2l.plt.plot(x, f, color='black')\n",
        "d2l.plt.fill_between(x.tolist(), f.tolist())\n",
        "d2l.plt.show()"
      ],
      "id": "Z2QUBQsWWeBi",
      "execution_count": null,
      "outputs": [
        {
          "output_type": "display_data",
          "data": {
            "text/plain": [
              "<Figure size 252x180 with 1 Axes>"
            ],
            "image/svg+xml": "<?xml version=\"1.0\" encoding=\"utf-8\" standalone=\"no\"?>\n<!DOCTYPE svg PUBLIC \"-//W3C//DTD SVG 1.1//EN\"\n  \"http://www.w3.org/Graphics/SVG/1.1/DTD/svg11.dtd\">\n<!-- Created with matplotlib (https://matplotlib.org/) -->\n<svg height=\"166.978125pt\" version=\"1.1\" viewBox=\"0 0 232.603125 166.978125\" width=\"232.603125pt\" xmlns=\"http://www.w3.org/2000/svg\" xmlns:xlink=\"http://www.w3.org/1999/xlink\">\n <defs>\n  <style type=\"text/css\">\n*{stroke-linecap:butt;stroke-linejoin:round;}\n  </style>\n </defs>\n <g id=\"figure_1\">\n  <g id=\"patch_1\">\n   <path d=\"M 0 166.978125 \nL 232.603125 166.978125 \nL 232.603125 0 \nL 0 0 \nz\n\" style=\"fill:none;\"/>\n  </g>\n  <g id=\"axes_1\">\n   <g id=\"patch_2\">\n    <path d=\"M 30.103125 143.1 \nL 225.403125 143.1 \nL 225.403125 7.2 \nL 30.103125 7.2 \nz\n\" style=\"fill:#ffffff;\"/>\n   </g>\n   <g id=\"PolyCollection_1\">\n    <path clip-path=\"url(#p6a6f5a611e)\" d=\"M 38.980398 136.922727 \nL 38.980398 134.659913 \nL 39.425373 134.567801 \nL 39.870349 134.472431 \nL 40.315325 134.373707 \nL 40.7603 134.271536 \nL 41.205276 134.165822 \nL 41.650252 134.056464 \nL 42.095233 133.943365 \nL 42.540208 133.826423 \nL 42.985184 133.705534 \nL 43.43016 133.580594 \nL 43.875135 133.451496 \nL 44.320111 133.318133 \nL 44.765086 133.180395 \nL 45.210062 133.038169 \nL 45.655043 132.891344 \nL 46.100013 132.739809 \nL 46.544989 132.583445 \nL 46.989965 132.422135 \nL 47.43494 132.255762 \nL 47.879916 132.084207 \nL 48.324892 131.90735 \nL 48.769867 131.725065 \nL 49.214848 131.537233 \nL 49.659824 131.343729 \nL 50.1048 131.14443 \nL 50.549775 130.939207 \nL 50.994751 130.727935 \nL 51.439727 130.510484 \nL 51.884702 130.28673 \nL 52.329678 130.056539 \nL 52.774659 129.819784 \nL 53.219634 129.576335 \nL 53.66461 129.326063 \nL 54.109586 129.068836 \nL 54.554561 128.80452 \nL 54.999537 128.53299 \nL 55.444513 128.254111 \nL 55.889488 127.967752 \nL 56.334469 127.673782 \nL 56.77944 127.372079 \nL 57.224415 127.062501 \nL 57.669391 126.744926 \nL 58.114367 126.419223 \nL 58.559342 126.085264 \nL 59.004318 125.742923 \nL 59.449294 125.392074 \nL 59.894275 125.03259 \nL 60.33925 124.664356 \nL 60.784226 124.28724 \nL 61.229202 123.901133 \nL 61.674177 123.505907 \nL 62.119153 123.101453 \nL 62.564128 122.687652 \nL 63.009104 122.264394 \nL 63.454085 121.831563 \nL 63.899055 121.389071 \nL 64.344031 120.936798 \nL 64.789007 120.474642 \nL 65.233982 120.002516 \nL 65.678958 119.520314 \nL 66.123934 119.027951 \nL 66.568909 118.525338 \nL 67.01389 118.012381 \nL 67.458866 117.489019 \nL 67.903842 116.955167 \nL 68.348817 116.410747 \nL 68.793793 115.855704 \nL 69.238769 115.289964 \nL 69.683744 114.713475 \nL 70.12872 114.126182 \nL 70.573701 113.528034 \nL 71.018676 112.918998 \nL 71.463652 112.299031 \nL 71.908628 111.668107 \nL 72.353603 111.026193 \nL 72.798579 110.373275 \nL 73.243555 109.709336 \nL 73.68853 109.034377 \nL 74.133511 108.34838 \nL 74.578482 107.651381 \nL 75.023457 106.943371 \nL 75.468433 106.224375 \nL 75.913409 105.494422 \nL 76.358384 104.753546 \nL 76.80336 104.001789 \nL 77.248336 103.2392 \nL 77.693317 102.46583 \nL 78.138292 101.681765 \nL 78.583268 100.887062 \nL 79.028243 100.08181 \nL 79.473219 99.266098 \nL 79.918195 98.440018 \nL 80.36317 97.603679 \nL 80.808146 96.757205 \nL 81.253127 95.900697 \nL 81.698103 95.034318 \nL 82.143078 94.158192 \nL 82.588054 93.272468 \nL 83.03303 92.377314 \nL 83.478008 91.47289 \nL 83.922984 90.559378 \nL 84.367959 89.636967 \nL 84.812935 88.705848 \nL 85.257911 87.766224 \nL 85.702886 86.818312 \nL 86.147862 85.862333 \nL 86.592837 84.898518 \nL 87.037816 83.927108 \nL 87.482791 82.948363 \nL 87.927767 81.962531 \nL 88.372743 80.969887 \nL 88.817718 79.970707 \nL 89.262694 78.965276 \nL 89.70767 77.95389 \nL 90.152645 76.936854 \nL 90.597624 75.914474 \nL 91.042599 74.88708 \nL 91.487575 73.855002 \nL 91.932551 72.818573 \nL 92.377526 71.778144 \nL 92.822502 70.734071 \nL 93.267478 69.686706 \nL 93.712453 68.636432 \nL 94.157432 67.583618 \nL 94.602407 66.528646 \nL 95.047383 65.471928 \nL 95.492358 64.413842 \nL 95.937334 63.354805 \nL 96.38231 62.295223 \nL 96.827285 61.235523 \nL 97.272261 60.176126 \nL 97.717239 59.117457 \nL 98.162215 58.059967 \nL 98.607191 57.004089 \nL 99.052166 55.950266 \nL 99.497145 54.898954 \nL 99.94212 53.850609 \nL 100.387096 52.805689 \nL 100.832072 51.764664 \nL 101.27705 50.727984 \nL 101.722026 49.696142 \nL 102.167001 48.669595 \nL 102.611977 47.648828 \nL 103.056952 46.634313 \nL 103.501928 45.626529 \nL 103.946904 44.625961 \nL 104.391879 43.633082 \nL 104.836858 42.648376 \nL 105.281833 41.67233 \nL 105.726809 40.70543 \nL 106.171785 39.748148 \nL 106.616762 38.800968 \nL 107.061737 37.864371 \nL 107.506714 36.938826 \nL 107.95169 36.024821 \nL 108.396666 35.122826 \nL 108.841643 34.233299 \nL 109.286618 33.356724 \nL 109.731594 32.493545 \nL 110.17657 31.644239 \nL 110.621545 30.809241 \nL 111.066522 29.989014 \nL 111.511498 29.183995 \nL 111.956473 28.394623 \nL 112.40145 27.621335 \nL 112.846426 26.864548 \nL 113.291402 26.124684 \nL 113.736379 25.402147 \nL 114.181354 24.69735 \nL 114.626331 24.010683 \nL 115.071307 23.342536 \nL 115.516283 22.693277 \nL 115.96126 22.063282 \nL 116.406235 21.452912 \nL 116.851211 20.862512 \nL 117.296187 20.292423 \nL 117.741164 19.742967 \nL 118.186139 19.214475 \nL 118.631116 18.707236 \nL 119.076092 18.221559 \nL 119.521067 17.757723 \nL 119.966044 17.315993 \nL 120.411019 16.896634 \nL 120.855996 16.499898 \nL 121.300972 16.126004 \nL 121.745948 15.775189 \nL 122.190924 15.447643 \nL 122.6359 15.143581 \nL 123.080876 14.863164 \nL 123.525852 14.60657 \nL 123.970828 14.373952 \nL 124.415804 14.165436 \nL 124.86078 13.981163 \nL 125.305756 13.821234 \nL 125.750733 13.685753 \nL 126.195709 13.574787 \nL 126.640685 13.488416 \nL 127.085661 13.426684 \nL 127.530637 13.389629 \nL 127.975613 13.377273 \nL 128.420589 13.389629 \nL 128.865565 13.426684 \nL 129.310541 13.488416 \nL 129.755517 13.574787 \nL 130.200493 13.685753 \nL 130.645469 13.821234 \nL 131.090445 13.981163 \nL 131.535421 14.165436 \nL 131.980397 14.373952 \nL 132.425374 14.60657 \nL 132.87035 14.863164 \nL 133.315326 15.143581 \nL 133.760302 15.447643 \nL 134.205278 15.775189 \nL 134.650254 16.126004 \nL 135.09523 16.499898 \nL 135.540206 16.896634 \nL 135.985182 17.315993 \nL 136.430158 17.757723 \nL 136.875134 18.221559 \nL 137.32011 18.707236 \nL 137.765086 19.214475 \nL 138.210062 19.742967 \nL 138.655038 20.292423 \nL 139.100015 20.862512 \nL 139.54499 21.452912 \nL 139.989966 22.063282 \nL 140.434943 22.693277 \nL 140.879919 23.342536 \nL 141.324894 24.010683 \nL 141.769871 24.69735 \nL 142.214847 25.402147 \nL 142.659823 26.124677 \nL 143.1048 26.864548 \nL 143.549775 27.621335 \nL 143.994751 28.394623 \nL 144.439728 29.183995 \nL 144.884703 29.989014 \nL 145.329679 30.809241 \nL 145.774656 31.644239 \nL 146.219632 32.493545 \nL 146.664609 33.356724 \nL 147.109584 34.233299 \nL 147.55456 35.122826 \nL 147.999537 36.024828 \nL 148.444513 36.938834 \nL 148.889488 37.864371 \nL 149.334464 38.800968 \nL 149.77944 39.748148 \nL 150.224417 40.70543 \nL 150.669392 41.67233 \nL 151.114368 42.648376 \nL 151.559344 43.633074 \nL 152.004319 44.625954 \nL 152.449298 45.626529 \nL 152.894273 46.634313 \nL 153.339249 47.648828 \nL 153.784224 48.669595 \nL 154.2292 49.696142 \nL 154.674178 50.727992 \nL 155.119154 51.764664 \nL 155.56413 52.805689 \nL 156.009105 53.850609 \nL 156.454081 54.898954 \nL 156.899057 55.950258 \nL 157.344032 57.004082 \nL 157.789008 58.059959 \nL 158.233986 59.117457 \nL 158.678962 60.176126 \nL 159.123938 61.235516 \nL 159.568913 62.295223 \nL 160.013892 63.354805 \nL 160.458867 64.413842 \nL 160.903843 65.471928 \nL 161.348818 66.528646 \nL 161.793797 67.583618 \nL 162.238772 68.636432 \nL 162.683748 69.686706 \nL 163.128724 70.734071 \nL 163.573699 71.778144 \nL 164.018675 72.818573 \nL 164.463651 73.855002 \nL 164.908626 74.88708 \nL 165.353605 75.914482 \nL 165.79858 76.936854 \nL 166.243556 77.95389 \nL 166.688532 78.965276 \nL 167.133507 79.970707 \nL 167.578483 80.969887 \nL 168.023459 81.962531 \nL 168.468434 82.948363 \nL 168.913413 83.927115 \nL 169.358388 84.898518 \nL 169.803364 85.862333 \nL 170.248339 86.818312 \nL 170.693315 87.766224 \nL 171.138291 88.705848 \nL 171.583266 89.636967 \nL 172.028242 90.559378 \nL 172.47322 91.472893 \nL 172.918196 92.377314 \nL 173.363172 93.272468 \nL 173.808147 94.158192 \nL 174.253123 95.034318 \nL 174.698099 95.900697 \nL 175.143074 96.757194 \nL 175.58805 97.603672 \nL 176.033026 98.440007 \nL 176.478001 99.266087 \nL 176.922977 100.081803 \nL 177.367958 100.887062 \nL 177.812933 101.681765 \nL 178.257909 102.46583 \nL 178.702885 103.239193 \nL 179.14786 104.001782 \nL 179.592836 104.753535 \nL 180.037812 105.494415 \nL 180.482787 106.224367 \nL 180.927768 106.943371 \nL 181.372744 107.651381 \nL 181.81772 108.348391 \nL 182.262695 109.034377 \nL 182.707671 109.709336 \nL 183.152647 110.373275 \nL 183.597622 111.026193 \nL 184.042598 111.668107 \nL 184.487579 112.29904 \nL 184.932549 112.918998 \nL 185.377525 113.528034 \nL 185.822501 114.126174 \nL 186.267476 114.713468 \nL 186.712452 115.289957 \nL 187.157427 115.855695 \nL 187.602403 116.410744 \nL 188.047384 116.955167 \nL 188.49236 117.489019 \nL 188.937335 118.012381 \nL 189.382311 118.525331 \nL 189.827287 119.027945 \nL 190.272262 119.520309 \nL 190.717238 120.002511 \nL 191.162214 120.474639 \nL 191.607195 120.936798 \nL 192.05217 121.389071 \nL 192.497146 121.83157 \nL 192.942122 122.264394 \nL 193.387097 122.687652 \nL 193.832073 123.101453 \nL 194.277048 123.505907 \nL 194.722024 123.901133 \nL 195.167005 124.287247 \nL 195.611975 124.664356 \nL 196.056951 125.03259 \nL 196.501927 125.392071 \nL 196.946902 125.74292 \nL 197.391878 126.085258 \nL 197.836854 126.419219 \nL 198.281829 126.744921 \nL 198.72681 127.062501 \nL 199.171786 127.372079 \nL 199.616762 127.673787 \nL 200.061737 127.967752 \nL 200.506713 128.254111 \nL 200.951689 128.53299 \nL 201.396664 128.80452 \nL 201.84164 129.068836 \nL 202.286621 129.326065 \nL 202.731591 129.576335 \nL 203.176567 129.819784 \nL 203.621542 130.056538 \nL 204.066518 130.286727 \nL 204.511494 130.510483 \nL 204.956469 130.727932 \nL 205.401445 130.939204 \nL 205.846426 131.14443 \nL 206.291402 131.343729 \nL 206.736377 131.537233 \nL 207.181353 131.725063 \nL 207.626329 131.907347 \nL 208.071304 132.084205 \nL 208.51628 132.25576 \nL 208.961256 132.422134 \nL 209.406237 132.583445 \nL 209.851212 132.739809 \nL 210.296188 132.891346 \nL 210.741164 133.038169 \nL 211.186139 133.180395 \nL 211.631115 133.318133 \nL 212.07609 133.451496 \nL 212.521066 133.580594 \nL 212.966047 133.705536 \nL 213.411017 133.826423 \nL 213.855993 133.943365 \nL 214.300969 134.056464 \nL 214.745944 134.16582 \nL 215.19092 134.271535 \nL 215.635896 134.373706 \nL 216.080871 134.47243 \nL 216.525852 134.567801 \nL 216.525852 136.922727 \nL 216.525852 136.922727 \nL 216.080871 136.922727 \nL 215.635896 136.922727 \nL 215.19092 136.922727 \nL 214.745944 136.922727 \nL 214.300969 136.922727 \nL 213.855993 136.922727 \nL 213.411017 136.922727 \nL 212.966047 136.922727 \nL 212.521066 136.922727 \nL 212.07609 136.922727 \nL 211.631115 136.922727 \nL 211.186139 136.922727 \nL 210.741164 136.922727 \nL 210.296188 136.922727 \nL 209.851212 136.922727 \nL 209.406237 136.922727 \nL 208.961256 136.922727 \nL 208.51628 136.922727 \nL 208.071304 136.922727 \nL 207.626329 136.922727 \nL 207.181353 136.922727 \nL 206.736377 136.922727 \nL 206.291402 136.922727 \nL 205.846426 136.922727 \nL 205.401445 136.922727 \nL 204.956469 136.922727 \nL 204.511494 136.922727 \nL 204.066518 136.922727 \nL 203.621542 136.922727 \nL 203.176567 136.922727 \nL 202.731591 136.922727 \nL 202.286621 136.922727 \nL 201.84164 136.922727 \nL 201.396664 136.922727 \nL 200.951689 136.922727 \nL 200.506713 136.922727 \nL 200.061737 136.922727 \nL 199.616762 136.922727 \nL 199.171786 136.922727 \nL 198.72681 136.922727 \nL 198.281829 136.922727 \nL 197.836854 136.922727 \nL 197.391878 136.922727 \nL 196.946902 136.922727 \nL 196.501927 136.922727 \nL 196.056951 136.922727 \nL 195.611975 136.922727 \nL 195.167005 136.922727 \nL 194.722024 136.922727 \nL 194.277048 136.922727 \nL 193.832073 136.922727 \nL 193.387097 136.922727 \nL 192.942122 136.922727 \nL 192.497146 136.922727 \nL 192.05217 136.922727 \nL 191.607195 136.922727 \nL 191.162214 136.922727 \nL 190.717238 136.922727 \nL 190.272262 136.922727 \nL 189.827287 136.922727 \nL 189.382311 136.922727 \nL 188.937335 136.922727 \nL 188.49236 136.922727 \nL 188.047384 136.922727 \nL 187.602403 136.922727 \nL 187.157427 136.922727 \nL 186.712452 136.922727 \nL 186.267476 136.922727 \nL 185.822501 136.922727 \nL 185.377525 136.922727 \nL 184.932549 136.922727 \nL 184.487579 136.922727 \nL 184.042598 136.922727 \nL 183.597622 136.922727 \nL 183.152647 136.922727 \nL 182.707671 136.922727 \nL 182.262695 136.922727 \nL 181.81772 136.922727 \nL 181.372744 136.922727 \nL 180.927768 136.922727 \nL 180.482787 136.922727 \nL 180.037812 136.922727 \nL 179.592836 136.922727 \nL 179.14786 136.922727 \nL 178.702885 136.922727 \nL 178.257909 136.922727 \nL 177.812933 136.922727 \nL 177.367958 136.922727 \nL 176.922977 136.922727 \nL 176.478001 136.922727 \nL 176.033026 136.922727 \nL 175.58805 136.922727 \nL 175.143074 136.922727 \nL 174.698099 136.922727 \nL 174.253123 136.922727 \nL 173.808147 136.922727 \nL 173.363172 136.922727 \nL 172.918196 136.922727 \nL 172.47322 136.922727 \nL 172.028242 136.922727 \nL 171.583266 136.922727 \nL 171.138291 136.922727 \nL 170.693315 136.922727 \nL 170.248339 136.922727 \nL 169.803364 136.922727 \nL 169.358388 136.922727 \nL 168.913413 136.922727 \nL 168.468434 136.922727 \nL 168.023459 136.922727 \nL 167.578483 136.922727 \nL 167.133507 136.922727 \nL 166.688532 136.922727 \nL 166.243556 136.922727 \nL 165.79858 136.922727 \nL 165.353605 136.922727 \nL 164.908626 136.922727 \nL 164.463651 136.922727 \nL 164.018675 136.922727 \nL 163.573699 136.922727 \nL 163.128724 136.922727 \nL 162.683748 136.922727 \nL 162.238772 136.922727 \nL 161.793797 136.922727 \nL 161.348818 136.922727 \nL 160.903843 136.922727 \nL 160.458867 136.922727 \nL 160.013892 136.922727 \nL 159.568913 136.922727 \nL 159.123938 136.922727 \nL 158.678962 136.922727 \nL 158.233986 136.922727 \nL 157.789008 136.922727 \nL 157.344032 136.922727 \nL 156.899057 136.922727 \nL 156.454081 136.922727 \nL 156.009105 136.922727 \nL 155.56413 136.922727 \nL 155.119154 136.922727 \nL 154.674178 136.922727 \nL 154.2292 136.922727 \nL 153.784224 136.922727 \nL 153.339249 136.922727 \nL 152.894273 136.922727 \nL 152.449298 136.922727 \nL 152.004319 136.922727 \nL 151.559344 136.922727 \nL 151.114368 136.922727 \nL 150.669392 136.922727 \nL 150.224417 136.922727 \nL 149.77944 136.922727 \nL 149.334464 136.922727 \nL 148.889488 136.922727 \nL 148.444513 136.922727 \nL 147.999537 136.922727 \nL 147.55456 136.922727 \nL 147.109584 136.922727 \nL 146.664609 136.922727 \nL 146.219632 136.922727 \nL 145.774656 136.922727 \nL 145.329679 136.922727 \nL 144.884703 136.922727 \nL 144.439728 136.922727 \nL 143.994751 136.922727 \nL 143.549775 136.922727 \nL 143.1048 136.922727 \nL 142.659823 136.922727 \nL 142.214847 136.922727 \nL 141.769871 136.922727 \nL 141.324894 136.922727 \nL 140.879919 136.922727 \nL 140.434943 136.922727 \nL 139.989966 136.922727 \nL 139.54499 136.922727 \nL 139.100015 136.922727 \nL 138.655038 136.922727 \nL 138.210062 136.922727 \nL 137.765086 136.922727 \nL 137.32011 136.922727 \nL 136.875134 136.922727 \nL 136.430158 136.922727 \nL 135.985182 136.922727 \nL 135.540206 136.922727 \nL 135.09523 136.922727 \nL 134.650254 136.922727 \nL 134.205278 136.922727 \nL 133.760302 136.922727 \nL 133.315326 136.922727 \nL 132.87035 136.922727 \nL 132.425374 136.922727 \nL 131.980397 136.922727 \nL 131.535421 136.922727 \nL 131.090445 136.922727 \nL 130.645469 136.922727 \nL 130.200493 136.922727 \nL 129.755517 136.922727 \nL 129.310541 136.922727 \nL 128.865565 136.922727 \nL 128.420589 136.922727 \nL 127.975613 136.922727 \nL 127.530637 136.922727 \nL 127.085661 136.922727 \nL 126.640685 136.922727 \nL 126.195709 136.922727 \nL 125.750733 136.922727 \nL 125.305756 136.922727 \nL 124.86078 136.922727 \nL 124.415804 136.922727 \nL 123.970828 136.922727 \nL 123.525852 136.922727 \nL 123.080876 136.922727 \nL 122.6359 136.922727 \nL 122.190924 136.922727 \nL 121.745948 136.922727 \nL 121.300972 136.922727 \nL 120.855996 136.922727 \nL 120.411019 136.922727 \nL 119.966044 136.922727 \nL 119.521067 136.922727 \nL 119.076092 136.922727 \nL 118.631116 136.922727 \nL 118.186139 136.922727 \nL 117.741164 136.922727 \nL 117.296187 136.922727 \nL 116.851211 136.922727 \nL 116.406235 136.922727 \nL 115.96126 136.922727 \nL 115.516283 136.922727 \nL 115.071307 136.922727 \nL 114.626331 136.922727 \nL 114.181354 136.922727 \nL 113.736379 136.922727 \nL 113.291402 136.922727 \nL 112.846426 136.922727 \nL 112.40145 136.922727 \nL 111.956473 136.922727 \nL 111.511498 136.922727 \nL 111.066522 136.922727 \nL 110.621545 136.922727 \nL 110.17657 136.922727 \nL 109.731594 136.922727 \nL 109.286618 136.922727 \nL 108.841643 136.922727 \nL 108.396666 136.922727 \nL 107.95169 136.922727 \nL 107.506714 136.922727 \nL 107.061737 136.922727 \nL 106.616762 136.922727 \nL 106.171785 136.922727 \nL 105.726809 136.922727 \nL 105.281833 136.922727 \nL 104.836858 136.922727 \nL 104.391879 136.922727 \nL 103.946904 136.922727 \nL 103.501928 136.922727 \nL 103.056952 136.922727 \nL 102.611977 136.922727 \nL 102.167001 136.922727 \nL 101.722026 136.922727 \nL 101.27705 136.922727 \nL 100.832072 136.922727 \nL 100.387096 136.922727 \nL 99.94212 136.922727 \nL 99.497145 136.922727 \nL 99.052166 136.922727 \nL 98.607191 136.922727 \nL 98.162215 136.922727 \nL 97.717239 136.922727 \nL 97.272261 136.922727 \nL 96.827285 136.922727 \nL 96.38231 136.922727 \nL 95.937334 136.922727 \nL 95.492358 136.922727 \nL 95.047383 136.922727 \nL 94.602407 136.922727 \nL 94.157432 136.922727 \nL 93.712453 136.922727 \nL 93.267478 136.922727 \nL 92.822502 136.922727 \nL 92.377526 136.922727 \nL 91.932551 136.922727 \nL 91.487575 136.922727 \nL 91.042599 136.922727 \nL 90.597624 136.922727 \nL 90.152645 136.922727 \nL 89.70767 136.922727 \nL 89.262694 136.922727 \nL 88.817718 136.922727 \nL 88.372743 136.922727 \nL 87.927767 136.922727 \nL 87.482791 136.922727 \nL 87.037816 136.922727 \nL 86.592837 136.922727 \nL 86.147862 136.922727 \nL 85.702886 136.922727 \nL 85.257911 136.922727 \nL 84.812935 136.922727 \nL 84.367959 136.922727 \nL 83.922984 136.922727 \nL 83.478008 136.922727 \nL 83.03303 136.922727 \nL 82.588054 136.922727 \nL 82.143078 136.922727 \nL 81.698103 136.922727 \nL 81.253127 136.922727 \nL 80.808146 136.922727 \nL 80.36317 136.922727 \nL 79.918195 136.922727 \nL 79.473219 136.922727 \nL 79.028243 136.922727 \nL 78.583268 136.922727 \nL 78.138292 136.922727 \nL 77.693317 136.922727 \nL 77.248336 136.922727 \nL 76.80336 136.922727 \nL 76.358384 136.922727 \nL 75.913409 136.922727 \nL 75.468433 136.922727 \nL 75.023457 136.922727 \nL 74.578482 136.922727 \nL 74.133511 136.922727 \nL 73.68853 136.922727 \nL 73.243555 136.922727 \nL 72.798579 136.922727 \nL 72.353603 136.922727 \nL 71.908628 136.922727 \nL 71.463652 136.922727 \nL 71.018676 136.922727 \nL 70.573701 136.922727 \nL 70.12872 136.922727 \nL 69.683744 136.922727 \nL 69.238769 136.922727 \nL 68.793793 136.922727 \nL 68.348817 136.922727 \nL 67.903842 136.922727 \nL 67.458866 136.922727 \nL 67.01389 136.922727 \nL 66.568909 136.922727 \nL 66.123934 136.922727 \nL 65.678958 136.922727 \nL 65.233982 136.922727 \nL 64.789007 136.922727 \nL 64.344031 136.922727 \nL 63.899055 136.922727 \nL 63.454085 136.922727 \nL 63.009104 136.922727 \nL 62.564128 136.922727 \nL 62.119153 136.922727 \nL 61.674177 136.922727 \nL 61.229202 136.922727 \nL 60.784226 136.922727 \nL 60.33925 136.922727 \nL 59.894275 136.922727 \nL 59.449294 136.922727 \nL 59.004318 136.922727 \nL 58.559342 136.922727 \nL 58.114367 136.922727 \nL 57.669391 136.922727 \nL 57.224415 136.922727 \nL 56.77944 136.922727 \nL 56.334469 136.922727 \nL 55.889488 136.922727 \nL 55.444513 136.922727 \nL 54.999537 136.922727 \nL 54.554561 136.922727 \nL 54.109586 136.922727 \nL 53.66461 136.922727 \nL 53.219634 136.922727 \nL 52.774659 136.922727 \nL 52.329678 136.922727 \nL 51.884702 136.922727 \nL 51.439727 136.922727 \nL 50.994751 136.922727 \nL 50.549775 136.922727 \nL 50.1048 136.922727 \nL 49.659824 136.922727 \nL 49.214848 136.922727 \nL 48.769867 136.922727 \nL 48.324892 136.922727 \nL 47.879916 136.922727 \nL 47.43494 136.922727 \nL 46.989965 136.922727 \nL 46.544989 136.922727 \nL 46.100013 136.922727 \nL 45.655043 136.922727 \nL 45.210062 136.922727 \nL 44.765086 136.922727 \nL 44.320111 136.922727 \nL 43.875135 136.922727 \nL 43.43016 136.922727 \nL 42.985184 136.922727 \nL 42.540208 136.922727 \nL 42.095233 136.922727 \nL 41.650252 136.922727 \nL 41.205276 136.922727 \nL 40.7603 136.922727 \nL 40.315325 136.922727 \nL 39.870349 136.922727 \nL 39.425373 136.922727 \nL 38.980398 136.922727 \nz\n\" style=\"fill:#1f77b4;\"/>\n   </g>\n   <g id=\"matplotlib.axis_1\">\n    <g id=\"xtick_1\">\n     <g id=\"line2d_1\">\n      <defs>\n       <path d=\"M 0 0 \nL 0 3.5 \n\" id=\"m2f0dc9fe39\" style=\"stroke:#000000;stroke-width:0.8;\"/>\n      </defs>\n      <g>\n       <use style=\"stroke:#000000;stroke-width:0.8;\" x=\"38.980398\" xlink:href=\"#m2f0dc9fe39\" y=\"143.1\"/>\n      </g>\n     </g>\n     <g id=\"text_1\">\n      <!-- −2 -->\n      <defs>\n       <path d=\"M 10.59375 35.5 \nL 73.1875 35.5 \nL 73.1875 27.203125 \nL 10.59375 27.203125 \nz\n\" id=\"DejaVuSans-8722\"/>\n       <path d=\"M 19.1875 8.296875 \nL 53.609375 8.296875 \nL 53.609375 0 \nL 7.328125 0 \nL 7.328125 8.296875 \nQ 12.9375 14.109375 22.625 23.890625 \nQ 32.328125 33.6875 34.8125 36.53125 \nQ 39.546875 41.84375 41.421875 45.53125 \nQ 43.3125 49.21875 43.3125 52.78125 \nQ 43.3125 58.59375 39.234375 62.25 \nQ 35.15625 65.921875 28.609375 65.921875 \nQ 23.96875 65.921875 18.8125 64.3125 \nQ 13.671875 62.703125 7.8125 59.421875 \nL 7.8125 69.390625 \nQ 13.765625 71.78125 18.9375 73 \nQ 24.125 74.21875 28.421875 74.21875 \nQ 39.75 74.21875 46.484375 68.546875 \nQ 53.21875 62.890625 53.21875 53.421875 \nQ 53.21875 48.921875 51.53125 44.890625 \nQ 49.859375 40.875 45.40625 35.40625 \nQ 44.1875 33.984375 37.640625 27.21875 \nQ 31.109375 20.453125 19.1875 8.296875 \nz\n\" id=\"DejaVuSans-50\"/>\n      </defs>\n      <g transform=\"translate(31.609304 157.698438)scale(0.1 -0.1)\">\n       <use xlink:href=\"#DejaVuSans-8722\"/>\n       <use x=\"83.789062\" xlink:href=\"#DejaVuSans-50\"/>\n      </g>\n     </g>\n    </g>\n    <g id=\"xtick_2\">\n     <g id=\"line2d_2\">\n      <g>\n       <use style=\"stroke:#000000;stroke-width:0.8;\" x=\"83.478005\" xlink:href=\"#m2f0dc9fe39\" y=\"143.1\"/>\n      </g>\n     </g>\n     <g id=\"text_2\">\n      <!-- −1 -->\n      <defs>\n       <path d=\"M 12.40625 8.296875 \nL 28.515625 8.296875 \nL 28.515625 63.921875 \nL 10.984375 60.40625 \nL 10.984375 69.390625 \nL 28.421875 72.90625 \nL 38.28125 72.90625 \nL 38.28125 8.296875 \nL 54.390625 8.296875 \nL 54.390625 0 \nL 12.40625 0 \nz\n\" id=\"DejaVuSans-49\"/>\n      </defs>\n      <g transform=\"translate(76.106912 157.698438)scale(0.1 -0.1)\">\n       <use xlink:href=\"#DejaVuSans-8722\"/>\n       <use x=\"83.789062\" xlink:href=\"#DejaVuSans-49\"/>\n      </g>\n     </g>\n    </g>\n    <g id=\"xtick_3\">\n     <g id=\"line2d_3\">\n      <g>\n       <use style=\"stroke:#000000;stroke-width:0.8;\" x=\"127.975613\" xlink:href=\"#m2f0dc9fe39\" y=\"143.1\"/>\n      </g>\n     </g>\n     <g id=\"text_3\">\n      <!-- 0 -->\n      <defs>\n       <path d=\"M 31.78125 66.40625 \nQ 24.171875 66.40625 20.328125 58.90625 \nQ 16.5 51.421875 16.5 36.375 \nQ 16.5 21.390625 20.328125 13.890625 \nQ 24.171875 6.390625 31.78125 6.390625 \nQ 39.453125 6.390625 43.28125 13.890625 \nQ 47.125 21.390625 47.125 36.375 \nQ 47.125 51.421875 43.28125 58.90625 \nQ 39.453125 66.40625 31.78125 66.40625 \nz\nM 31.78125 74.21875 \nQ 44.046875 74.21875 50.515625 64.515625 \nQ 56.984375 54.828125 56.984375 36.375 \nQ 56.984375 17.96875 50.515625 8.265625 \nQ 44.046875 -1.421875 31.78125 -1.421875 \nQ 19.53125 -1.421875 13.0625 8.265625 \nQ 6.59375 17.96875 6.59375 36.375 \nQ 6.59375 54.828125 13.0625 64.515625 \nQ 19.53125 74.21875 31.78125 74.21875 \nz\n\" id=\"DejaVuSans-48\"/>\n      </defs>\n      <g transform=\"translate(124.794363 157.698438)scale(0.1 -0.1)\">\n       <use xlink:href=\"#DejaVuSans-48\"/>\n      </g>\n     </g>\n    </g>\n    <g id=\"xtick_4\">\n     <g id=\"line2d_4\">\n      <g>\n       <use style=\"stroke:#000000;stroke-width:0.8;\" x=\"172.47322\" xlink:href=\"#m2f0dc9fe39\" y=\"143.1\"/>\n      </g>\n     </g>\n     <g id=\"text_4\">\n      <!-- 1 -->\n      <g transform=\"translate(169.29197 157.698438)scale(0.1 -0.1)\">\n       <use xlink:href=\"#DejaVuSans-49\"/>\n      </g>\n     </g>\n    </g>\n    <g id=\"xtick_5\">\n     <g id=\"line2d_5\">\n      <g>\n       <use style=\"stroke:#000000;stroke-width:0.8;\" x=\"216.970828\" xlink:href=\"#m2f0dc9fe39\" y=\"143.1\"/>\n      </g>\n     </g>\n     <g id=\"text_5\">\n      <!-- 2 -->\n      <g transform=\"translate(213.789578 157.698438)scale(0.1 -0.1)\">\n       <use xlink:href=\"#DejaVuSans-50\"/>\n      </g>\n     </g>\n    </g>\n   </g>\n   <g id=\"matplotlib.axis_2\">\n    <g id=\"ytick_1\">\n     <g id=\"line2d_6\">\n      <defs>\n       <path d=\"M 0 0 \nL -3.5 0 \n\" id=\"mc168dcd812\" style=\"stroke:#000000;stroke-width:0.8;\"/>\n      </defs>\n      <g>\n       <use style=\"stroke:#000000;stroke-width:0.8;\" x=\"30.103125\" xlink:href=\"#mc168dcd812\" y=\"136.922727\"/>\n      </g>\n     </g>\n     <g id=\"text_6\">\n      <!-- 0.0 -->\n      <defs>\n       <path d=\"M 10.6875 12.40625 \nL 21 12.40625 \nL 21 0 \nL 10.6875 0 \nz\n\" id=\"DejaVuSans-46\"/>\n      </defs>\n      <g transform=\"translate(7.2 140.721946)scale(0.1 -0.1)\">\n       <use xlink:href=\"#DejaVuSans-48\"/>\n       <use x=\"63.623047\" xlink:href=\"#DejaVuSans-46\"/>\n       <use x=\"95.410156\" xlink:href=\"#DejaVuSans-48\"/>\n      </g>\n     </g>\n    </g>\n    <g id=\"ytick_2\">\n     <g id=\"line2d_7\">\n      <g>\n       <use style=\"stroke:#000000;stroke-width:0.8;\" x=\"30.103125\" xlink:href=\"#mc168dcd812\" y=\"112.213636\"/>\n      </g>\n     </g>\n     <g id=\"text_7\">\n      <!-- 0.2 -->\n      <g transform=\"translate(7.2 116.012855)scale(0.1 -0.1)\">\n       <use xlink:href=\"#DejaVuSans-48\"/>\n       <use x=\"63.623047\" xlink:href=\"#DejaVuSans-46\"/>\n       <use x=\"95.410156\" xlink:href=\"#DejaVuSans-50\"/>\n      </g>\n     </g>\n    </g>\n    <g id=\"ytick_3\">\n     <g id=\"line2d_8\">\n      <g>\n       <use style=\"stroke:#000000;stroke-width:0.8;\" x=\"30.103125\" xlink:href=\"#mc168dcd812\" y=\"87.504545\"/>\n      </g>\n     </g>\n     <g id=\"text_8\">\n      <!-- 0.4 -->\n      <defs>\n       <path d=\"M 37.796875 64.3125 \nL 12.890625 25.390625 \nL 37.796875 25.390625 \nz\nM 35.203125 72.90625 \nL 47.609375 72.90625 \nL 47.609375 25.390625 \nL 58.015625 25.390625 \nL 58.015625 17.1875 \nL 47.609375 17.1875 \nL 47.609375 0 \nL 37.796875 0 \nL 37.796875 17.1875 \nL 4.890625 17.1875 \nL 4.890625 26.703125 \nz\n\" id=\"DejaVuSans-52\"/>\n      </defs>\n      <g transform=\"translate(7.2 91.303764)scale(0.1 -0.1)\">\n       <use xlink:href=\"#DejaVuSans-48\"/>\n       <use x=\"63.623047\" xlink:href=\"#DejaVuSans-46\"/>\n       <use x=\"95.410156\" xlink:href=\"#DejaVuSans-52\"/>\n      </g>\n     </g>\n    </g>\n    <g id=\"ytick_4\">\n     <g id=\"line2d_9\">\n      <g>\n       <use style=\"stroke:#000000;stroke-width:0.8;\" x=\"30.103125\" xlink:href=\"#mc168dcd812\" y=\"62.795455\"/>\n      </g>\n     </g>\n     <g id=\"text_9\">\n      <!-- 0.6 -->\n      <defs>\n       <path d=\"M 33.015625 40.375 \nQ 26.375 40.375 22.484375 35.828125 \nQ 18.609375 31.296875 18.609375 23.390625 \nQ 18.609375 15.53125 22.484375 10.953125 \nQ 26.375 6.390625 33.015625 6.390625 \nQ 39.65625 6.390625 43.53125 10.953125 \nQ 47.40625 15.53125 47.40625 23.390625 \nQ 47.40625 31.296875 43.53125 35.828125 \nQ 39.65625 40.375 33.015625 40.375 \nz\nM 52.59375 71.296875 \nL 52.59375 62.3125 \nQ 48.875 64.0625 45.09375 64.984375 \nQ 41.3125 65.921875 37.59375 65.921875 \nQ 27.828125 65.921875 22.671875 59.328125 \nQ 17.53125 52.734375 16.796875 39.40625 \nQ 19.671875 43.65625 24.015625 45.921875 \nQ 28.375 48.1875 33.59375 48.1875 \nQ 44.578125 48.1875 50.953125 41.515625 \nQ 57.328125 34.859375 57.328125 23.390625 \nQ 57.328125 12.15625 50.6875 5.359375 \nQ 44.046875 -1.421875 33.015625 -1.421875 \nQ 20.359375 -1.421875 13.671875 8.265625 \nQ 6.984375 17.96875 6.984375 36.375 \nQ 6.984375 53.65625 15.1875 63.9375 \nQ 23.390625 74.21875 37.203125 74.21875 \nQ 40.921875 74.21875 44.703125 73.484375 \nQ 48.484375 72.75 52.59375 71.296875 \nz\n\" id=\"DejaVuSans-54\"/>\n      </defs>\n      <g transform=\"translate(7.2 66.594673)scale(0.1 -0.1)\">\n       <use xlink:href=\"#DejaVuSans-48\"/>\n       <use x=\"63.623047\" xlink:href=\"#DejaVuSans-46\"/>\n       <use x=\"95.410156\" xlink:href=\"#DejaVuSans-54\"/>\n      </g>\n     </g>\n    </g>\n    <g id=\"ytick_5\">\n     <g id=\"line2d_10\">\n      <g>\n       <use style=\"stroke:#000000;stroke-width:0.8;\" x=\"30.103125\" xlink:href=\"#mc168dcd812\" y=\"38.086364\"/>\n      </g>\n     </g>\n     <g id=\"text_10\">\n      <!-- 0.8 -->\n      <defs>\n       <path d=\"M 31.78125 34.625 \nQ 24.75 34.625 20.71875 30.859375 \nQ 16.703125 27.09375 16.703125 20.515625 \nQ 16.703125 13.921875 20.71875 10.15625 \nQ 24.75 6.390625 31.78125 6.390625 \nQ 38.8125 6.390625 42.859375 10.171875 \nQ 46.921875 13.96875 46.921875 20.515625 \nQ 46.921875 27.09375 42.890625 30.859375 \nQ 38.875 34.625 31.78125 34.625 \nz\nM 21.921875 38.8125 \nQ 15.578125 40.375 12.03125 44.71875 \nQ 8.5 49.078125 8.5 55.328125 \nQ 8.5 64.0625 14.71875 69.140625 \nQ 20.953125 74.21875 31.78125 74.21875 \nQ 42.671875 74.21875 48.875 69.140625 \nQ 55.078125 64.0625 55.078125 55.328125 \nQ 55.078125 49.078125 51.53125 44.71875 \nQ 48 40.375 41.703125 38.8125 \nQ 48.828125 37.15625 52.796875 32.3125 \nQ 56.78125 27.484375 56.78125 20.515625 \nQ 56.78125 9.90625 50.3125 4.234375 \nQ 43.84375 -1.421875 31.78125 -1.421875 \nQ 19.734375 -1.421875 13.25 4.234375 \nQ 6.78125 9.90625 6.78125 20.515625 \nQ 6.78125 27.484375 10.78125 32.3125 \nQ 14.796875 37.15625 21.921875 38.8125 \nz\nM 18.3125 54.390625 \nQ 18.3125 48.734375 21.84375 45.5625 \nQ 25.390625 42.390625 31.78125 42.390625 \nQ 38.140625 42.390625 41.71875 45.5625 \nQ 45.3125 48.734375 45.3125 54.390625 \nQ 45.3125 60.0625 41.71875 63.234375 \nQ 38.140625 66.40625 31.78125 66.40625 \nQ 25.390625 66.40625 21.84375 63.234375 \nQ 18.3125 60.0625 18.3125 54.390625 \nz\n\" id=\"DejaVuSans-56\"/>\n      </defs>\n      <g transform=\"translate(7.2 41.885582)scale(0.1 -0.1)\">\n       <use xlink:href=\"#DejaVuSans-48\"/>\n       <use x=\"63.623047\" xlink:href=\"#DejaVuSans-46\"/>\n       <use x=\"95.410156\" xlink:href=\"#DejaVuSans-56\"/>\n      </g>\n     </g>\n    </g>\n    <g id=\"ytick_6\">\n     <g id=\"line2d_11\">\n      <g>\n       <use style=\"stroke:#000000;stroke-width:0.8;\" x=\"30.103125\" xlink:href=\"#mc168dcd812\" y=\"13.377273\"/>\n      </g>\n     </g>\n     <g id=\"text_11\">\n      <!-- 1.0 -->\n      <g transform=\"translate(7.2 17.176491)scale(0.1 -0.1)\">\n       <use xlink:href=\"#DejaVuSans-49\"/>\n       <use x=\"63.623047\" xlink:href=\"#DejaVuSans-46\"/>\n       <use x=\"95.410156\" xlink:href=\"#DejaVuSans-48\"/>\n      </g>\n     </g>\n    </g>\n   </g>\n   <g id=\"line2d_12\">\n    <path clip-path=\"url(#p6a6f5a611e)\" d=\"M 38.980398 134.659913 \nL 42.540208 133.826423 \nL 45.655043 132.891344 \nL 48.769867 131.725065 \nL 51.439727 130.510484 \nL 54.109586 129.068836 \nL 56.77944 127.372079 \nL 59.449294 125.392074 \nL 62.119153 123.101453 \nL 64.789007 120.474642 \nL 67.458866 117.489019 \nL 70.12872 114.126182 \nL 72.798579 110.373275 \nL 75.468433 106.224375 \nL 78.138292 101.681765 \nL 81.253127 95.900697 \nL 84.367959 89.636967 \nL 87.927767 81.962531 \nL 92.377526 71.778144 \nL 105.726809 40.70543 \nL 108.841643 34.233299 \nL 111.511498 29.183995 \nL 113.736379 25.402147 \nL 115.96126 22.063282 \nL 117.741164 19.742967 \nL 119.521067 17.757723 \nL 121.300972 16.126004 \nL 123.080876 14.863164 \nL 124.415804 14.165436 \nL 125.750733 13.685753 \nL 127.085661 13.426684 \nL 128.420589 13.389629 \nL 129.755517 13.574787 \nL 131.090445 13.981163 \nL 132.425374 14.60657 \nL 133.760302 15.447643 \nL 135.09523 16.499898 \nL 136.875134 18.221559 \nL 138.655038 20.292423 \nL 140.434943 22.693277 \nL 142.659823 26.124677 \nL 144.884703 29.989014 \nL 147.55456 35.122826 \nL 150.669392 41.67233 \nL 154.2292 49.696142 \nL 160.458867 64.413842 \nL 166.688532 78.965276 \nL 170.693315 87.766224 \nL 174.253123 95.034318 \nL 177.367958 100.887062 \nL 180.482787 106.224367 \nL 183.152647 110.373275 \nL 185.822501 114.126174 \nL 188.49236 117.489019 \nL 191.162214 120.474639 \nL 193.832073 123.101453 \nL 196.501927 125.392071 \nL 199.171786 127.372079 \nL 201.84164 129.068836 \nL 204.511494 130.510483 \nL 207.181353 131.725063 \nL 210.296188 132.891346 \nL 213.411017 133.826423 \nL 216.525852 134.567801 \nL 216.525852 134.567801 \n\" style=\"fill:none;stroke:#000000;stroke-linecap:square;stroke-width:1.5;\"/>\n   </g>\n   <g id=\"patch_3\">\n    <path d=\"M 30.103125 143.1 \nL 30.103125 7.2 \n\" style=\"fill:none;stroke:#000000;stroke-linecap:square;stroke-linejoin:miter;stroke-width:0.8;\"/>\n   </g>\n   <g id=\"patch_4\">\n    <path d=\"M 225.403125 143.1 \nL 225.403125 7.2 \n\" style=\"fill:none;stroke:#000000;stroke-linecap:square;stroke-linejoin:miter;stroke-width:0.8;\"/>\n   </g>\n   <g id=\"patch_5\">\n    <path d=\"M 30.103125 143.1 \nL 225.403125 143.1 \n\" style=\"fill:none;stroke:#000000;stroke-linecap:square;stroke-linejoin:miter;stroke-width:0.8;\"/>\n   </g>\n   <g id=\"patch_6\">\n    <path d=\"M 30.103125 7.2 \nL 225.403125 7.2 \n\" style=\"fill:none;stroke:#000000;stroke-linecap:square;stroke-linejoin:miter;stroke-width:0.8;\"/>\n   </g>\n  </g>\n </g>\n <defs>\n  <clipPath id=\"p6a6f5a611e\">\n   <rect height=\"135.9\" width=\"195.3\" x=\"30.103125\" y=\"7.2\"/>\n  </clipPath>\n </defs>\n</svg>\n"
          },
          "metadata": {
            "needs_background": "light"
          }
        }
      ]
    },
    {
      "cell_type": "code",
      "metadata": {
        "colab": {
          "base_uri": "https://localhost:8080/",
          "height": 244
        },
        "id": "aia21F47Wgr_",
        "outputId": "91148655-b0e4-4fdb-d57b-713230f04afa"
      },
      "source": [
        "x = torch.arange(-2, 2, 0.01)\n",
        "f = torch.exp(-x**2)\n",
        "\n",
        "d2l.set_figsize()\n",
        "d2l.plt.plot(x, f, color='black')\n",
        "d2l.plt.fill_between(x.tolist()[50:250], f.tolist()[50:250])\n",
        "d2l.plt.show()"
      ],
      "id": "aia21F47Wgr_",
      "execution_count": null,
      "outputs": [
        {
          "output_type": "display_data",
          "data": {
            "text/plain": [
              "<Figure size 252x180 with 1 Axes>"
            ],
            "image/svg+xml": "<?xml version=\"1.0\" encoding=\"utf-8\" standalone=\"no\"?>\n<!DOCTYPE svg PUBLIC \"-//W3C//DTD SVG 1.1//EN\"\n  \"http://www.w3.org/Graphics/SVG/1.1/DTD/svg11.dtd\">\n<!-- Created with matplotlib (https://matplotlib.org/) -->\n<svg height=\"166.978125pt\" version=\"1.1\" viewBox=\"0 0 232.603125 166.978125\" width=\"232.603125pt\" xmlns=\"http://www.w3.org/2000/svg\" xmlns:xlink=\"http://www.w3.org/1999/xlink\">\n <defs>\n  <style type=\"text/css\">\n*{stroke-linecap:butt;stroke-linejoin:round;}\n  </style>\n </defs>\n <g id=\"figure_1\">\n  <g id=\"patch_1\">\n   <path d=\"M 0 166.978125 \nL 232.603125 166.978125 \nL 232.603125 0 \nL 0 0 \nz\n\" style=\"fill:none;\"/>\n  </g>\n  <g id=\"axes_1\">\n   <g id=\"patch_2\">\n    <path d=\"M 30.103125 143.1 \nL 225.403125 143.1 \nL 225.403125 7.2 \nL 30.103125 7.2 \nz\n\" style=\"fill:#ffffff;\"/>\n   </g>\n   <g id=\"PolyCollection_1\">\n    <path clip-path=\"url(#p6e91efdec7)\" d=\"M 61.229202 136.922727 \nL 61.229202 123.901133 \nL 61.674177 123.505907 \nL 62.119153 123.101453 \nL 62.564128 122.687652 \nL 63.009104 122.264394 \nL 63.454085 121.831563 \nL 63.899055 121.389071 \nL 64.344031 120.936798 \nL 64.789007 120.474642 \nL 65.233982 120.002516 \nL 65.678958 119.520314 \nL 66.123934 119.027951 \nL 66.568909 118.525338 \nL 67.01389 118.012381 \nL 67.458866 117.489019 \nL 67.903842 116.955167 \nL 68.348817 116.410747 \nL 68.793793 115.855704 \nL 69.238769 115.289964 \nL 69.683744 114.713475 \nL 70.12872 114.126182 \nL 70.573701 113.528034 \nL 71.018676 112.918998 \nL 71.463652 112.299031 \nL 71.908628 111.668107 \nL 72.353603 111.026193 \nL 72.798579 110.373275 \nL 73.243555 109.709336 \nL 73.68853 109.034377 \nL 74.133511 108.34838 \nL 74.578482 107.651381 \nL 75.023457 106.943371 \nL 75.468433 106.224375 \nL 75.913409 105.494422 \nL 76.358384 104.753546 \nL 76.80336 104.001789 \nL 77.248336 103.2392 \nL 77.693317 102.46583 \nL 78.138292 101.681765 \nL 78.583268 100.887062 \nL 79.028243 100.08181 \nL 79.473219 99.266098 \nL 79.918195 98.440018 \nL 80.36317 97.603679 \nL 80.808146 96.757205 \nL 81.253127 95.900697 \nL 81.698103 95.034318 \nL 82.143078 94.158192 \nL 82.588054 93.272468 \nL 83.03303 92.377314 \nL 83.478008 91.47289 \nL 83.922984 90.559378 \nL 84.367959 89.636967 \nL 84.812935 88.705848 \nL 85.257911 87.766224 \nL 85.702886 86.818312 \nL 86.147862 85.862333 \nL 86.592837 84.898518 \nL 87.037816 83.927108 \nL 87.482791 82.948363 \nL 87.927767 81.962531 \nL 88.372743 80.969887 \nL 88.817718 79.970707 \nL 89.262694 78.965276 \nL 89.70767 77.95389 \nL 90.152645 76.936854 \nL 90.597624 75.914474 \nL 91.042599 74.88708 \nL 91.487575 73.855002 \nL 91.932551 72.818573 \nL 92.377526 71.778144 \nL 92.822502 70.734071 \nL 93.267478 69.686706 \nL 93.712453 68.636432 \nL 94.157432 67.583618 \nL 94.602407 66.528646 \nL 95.047383 65.471928 \nL 95.492358 64.413842 \nL 95.937334 63.354805 \nL 96.38231 62.295223 \nL 96.827285 61.235523 \nL 97.272261 60.176126 \nL 97.717239 59.117457 \nL 98.162215 58.059967 \nL 98.607191 57.004089 \nL 99.052166 55.950266 \nL 99.497145 54.898954 \nL 99.94212 53.850609 \nL 100.387096 52.805689 \nL 100.832072 51.764664 \nL 101.27705 50.727984 \nL 101.722026 49.696142 \nL 102.167001 48.669595 \nL 102.611977 47.648828 \nL 103.056952 46.634313 \nL 103.501928 45.626529 \nL 103.946904 44.625961 \nL 104.391879 43.633082 \nL 104.836858 42.648376 \nL 105.281833 41.67233 \nL 105.726809 40.70543 \nL 106.171785 39.748148 \nL 106.616762 38.800968 \nL 107.061737 37.864371 \nL 107.506714 36.938826 \nL 107.95169 36.024821 \nL 108.396666 35.122826 \nL 108.841643 34.233299 \nL 109.286618 33.356724 \nL 109.731594 32.493545 \nL 110.17657 31.644239 \nL 110.621545 30.809241 \nL 111.066522 29.989014 \nL 111.511498 29.183995 \nL 111.956473 28.394623 \nL 112.40145 27.621335 \nL 112.846426 26.864548 \nL 113.291402 26.124684 \nL 113.736379 25.402147 \nL 114.181354 24.69735 \nL 114.626331 24.010683 \nL 115.071307 23.342536 \nL 115.516283 22.693277 \nL 115.96126 22.063282 \nL 116.406235 21.452912 \nL 116.851211 20.862512 \nL 117.296187 20.292423 \nL 117.741164 19.742967 \nL 118.186139 19.214475 \nL 118.631116 18.707236 \nL 119.076092 18.221559 \nL 119.521067 17.757723 \nL 119.966044 17.315993 \nL 120.411019 16.896634 \nL 120.855996 16.499898 \nL 121.300972 16.126004 \nL 121.745948 15.775189 \nL 122.190924 15.447643 \nL 122.6359 15.143581 \nL 123.080876 14.863164 \nL 123.525852 14.60657 \nL 123.970828 14.373952 \nL 124.415804 14.165436 \nL 124.86078 13.981163 \nL 125.305756 13.821234 \nL 125.750733 13.685753 \nL 126.195709 13.574787 \nL 126.640685 13.488416 \nL 127.085661 13.426684 \nL 127.530637 13.389629 \nL 127.975613 13.377273 \nL 128.420589 13.389629 \nL 128.865565 13.426684 \nL 129.310541 13.488416 \nL 129.755517 13.574787 \nL 130.200493 13.685753 \nL 130.645469 13.821234 \nL 131.090445 13.981163 \nL 131.535421 14.165436 \nL 131.980397 14.373952 \nL 132.425374 14.60657 \nL 132.87035 14.863164 \nL 133.315326 15.143581 \nL 133.760302 15.447643 \nL 134.205278 15.775189 \nL 134.650254 16.126004 \nL 135.09523 16.499898 \nL 135.540206 16.896634 \nL 135.985182 17.315993 \nL 136.430158 17.757723 \nL 136.875134 18.221559 \nL 137.32011 18.707236 \nL 137.765086 19.214475 \nL 138.210062 19.742967 \nL 138.655038 20.292423 \nL 139.100015 20.862512 \nL 139.54499 21.452912 \nL 139.989966 22.063282 \nL 140.434943 22.693277 \nL 140.879919 23.342536 \nL 141.324894 24.010683 \nL 141.769871 24.69735 \nL 142.214847 25.402147 \nL 142.659823 26.124677 \nL 143.1048 26.864548 \nL 143.549775 27.621335 \nL 143.994751 28.394623 \nL 144.439728 29.183995 \nL 144.884703 29.989014 \nL 145.329679 30.809241 \nL 145.774656 31.644239 \nL 146.219632 32.493545 \nL 146.664609 33.356724 \nL 147.109584 34.233299 \nL 147.55456 35.122826 \nL 147.999537 36.024828 \nL 148.444513 36.938834 \nL 148.889488 37.864371 \nL 149.334464 38.800968 \nL 149.77944 39.748148 \nL 149.77944 136.922727 \nL 149.77944 136.922727 \nL 149.334464 136.922727 \nL 148.889488 136.922727 \nL 148.444513 136.922727 \nL 147.999537 136.922727 \nL 147.55456 136.922727 \nL 147.109584 136.922727 \nL 146.664609 136.922727 \nL 146.219632 136.922727 \nL 145.774656 136.922727 \nL 145.329679 136.922727 \nL 144.884703 136.922727 \nL 144.439728 136.922727 \nL 143.994751 136.922727 \nL 143.549775 136.922727 \nL 143.1048 136.922727 \nL 142.659823 136.922727 \nL 142.214847 136.922727 \nL 141.769871 136.922727 \nL 141.324894 136.922727 \nL 140.879919 136.922727 \nL 140.434943 136.922727 \nL 139.989966 136.922727 \nL 139.54499 136.922727 \nL 139.100015 136.922727 \nL 138.655038 136.922727 \nL 138.210062 136.922727 \nL 137.765086 136.922727 \nL 137.32011 136.922727 \nL 136.875134 136.922727 \nL 136.430158 136.922727 \nL 135.985182 136.922727 \nL 135.540206 136.922727 \nL 135.09523 136.922727 \nL 134.650254 136.922727 \nL 134.205278 136.922727 \nL 133.760302 136.922727 \nL 133.315326 136.922727 \nL 132.87035 136.922727 \nL 132.425374 136.922727 \nL 131.980397 136.922727 \nL 131.535421 136.922727 \nL 131.090445 136.922727 \nL 130.645469 136.922727 \nL 130.200493 136.922727 \nL 129.755517 136.922727 \nL 129.310541 136.922727 \nL 128.865565 136.922727 \nL 128.420589 136.922727 \nL 127.975613 136.922727 \nL 127.530637 136.922727 \nL 127.085661 136.922727 \nL 126.640685 136.922727 \nL 126.195709 136.922727 \nL 125.750733 136.922727 \nL 125.305756 136.922727 \nL 124.86078 136.922727 \nL 124.415804 136.922727 \nL 123.970828 136.922727 \nL 123.525852 136.922727 \nL 123.080876 136.922727 \nL 122.6359 136.922727 \nL 122.190924 136.922727 \nL 121.745948 136.922727 \nL 121.300972 136.922727 \nL 120.855996 136.922727 \nL 120.411019 136.922727 \nL 119.966044 136.922727 \nL 119.521067 136.922727 \nL 119.076092 136.922727 \nL 118.631116 136.922727 \nL 118.186139 136.922727 \nL 117.741164 136.922727 \nL 117.296187 136.922727 \nL 116.851211 136.922727 \nL 116.406235 136.922727 \nL 115.96126 136.922727 \nL 115.516283 136.922727 \nL 115.071307 136.922727 \nL 114.626331 136.922727 \nL 114.181354 136.922727 \nL 113.736379 136.922727 \nL 113.291402 136.922727 \nL 112.846426 136.922727 \nL 112.40145 136.922727 \nL 111.956473 136.922727 \nL 111.511498 136.922727 \nL 111.066522 136.922727 \nL 110.621545 136.922727 \nL 110.17657 136.922727 \nL 109.731594 136.922727 \nL 109.286618 136.922727 \nL 108.841643 136.922727 \nL 108.396666 136.922727 \nL 107.95169 136.922727 \nL 107.506714 136.922727 \nL 107.061737 136.922727 \nL 106.616762 136.922727 \nL 106.171785 136.922727 \nL 105.726809 136.922727 \nL 105.281833 136.922727 \nL 104.836858 136.922727 \nL 104.391879 136.922727 \nL 103.946904 136.922727 \nL 103.501928 136.922727 \nL 103.056952 136.922727 \nL 102.611977 136.922727 \nL 102.167001 136.922727 \nL 101.722026 136.922727 \nL 101.27705 136.922727 \nL 100.832072 136.922727 \nL 100.387096 136.922727 \nL 99.94212 136.922727 \nL 99.497145 136.922727 \nL 99.052166 136.922727 \nL 98.607191 136.922727 \nL 98.162215 136.922727 \nL 97.717239 136.922727 \nL 97.272261 136.922727 \nL 96.827285 136.922727 \nL 96.38231 136.922727 \nL 95.937334 136.922727 \nL 95.492358 136.922727 \nL 95.047383 136.922727 \nL 94.602407 136.922727 \nL 94.157432 136.922727 \nL 93.712453 136.922727 \nL 93.267478 136.922727 \nL 92.822502 136.922727 \nL 92.377526 136.922727 \nL 91.932551 136.922727 \nL 91.487575 136.922727 \nL 91.042599 136.922727 \nL 90.597624 136.922727 \nL 90.152645 136.922727 \nL 89.70767 136.922727 \nL 89.262694 136.922727 \nL 88.817718 136.922727 \nL 88.372743 136.922727 \nL 87.927767 136.922727 \nL 87.482791 136.922727 \nL 87.037816 136.922727 \nL 86.592837 136.922727 \nL 86.147862 136.922727 \nL 85.702886 136.922727 \nL 85.257911 136.922727 \nL 84.812935 136.922727 \nL 84.367959 136.922727 \nL 83.922984 136.922727 \nL 83.478008 136.922727 \nL 83.03303 136.922727 \nL 82.588054 136.922727 \nL 82.143078 136.922727 \nL 81.698103 136.922727 \nL 81.253127 136.922727 \nL 80.808146 136.922727 \nL 80.36317 136.922727 \nL 79.918195 136.922727 \nL 79.473219 136.922727 \nL 79.028243 136.922727 \nL 78.583268 136.922727 \nL 78.138292 136.922727 \nL 77.693317 136.922727 \nL 77.248336 136.922727 \nL 76.80336 136.922727 \nL 76.358384 136.922727 \nL 75.913409 136.922727 \nL 75.468433 136.922727 \nL 75.023457 136.922727 \nL 74.578482 136.922727 \nL 74.133511 136.922727 \nL 73.68853 136.922727 \nL 73.243555 136.922727 \nL 72.798579 136.922727 \nL 72.353603 136.922727 \nL 71.908628 136.922727 \nL 71.463652 136.922727 \nL 71.018676 136.922727 \nL 70.573701 136.922727 \nL 70.12872 136.922727 \nL 69.683744 136.922727 \nL 69.238769 136.922727 \nL 68.793793 136.922727 \nL 68.348817 136.922727 \nL 67.903842 136.922727 \nL 67.458866 136.922727 \nL 67.01389 136.922727 \nL 66.568909 136.922727 \nL 66.123934 136.922727 \nL 65.678958 136.922727 \nL 65.233982 136.922727 \nL 64.789007 136.922727 \nL 64.344031 136.922727 \nL 63.899055 136.922727 \nL 63.454085 136.922727 \nL 63.009104 136.922727 \nL 62.564128 136.922727 \nL 62.119153 136.922727 \nL 61.674177 136.922727 \nL 61.229202 136.922727 \nz\n\" style=\"fill:#1f77b4;\"/>\n   </g>\n   <g id=\"matplotlib.axis_1\">\n    <g id=\"xtick_1\">\n     <g id=\"line2d_1\">\n      <defs>\n       <path d=\"M 0 0 \nL 0 3.5 \n\" id=\"m854e85d023\" style=\"stroke:#000000;stroke-width:0.8;\"/>\n      </defs>\n      <g>\n       <use style=\"stroke:#000000;stroke-width:0.8;\" x=\"38.980398\" xlink:href=\"#m854e85d023\" y=\"143.1\"/>\n      </g>\n     </g>\n     <g id=\"text_1\">\n      <!-- −2 -->\n      <defs>\n       <path d=\"M 10.59375 35.5 \nL 73.1875 35.5 \nL 73.1875 27.203125 \nL 10.59375 27.203125 \nz\n\" id=\"DejaVuSans-8722\"/>\n       <path d=\"M 19.1875 8.296875 \nL 53.609375 8.296875 \nL 53.609375 0 \nL 7.328125 0 \nL 7.328125 8.296875 \nQ 12.9375 14.109375 22.625 23.890625 \nQ 32.328125 33.6875 34.8125 36.53125 \nQ 39.546875 41.84375 41.421875 45.53125 \nQ 43.3125 49.21875 43.3125 52.78125 \nQ 43.3125 58.59375 39.234375 62.25 \nQ 35.15625 65.921875 28.609375 65.921875 \nQ 23.96875 65.921875 18.8125 64.3125 \nQ 13.671875 62.703125 7.8125 59.421875 \nL 7.8125 69.390625 \nQ 13.765625 71.78125 18.9375 73 \nQ 24.125 74.21875 28.421875 74.21875 \nQ 39.75 74.21875 46.484375 68.546875 \nQ 53.21875 62.890625 53.21875 53.421875 \nQ 53.21875 48.921875 51.53125 44.890625 \nQ 49.859375 40.875 45.40625 35.40625 \nQ 44.1875 33.984375 37.640625 27.21875 \nQ 31.109375 20.453125 19.1875 8.296875 \nz\n\" id=\"DejaVuSans-50\"/>\n      </defs>\n      <g transform=\"translate(31.609304 157.698438)scale(0.1 -0.1)\">\n       <use xlink:href=\"#DejaVuSans-8722\"/>\n       <use x=\"83.789062\" xlink:href=\"#DejaVuSans-50\"/>\n      </g>\n     </g>\n    </g>\n    <g id=\"xtick_2\">\n     <g id=\"line2d_2\">\n      <g>\n       <use style=\"stroke:#000000;stroke-width:0.8;\" x=\"83.478005\" xlink:href=\"#m854e85d023\" y=\"143.1\"/>\n      </g>\n     </g>\n     <g id=\"text_2\">\n      <!-- −1 -->\n      <defs>\n       <path d=\"M 12.40625 8.296875 \nL 28.515625 8.296875 \nL 28.515625 63.921875 \nL 10.984375 60.40625 \nL 10.984375 69.390625 \nL 28.421875 72.90625 \nL 38.28125 72.90625 \nL 38.28125 8.296875 \nL 54.390625 8.296875 \nL 54.390625 0 \nL 12.40625 0 \nz\n\" id=\"DejaVuSans-49\"/>\n      </defs>\n      <g transform=\"translate(76.106912 157.698438)scale(0.1 -0.1)\">\n       <use xlink:href=\"#DejaVuSans-8722\"/>\n       <use x=\"83.789062\" xlink:href=\"#DejaVuSans-49\"/>\n      </g>\n     </g>\n    </g>\n    <g id=\"xtick_3\">\n     <g id=\"line2d_3\">\n      <g>\n       <use style=\"stroke:#000000;stroke-width:0.8;\" x=\"127.975613\" xlink:href=\"#m854e85d023\" y=\"143.1\"/>\n      </g>\n     </g>\n     <g id=\"text_3\">\n      <!-- 0 -->\n      <defs>\n       <path d=\"M 31.78125 66.40625 \nQ 24.171875 66.40625 20.328125 58.90625 \nQ 16.5 51.421875 16.5 36.375 \nQ 16.5 21.390625 20.328125 13.890625 \nQ 24.171875 6.390625 31.78125 6.390625 \nQ 39.453125 6.390625 43.28125 13.890625 \nQ 47.125 21.390625 47.125 36.375 \nQ 47.125 51.421875 43.28125 58.90625 \nQ 39.453125 66.40625 31.78125 66.40625 \nz\nM 31.78125 74.21875 \nQ 44.046875 74.21875 50.515625 64.515625 \nQ 56.984375 54.828125 56.984375 36.375 \nQ 56.984375 17.96875 50.515625 8.265625 \nQ 44.046875 -1.421875 31.78125 -1.421875 \nQ 19.53125 -1.421875 13.0625 8.265625 \nQ 6.59375 17.96875 6.59375 36.375 \nQ 6.59375 54.828125 13.0625 64.515625 \nQ 19.53125 74.21875 31.78125 74.21875 \nz\n\" id=\"DejaVuSans-48\"/>\n      </defs>\n      <g transform=\"translate(124.794363 157.698438)scale(0.1 -0.1)\">\n       <use xlink:href=\"#DejaVuSans-48\"/>\n      </g>\n     </g>\n    </g>\n    <g id=\"xtick_4\">\n     <g id=\"line2d_4\">\n      <g>\n       <use style=\"stroke:#000000;stroke-width:0.8;\" x=\"172.47322\" xlink:href=\"#m854e85d023\" y=\"143.1\"/>\n      </g>\n     </g>\n     <g id=\"text_4\">\n      <!-- 1 -->\n      <g transform=\"translate(169.29197 157.698438)scale(0.1 -0.1)\">\n       <use xlink:href=\"#DejaVuSans-49\"/>\n      </g>\n     </g>\n    </g>\n    <g id=\"xtick_5\">\n     <g id=\"line2d_5\">\n      <g>\n       <use style=\"stroke:#000000;stroke-width:0.8;\" x=\"216.970828\" xlink:href=\"#m854e85d023\" y=\"143.1\"/>\n      </g>\n     </g>\n     <g id=\"text_5\">\n      <!-- 2 -->\n      <g transform=\"translate(213.789578 157.698438)scale(0.1 -0.1)\">\n       <use xlink:href=\"#DejaVuSans-50\"/>\n      </g>\n     </g>\n    </g>\n   </g>\n   <g id=\"matplotlib.axis_2\">\n    <g id=\"ytick_1\">\n     <g id=\"line2d_6\">\n      <defs>\n       <path d=\"M 0 0 \nL -3.5 0 \n\" id=\"m9a9055917b\" style=\"stroke:#000000;stroke-width:0.8;\"/>\n      </defs>\n      <g>\n       <use style=\"stroke:#000000;stroke-width:0.8;\" x=\"30.103125\" xlink:href=\"#m9a9055917b\" y=\"136.922727\"/>\n      </g>\n     </g>\n     <g id=\"text_6\">\n      <!-- 0.0 -->\n      <defs>\n       <path d=\"M 10.6875 12.40625 \nL 21 12.40625 \nL 21 0 \nL 10.6875 0 \nz\n\" id=\"DejaVuSans-46\"/>\n      </defs>\n      <g transform=\"translate(7.2 140.721946)scale(0.1 -0.1)\">\n       <use xlink:href=\"#DejaVuSans-48\"/>\n       <use x=\"63.623047\" xlink:href=\"#DejaVuSans-46\"/>\n       <use x=\"95.410156\" xlink:href=\"#DejaVuSans-48\"/>\n      </g>\n     </g>\n    </g>\n    <g id=\"ytick_2\">\n     <g id=\"line2d_7\">\n      <g>\n       <use style=\"stroke:#000000;stroke-width:0.8;\" x=\"30.103125\" xlink:href=\"#m9a9055917b\" y=\"112.213636\"/>\n      </g>\n     </g>\n     <g id=\"text_7\">\n      <!-- 0.2 -->\n      <g transform=\"translate(7.2 116.012855)scale(0.1 -0.1)\">\n       <use xlink:href=\"#DejaVuSans-48\"/>\n       <use x=\"63.623047\" xlink:href=\"#DejaVuSans-46\"/>\n       <use x=\"95.410156\" xlink:href=\"#DejaVuSans-50\"/>\n      </g>\n     </g>\n    </g>\n    <g id=\"ytick_3\">\n     <g id=\"line2d_8\">\n      <g>\n       <use style=\"stroke:#000000;stroke-width:0.8;\" x=\"30.103125\" xlink:href=\"#m9a9055917b\" y=\"87.504545\"/>\n      </g>\n     </g>\n     <g id=\"text_8\">\n      <!-- 0.4 -->\n      <defs>\n       <path d=\"M 37.796875 64.3125 \nL 12.890625 25.390625 \nL 37.796875 25.390625 \nz\nM 35.203125 72.90625 \nL 47.609375 72.90625 \nL 47.609375 25.390625 \nL 58.015625 25.390625 \nL 58.015625 17.1875 \nL 47.609375 17.1875 \nL 47.609375 0 \nL 37.796875 0 \nL 37.796875 17.1875 \nL 4.890625 17.1875 \nL 4.890625 26.703125 \nz\n\" id=\"DejaVuSans-52\"/>\n      </defs>\n      <g transform=\"translate(7.2 91.303764)scale(0.1 -0.1)\">\n       <use xlink:href=\"#DejaVuSans-48\"/>\n       <use x=\"63.623047\" xlink:href=\"#DejaVuSans-46\"/>\n       <use x=\"95.410156\" xlink:href=\"#DejaVuSans-52\"/>\n      </g>\n     </g>\n    </g>\n    <g id=\"ytick_4\">\n     <g id=\"line2d_9\">\n      <g>\n       <use style=\"stroke:#000000;stroke-width:0.8;\" x=\"30.103125\" xlink:href=\"#m9a9055917b\" y=\"62.795455\"/>\n      </g>\n     </g>\n     <g id=\"text_9\">\n      <!-- 0.6 -->\n      <defs>\n       <path d=\"M 33.015625 40.375 \nQ 26.375 40.375 22.484375 35.828125 \nQ 18.609375 31.296875 18.609375 23.390625 \nQ 18.609375 15.53125 22.484375 10.953125 \nQ 26.375 6.390625 33.015625 6.390625 \nQ 39.65625 6.390625 43.53125 10.953125 \nQ 47.40625 15.53125 47.40625 23.390625 \nQ 47.40625 31.296875 43.53125 35.828125 \nQ 39.65625 40.375 33.015625 40.375 \nz\nM 52.59375 71.296875 \nL 52.59375 62.3125 \nQ 48.875 64.0625 45.09375 64.984375 \nQ 41.3125 65.921875 37.59375 65.921875 \nQ 27.828125 65.921875 22.671875 59.328125 \nQ 17.53125 52.734375 16.796875 39.40625 \nQ 19.671875 43.65625 24.015625 45.921875 \nQ 28.375 48.1875 33.59375 48.1875 \nQ 44.578125 48.1875 50.953125 41.515625 \nQ 57.328125 34.859375 57.328125 23.390625 \nQ 57.328125 12.15625 50.6875 5.359375 \nQ 44.046875 -1.421875 33.015625 -1.421875 \nQ 20.359375 -1.421875 13.671875 8.265625 \nQ 6.984375 17.96875 6.984375 36.375 \nQ 6.984375 53.65625 15.1875 63.9375 \nQ 23.390625 74.21875 37.203125 74.21875 \nQ 40.921875 74.21875 44.703125 73.484375 \nQ 48.484375 72.75 52.59375 71.296875 \nz\n\" id=\"DejaVuSans-54\"/>\n      </defs>\n      <g transform=\"translate(7.2 66.594673)scale(0.1 -0.1)\">\n       <use xlink:href=\"#DejaVuSans-48\"/>\n       <use x=\"63.623047\" xlink:href=\"#DejaVuSans-46\"/>\n       <use x=\"95.410156\" xlink:href=\"#DejaVuSans-54\"/>\n      </g>\n     </g>\n    </g>\n    <g id=\"ytick_5\">\n     <g id=\"line2d_10\">\n      <g>\n       <use style=\"stroke:#000000;stroke-width:0.8;\" x=\"30.103125\" xlink:href=\"#m9a9055917b\" y=\"38.086364\"/>\n      </g>\n     </g>\n     <g id=\"text_10\">\n      <!-- 0.8 -->\n      <defs>\n       <path d=\"M 31.78125 34.625 \nQ 24.75 34.625 20.71875 30.859375 \nQ 16.703125 27.09375 16.703125 20.515625 \nQ 16.703125 13.921875 20.71875 10.15625 \nQ 24.75 6.390625 31.78125 6.390625 \nQ 38.8125 6.390625 42.859375 10.171875 \nQ 46.921875 13.96875 46.921875 20.515625 \nQ 46.921875 27.09375 42.890625 30.859375 \nQ 38.875 34.625 31.78125 34.625 \nz\nM 21.921875 38.8125 \nQ 15.578125 40.375 12.03125 44.71875 \nQ 8.5 49.078125 8.5 55.328125 \nQ 8.5 64.0625 14.71875 69.140625 \nQ 20.953125 74.21875 31.78125 74.21875 \nQ 42.671875 74.21875 48.875 69.140625 \nQ 55.078125 64.0625 55.078125 55.328125 \nQ 55.078125 49.078125 51.53125 44.71875 \nQ 48 40.375 41.703125 38.8125 \nQ 48.828125 37.15625 52.796875 32.3125 \nQ 56.78125 27.484375 56.78125 20.515625 \nQ 56.78125 9.90625 50.3125 4.234375 \nQ 43.84375 -1.421875 31.78125 -1.421875 \nQ 19.734375 -1.421875 13.25 4.234375 \nQ 6.78125 9.90625 6.78125 20.515625 \nQ 6.78125 27.484375 10.78125 32.3125 \nQ 14.796875 37.15625 21.921875 38.8125 \nz\nM 18.3125 54.390625 \nQ 18.3125 48.734375 21.84375 45.5625 \nQ 25.390625 42.390625 31.78125 42.390625 \nQ 38.140625 42.390625 41.71875 45.5625 \nQ 45.3125 48.734375 45.3125 54.390625 \nQ 45.3125 60.0625 41.71875 63.234375 \nQ 38.140625 66.40625 31.78125 66.40625 \nQ 25.390625 66.40625 21.84375 63.234375 \nQ 18.3125 60.0625 18.3125 54.390625 \nz\n\" id=\"DejaVuSans-56\"/>\n      </defs>\n      <g transform=\"translate(7.2 41.885582)scale(0.1 -0.1)\">\n       <use xlink:href=\"#DejaVuSans-48\"/>\n       <use x=\"63.623047\" xlink:href=\"#DejaVuSans-46\"/>\n       <use x=\"95.410156\" xlink:href=\"#DejaVuSans-56\"/>\n      </g>\n     </g>\n    </g>\n    <g id=\"ytick_6\">\n     <g id=\"line2d_11\">\n      <g>\n       <use style=\"stroke:#000000;stroke-width:0.8;\" x=\"30.103125\" xlink:href=\"#m9a9055917b\" y=\"13.377273\"/>\n      </g>\n     </g>\n     <g id=\"text_11\">\n      <!-- 1.0 -->\n      <g transform=\"translate(7.2 17.176491)scale(0.1 -0.1)\">\n       <use xlink:href=\"#DejaVuSans-49\"/>\n       <use x=\"63.623047\" xlink:href=\"#DejaVuSans-46\"/>\n       <use x=\"95.410156\" xlink:href=\"#DejaVuSans-48\"/>\n      </g>\n     </g>\n    </g>\n   </g>\n   <g id=\"line2d_12\">\n    <path clip-path=\"url(#p6e91efdec7)\" d=\"M 38.980398 134.659913 \nL 42.540208 133.826423 \nL 45.655043 132.891344 \nL 48.769867 131.725065 \nL 51.439727 130.510484 \nL 54.109586 129.068836 \nL 56.77944 127.372079 \nL 59.449294 125.392074 \nL 62.119153 123.101453 \nL 64.789007 120.474642 \nL 67.458866 117.489019 \nL 70.12872 114.126182 \nL 72.798579 110.373275 \nL 75.468433 106.224375 \nL 78.138292 101.681765 \nL 81.253127 95.900697 \nL 84.367959 89.636967 \nL 87.927767 81.962531 \nL 92.377526 71.778144 \nL 105.726809 40.70543 \nL 108.841643 34.233299 \nL 111.511498 29.183995 \nL 113.736379 25.402147 \nL 115.96126 22.063282 \nL 117.741164 19.742967 \nL 119.521067 17.757723 \nL 121.300972 16.126004 \nL 123.080876 14.863164 \nL 124.415804 14.165436 \nL 125.750733 13.685753 \nL 127.085661 13.426684 \nL 128.420589 13.389629 \nL 129.755517 13.574787 \nL 131.090445 13.981163 \nL 132.425374 14.60657 \nL 133.760302 15.447643 \nL 135.09523 16.499898 \nL 136.875134 18.221559 \nL 138.655038 20.292423 \nL 140.434943 22.693277 \nL 142.659823 26.124677 \nL 144.884703 29.989014 \nL 147.55456 35.122826 \nL 150.669392 41.67233 \nL 154.2292 49.696142 \nL 160.458867 64.413842 \nL 166.688532 78.965276 \nL 170.693315 87.766224 \nL 174.253123 95.034318 \nL 177.367958 100.887062 \nL 180.482787 106.224367 \nL 183.152647 110.373275 \nL 185.822501 114.126174 \nL 188.49236 117.489019 \nL 191.162214 120.474639 \nL 193.832073 123.101453 \nL 196.501927 125.392071 \nL 199.171786 127.372079 \nL 201.84164 129.068836 \nL 204.511494 130.510483 \nL 207.181353 131.725063 \nL 210.296188 132.891346 \nL 213.411017 133.826423 \nL 216.525852 134.567801 \nL 216.525852 134.567801 \n\" style=\"fill:none;stroke:#000000;stroke-linecap:square;stroke-width:1.5;\"/>\n   </g>\n   <g id=\"patch_3\">\n    <path d=\"M 30.103125 143.1 \nL 30.103125 7.2 \n\" style=\"fill:none;stroke:#000000;stroke-linecap:square;stroke-linejoin:miter;stroke-width:0.8;\"/>\n   </g>\n   <g id=\"patch_4\">\n    <path d=\"M 225.403125 143.1 \nL 225.403125 7.2 \n\" style=\"fill:none;stroke:#000000;stroke-linecap:square;stroke-linejoin:miter;stroke-width:0.8;\"/>\n   </g>\n   <g id=\"patch_5\">\n    <path d=\"M 30.103125 143.1 \nL 225.403125 143.1 \n\" style=\"fill:none;stroke:#000000;stroke-linecap:square;stroke-linejoin:miter;stroke-width:0.8;\"/>\n   </g>\n   <g id=\"patch_6\">\n    <path d=\"M 30.103125 7.2 \nL 225.403125 7.2 \n\" style=\"fill:none;stroke:#000000;stroke-linecap:square;stroke-linejoin:miter;stroke-width:0.8;\"/>\n   </g>\n  </g>\n </g>\n <defs>\n  <clipPath id=\"p6e91efdec7\">\n   <rect height=\"135.9\" width=\"195.3\" x=\"30.103125\" y=\"7.2\"/>\n  </clipPath>\n </defs>\n</svg>\n"
          },
          "metadata": {
            "needs_background": "light"
          }
        }
      ]
    },
    {
      "cell_type": "code",
      "metadata": {
        "colab": {
          "base_uri": "https://localhost:8080/",
          "height": 262
        },
        "id": "UHE-q_EWWgqG",
        "outputId": "45b532eb-2afe-42ec-de60-fb25d1d75a85"
      },
      "source": [
        "from scipy import stats\n",
        "\n",
        "distribution = \"normal\" #@param [\"normal\", \"gamma\", \"uniform\", \"laplace\", \"double weibull\"] {allow-input: true}\n",
        "epsilon = 0.25224 #@param {type:\"slider\", min:0, max:1, step:0.00001}\n",
        "\n",
        "min = -8 #@param {type:\"number\"}\n",
        "max =  8#@param {type:\"number\"}\n",
        "\n",
        "x = torch.arange(min, max, epsilon)\n",
        "\n",
        "#f = x / (1 + x**2)\n",
        "if distribution == \"normal\":\n",
        "  f=torch.tensor(stats.norm(0, 1).pdf(x))\n",
        "elif distribution == \"gamma\":\n",
        "  f = torch.tensor(stats.gamma.pdf(x, 0.6))\n",
        "elif distribution == \"uniform\":\n",
        "  f = torch.tensor(stats.uniform.pdf(x))\n",
        "elif distribution == \"laplace\":\n",
        "  f = torch.tensor(stats.laplace.pdf(x))\n",
        "elif distribution == \"double weibull\":\n",
        "  f = torch.tensor(stats.dweibull.pdf(x, 2.07))\n",
        "approx = torch.sum(epsilon * f)\n",
        "#true = torch.log(torch.tensor([5.])) / 2\n",
        "\n",
        "d2l.set_figsize()\n",
        "d2l.plt.bar(x, f, width=epsilon, align='edge')\n",
        "d2l.plt.plot(x, f, color='black')\n",
        "d2l.plt.show()\n",
        "\n",
        "f'approximation: {approx}'"
      ],
      "id": "UHE-q_EWWgqG",
      "execution_count": null,
      "outputs": [
        {
          "output_type": "display_data",
          "data": {
            "text/plain": [
              "<Figure size 252x180 with 1 Axes>"
            ],
            "image/svg+xml": "<?xml version=\"1.0\" encoding=\"utf-8\" standalone=\"no\"?>\n<!DOCTYPE svg PUBLIC \"-//W3C//DTD SVG 1.1//EN\"\n  \"http://www.w3.org/Graphics/SVG/1.1/DTD/svg11.dtd\">\n<!-- Created with matplotlib (https://matplotlib.org/) -->\n<svg height=\"166.978125pt\" version=\"1.1\" viewBox=\"0 0 232.603125 166.978125\" width=\"232.603125pt\" xmlns=\"http://www.w3.org/2000/svg\" xmlns:xlink=\"http://www.w3.org/1999/xlink\">\n <defs>\n  <style type=\"text/css\">\n*{stroke-linecap:butt;stroke-linejoin:round;}\n  </style>\n </defs>\n <g id=\"figure_1\">\n  <g id=\"patch_1\">\n   <path d=\"M 0 166.978125 \nL 232.603125 166.978125 \nL 232.603125 0 \nL 0 0 \nz\n\" style=\"fill:none;\"/>\n  </g>\n  <g id=\"axes_1\">\n   <g id=\"patch_2\">\n    <path d=\"M 30.103125 143.1 \nL 225.403125 143.1 \nL 225.403125 7.2 \nL 30.103125 7.2 \nz\n\" style=\"fill:#ffffff;\"/>\n   </g>\n   <g id=\"patch_3\">\n    <path clip-path=\"url(#p5d2afe8bdb)\" d=\"M 38.980398 143.1 \nL 41.754547 143.1 \nL 41.754547 143.1 \nL 38.980398 143.1 \nz\n\" style=\"fill:#1f77b4;\"/>\n   </g>\n   <g id=\"patch_4\">\n    <path clip-path=\"url(#p5d2afe8bdb)\" d=\"M 41.754547 143.1 \nL 44.528697 143.1 \nL 44.528697 143.1 \nL 41.754547 143.1 \nz\n\" style=\"fill:#1f77b4;\"/>\n   </g>\n   <g id=\"patch_5\">\n    <path clip-path=\"url(#p5d2afe8bdb)\" d=\"M 44.528692 143.1 \nL 47.302842 143.1 \nL 47.302842 143.1 \nL 44.528692 143.1 \nz\n\" style=\"fill:#1f77b4;\"/>\n   </g>\n   <g id=\"patch_6\">\n    <path clip-path=\"url(#p5d2afe8bdb)\" d=\"M 47.302842 143.1 \nL 50.076991 143.1 \nL 50.076991 143.1 \nL 47.302842 143.1 \nz\n\" style=\"fill:#1f77b4;\"/>\n   </g>\n   <g id=\"patch_7\">\n    <path clip-path=\"url(#p5d2afe8bdb)\" d=\"M 50.076986 143.1 \nL 52.851136 143.1 \nL 52.851136 143.1 \nL 50.076986 143.1 \nz\n\" style=\"fill:#1f77b4;\"/>\n   </g>\n   <g id=\"patch_8\">\n    <path clip-path=\"url(#p5d2afe8bdb)\" d=\"M 52.851136 143.1 \nL 55.625285 143.1 \nL 55.625285 143.1 \nL 52.851136 143.1 \nz\n\" style=\"fill:#1f77b4;\"/>\n   </g>\n   <g id=\"patch_9\">\n    <path clip-path=\"url(#p5d2afe8bdb)\" d=\"M 55.625285 143.1 \nL 58.399435 143.1 \nL 58.399435 143.1 \nL 55.625285 143.1 \nz\n\" style=\"fill:#1f77b4;\"/>\n   </g>\n   <g id=\"patch_10\">\n    <path clip-path=\"url(#p5d2afe8bdb)\" d=\"M 58.39943 143.1 \nL 61.17358 143.1 \nL 61.17358 143.1 \nL 58.39943 143.1 \nz\n\" style=\"fill:#1f77b4;\"/>\n   </g>\n   <g id=\"patch_11\">\n    <path clip-path=\"url(#p5d2afe8bdb)\" d=\"M 61.17358 143.1 \nL 63.947729 143.1 \nL 63.947729 143.099998 \nL 61.17358 143.099998 \nz\n\" style=\"fill:#1f77b4;\"/>\n   </g>\n   <g id=\"patch_12\">\n    <path clip-path=\"url(#p5d2afe8bdb)\" d=\"M 63.947729 143.1 \nL 66.721879 143.1 \nL 66.721879 143.09999 \nL 63.947729 143.09999 \nz\n\" style=\"fill:#1f77b4;\"/>\n   </g>\n   <g id=\"patch_13\">\n    <path clip-path=\"url(#p5d2afe8bdb)\" d=\"M 66.721874 143.1 \nL 69.496023 143.1 \nL 69.496023 143.09996 \nL 66.721874 143.09996 \nz\n\" style=\"fill:#1f77b4;\"/>\n   </g>\n   <g id=\"patch_14\">\n    <path clip-path=\"url(#p5d2afe8bdb)\" d=\"M 69.496023 143.1 \nL 72.270173 143.1 \nL 72.270173 143.099847 \nL 69.496023 143.099847 \nz\n\" style=\"fill:#1f77b4;\"/>\n   </g>\n   <g id=\"patch_15\">\n    <path clip-path=\"url(#p5d2afe8bdb)\" d=\"M 72.270168 143.1 \nL 75.044318 143.1 \nL 75.044318 143.099447 \nL 72.270168 143.099447 \nz\n\" style=\"fill:#1f77b4;\"/>\n   </g>\n   <g id=\"patch_16\">\n    <path clip-path=\"url(#p5d2afe8bdb)\" d=\"M 75.044318 143.1 \nL 77.818467 143.1 \nL 77.818467 143.098122 \nL 75.044318 143.098122 \nz\n\" style=\"fill:#1f77b4;\"/>\n   </g>\n   <g id=\"patch_17\">\n    <path clip-path=\"url(#p5d2afe8bdb)\" d=\"M 77.818467 143.1 \nL 80.592617 143.1 \nL 80.592617 143.094016 \nL 77.818467 143.094016 \nz\n\" style=\"fill:#1f77b4;\"/>\n   </g>\n   <g id=\"patch_18\">\n    <path clip-path=\"url(#p5d2afe8bdb)\" d=\"M 80.592612 143.1 \nL 83.366761 143.1 \nL 83.366761 143.082106 \nL 80.592612 143.082106 \nz\n\" style=\"fill:#1f77b4;\"/>\n   </g>\n   <g id=\"patch_19\">\n    <path clip-path=\"url(#p5d2afe8bdb)\" d=\"M 83.366761 143.1 \nL 86.140911 143.1 \nL 86.140911 143.049792 \nL 83.366761 143.049792 \nz\n\" style=\"fill:#1f77b4;\"/>\n   </g>\n   <g id=\"patch_20\">\n    <path clip-path=\"url(#p5d2afe8bdb)\" d=\"M 86.140908 143.1 \nL 88.915058 143.1 \nL 88.915058 142.967805 \nL 86.140908 142.967805 \nz\n\" style=\"fill:#1f77b4;\"/>\n   </g>\n   <g id=\"patch_21\">\n    <path clip-path=\"url(#p5d2afe8bdb)\" d=\"M 88.915056 143.1 \nL 91.689205 143.1 \nL 91.689205 142.773392 \nL 88.915056 142.773392 \nz\n\" style=\"fill:#1f77b4;\"/>\n   </g>\n   <g id=\"patch_22\">\n    <path clip-path=\"url(#p5d2afe8bdb)\" d=\"M 91.689205 143.1 \nL 94.463355 143.1 \nL 94.463355 142.342807 \nL 91.689205 142.342807 \nz\n\" style=\"fill:#1f77b4;\"/>\n   </g>\n   <g id=\"patch_23\">\n    <path clip-path=\"url(#p5d2afe8bdb)\" d=\"M 94.463352 143.1 \nL 97.237502 143.1 \nL 97.237502 141.452771 \nL 94.463352 141.452771 \nz\n\" style=\"fill:#1f77b4;\"/>\n   </g>\n   <g id=\"patch_24\">\n    <path clip-path=\"url(#p5d2afe8bdb)\" d=\"M 97.237499 143.1 \nL 100.011649 143.1 \nL 100.011649 139.737443 \nL 97.237499 139.737443 \nz\n\" style=\"fill:#1f77b4;\"/>\n   </g>\n   <g id=\"patch_25\">\n    <path clip-path=\"url(#p5d2afe8bdb)\" d=\"M 100.011646 143.1 \nL 102.785796 143.1 \nL 102.785796 136.659 \nL 100.011646 136.659 \nz\n\" style=\"fill:#1f77b4;\"/>\n   </g>\n   <g id=\"patch_26\">\n    <path clip-path=\"url(#p5d2afe8bdb)\" d=\"M 102.785796 143.1 \nL 105.559946 143.1 \nL 105.559946 131.522758 \nL 102.785796 131.522758 \nz\n\" style=\"fill:#1f77b4;\"/>\n   </g>\n   <g id=\"patch_27\">\n    <path clip-path=\"url(#p5d2afe8bdb)\" d=\"M 105.559943 143.1 \nL 108.334093 143.1 \nL 108.334093 123.573487 \nL 105.559943 123.573487 \nz\n\" style=\"fill:#1f77b4;\"/>\n   </g>\n   <g id=\"patch_28\">\n    <path clip-path=\"url(#p5d2afe8bdb)\" d=\"M 108.33409 143.1 \nL 111.10824 143.1 \nL 111.10824 112.196169 \nL 108.33409 112.196169 \nz\n\" style=\"fill:#1f77b4;\"/>\n   </g>\n   <g id=\"patch_29\">\n    <path clip-path=\"url(#p5d2afe8bdb)\" d=\"M 111.108239 143.1 \nL 113.882388 143.1 \nL 113.882388 97.204719 \nL 111.108239 97.204719 \nz\n\" style=\"fill:#1f77b4;\"/>\n   </g>\n   <g id=\"patch_30\">\n    <path clip-path=\"url(#p5d2afe8bdb)\" d=\"M 113.882386 143.1 \nL 116.656535 143.1 \nL 116.656535 79.142471 \nL 113.882386 79.142471 \nz\n\" style=\"fill:#1f77b4;\"/>\n   </g>\n   <g id=\"patch_31\">\n    <path clip-path=\"url(#p5d2afe8bdb)\" d=\"M 116.656534 143.1 \nL 119.430684 143.1 \nL 119.430684 59.4659 \nL 116.656534 59.4659 \nz\n\" style=\"fill:#1f77b4;\"/>\n   </g>\n   <g id=\"patch_32\">\n    <path clip-path=\"url(#p5d2afe8bdb)\" d=\"M 119.430682 143.1 \nL 122.204832 143.1 \nL 122.204832 40.477387 \nL 119.430682 40.477387 \nz\n\" style=\"fill:#1f77b4;\"/>\n   </g>\n   <g id=\"patch_33\">\n    <path clip-path=\"url(#p5d2afe8bdb)\" d=\"M 122.20483 143.1 \nL 124.978979 143.1 \nL 124.978979 24.939925 \nL 122.20483 24.939925 \nz\n\" style=\"fill:#1f77b4;\"/>\n   </g>\n   <g id=\"patch_34\">\n    <path clip-path=\"url(#p5d2afe8bdb)\" d=\"M 124.978977 143.1 \nL 127.753127 143.1 \nL 127.753127 15.436586 \nL 124.978977 15.436586 \nz\n\" style=\"fill:#1f77b4;\"/>\n   </g>\n   <g id=\"patch_35\">\n    <path clip-path=\"url(#p5d2afe8bdb)\" d=\"M 127.753124 143.1 \nL 130.527274 143.1 \nL 130.527274 13.671429 \nL 127.753124 13.671429 \nz\n\" style=\"fill:#1f77b4;\"/>\n   </g>\n   <g id=\"patch_36\">\n    <path clip-path=\"url(#p5d2afe8bdb)\" d=\"M 130.527272 143.1 \nL 133.301422 143.1 \nL 133.301422 19.97057 \nL 130.527272 19.97057 \nz\n\" style=\"fill:#1f77b4;\"/>\n   </g>\n   <g id=\"patch_37\">\n    <path clip-path=\"url(#p5d2afe8bdb)\" d=\"M 133.30142 143.1 \nL 136.075569 143.1 \nL 136.075569 33.18383 \nL 133.30142 33.18383 \nz\n\" style=\"fill:#1f77b4;\"/>\n   </g>\n   <g id=\"patch_38\">\n    <path clip-path=\"url(#p5d2afe8bdb)\" d=\"M 136.075568 143.1 \nL 138.849717 143.1 \nL 138.849717 51.027632 \nL 136.075568 51.027632 \nz\n\" style=\"fill:#1f77b4;\"/>\n   </g>\n   <g id=\"patch_39\">\n    <path clip-path=\"url(#p5d2afe8bdb)\" d=\"M 138.849715 143.1 \nL 141.623864 143.1 \nL 141.623864 70.728917 \nL 138.849715 70.728917 \nz\n\" style=\"fill:#1f77b4;\"/>\n   </g>\n   <g id=\"patch_40\">\n    <path clip-path=\"url(#p5d2afe8bdb)\" d=\"M 141.623863 143.1 \nL 144.398013 143.1 \nL 144.398013 89.721204 \nL 141.623863 89.721204 \nz\n\" style=\"fill:#1f77b4;\"/>\n   </g>\n   <g id=\"patch_41\">\n    <path clip-path=\"url(#p5d2afe8bdb)\" d=\"M 144.39801 143.1 \nL 147.17216 143.1 \nL 147.17216 106.156286 \nL 144.39801 106.156286 \nz\n\" style=\"fill:#1f77b4;\"/>\n   </g>\n   <g id=\"patch_42\">\n    <path clip-path=\"url(#p5d2afe8bdb)\" d=\"M 147.172158 143.1 \nL 149.946307 143.1 \nL 149.946307 119.107237 \nL 147.172158 119.107237 \nz\n\" style=\"fill:#1f77b4;\"/>\n   </g>\n   <g id=\"patch_43\">\n    <path clip-path=\"url(#p5d2afe8bdb)\" d=\"M 149.946307 143.1 \nL 152.720457 143.1 \nL 152.720457 128.478634 \nL 149.946307 128.478634 \nz\n\" style=\"fill:#1f77b4;\"/>\n   </g>\n   <g id=\"patch_44\">\n    <path clip-path=\"url(#p5d2afe8bdb)\" d=\"M 152.720454 143.1 \nL 155.494604 143.1 \nL 155.494604 134.738893 \nL 152.720454 134.738893 \nz\n\" style=\"fill:#1f77b4;\"/>\n   </g>\n   <g id=\"patch_45\">\n    <path clip-path=\"url(#p5d2afe8bdb)\" d=\"M 155.494601 143.1 \nL 158.268751 143.1 \nL 158.268751 138.613501 \nL 155.494601 138.613501 \nz\n\" style=\"fill:#1f77b4;\"/>\n   </g>\n   <g id=\"patch_46\">\n    <path clip-path=\"url(#p5d2afe8bdb)\" d=\"M 158.268751 143.1 \nL 161.0429 143.1 \nL 161.0429 140.840985 \nL 158.268751 140.840985 \nz\n\" style=\"fill:#1f77b4;\"/>\n   </g>\n   <g id=\"patch_47\">\n    <path clip-path=\"url(#p5d2afe8bdb)\" d=\"M 161.042898 143.1 \nL 163.817047 143.1 \nL 163.817047 142.032669 \nL 161.042898 142.032669 \nz\n\" style=\"fill:#1f77b4;\"/>\n   </g>\n   <g id=\"patch_48\">\n    <path clip-path=\"url(#p5d2afe8bdb)\" d=\"M 163.817045 143.1 \nL 166.591194 143.1 \nL 166.591194 142.626798 \nL 163.817045 142.626798 \nz\n\" style=\"fill:#1f77b4;\"/>\n   </g>\n   <g id=\"patch_49\">\n    <path clip-path=\"url(#p5d2afe8bdb)\" d=\"M 166.591192 143.1 \nL 169.365342 143.1 \nL 169.365342 142.903138 \nL 166.591192 142.903138 \nz\n\" style=\"fill:#1f77b4;\"/>\n   </g>\n   <g id=\"patch_50\">\n    <path clip-path=\"url(#p5d2afe8bdb)\" d=\"M 169.365342 143.1 \nL 172.139489 143.1 \nL 172.139489 143.02315 \nL 169.365342 143.02315 \nz\n\" style=\"fill:#1f77b4;\"/>\n   </g>\n   <g id=\"patch_51\">\n    <path clip-path=\"url(#p5d2afe8bdb)\" d=\"M 172.139489 143.1 \nL 174.913638 143.1 \nL 174.913638 143.071849 \nL 172.139489 143.071849 \nz\n\" style=\"fill:#1f77b4;\"/>\n   </g>\n   <g id=\"patch_52\">\n    <path clip-path=\"url(#p5d2afe8bdb)\" d=\"M 174.913638 143.1 \nL 177.687788 143.1 \nL 177.687788 143.090324 \nL 174.913638 143.090324 \nz\n\" style=\"fill:#1f77b4;\"/>\n   </g>\n   <g id=\"patch_53\">\n    <path clip-path=\"url(#p5d2afe8bdb)\" d=\"M 177.687783 143.1 \nL 180.461932 143.1 \nL 180.461932 143.096879 \nL 177.687783 143.096879 \nz\n\" style=\"fill:#1f77b4;\"/>\n   </g>\n   <g id=\"patch_54\">\n    <path clip-path=\"url(#p5d2afe8bdb)\" d=\"M 180.461932 143.1 \nL 183.236082 143.1 \nL 183.236082 143.099055 \nL 180.461932 143.099055 \nz\n\" style=\"fill:#1f77b4;\"/>\n   </g>\n   <g id=\"patch_55\">\n    <path clip-path=\"url(#p5d2afe8bdb)\" d=\"M 183.236077 143.1 \nL 186.010227 143.1 \nL 186.010227 143.099732 \nL 183.236077 143.099732 \nz\n\" style=\"fill:#1f77b4;\"/>\n   </g>\n   <g id=\"patch_56\">\n    <path clip-path=\"url(#p5d2afe8bdb)\" d=\"M 186.010227 143.1 \nL 188.784376 143.1 \nL 188.784376 143.099929 \nL 186.010227 143.099929 \nz\n\" style=\"fill:#1f77b4;\"/>\n   </g>\n   <g id=\"patch_57\">\n    <path clip-path=\"url(#p5d2afe8bdb)\" d=\"M 188.784376 143.1 \nL 191.558526 143.1 \nL 191.558526 143.099982 \nL 188.784376 143.099982 \nz\n\" style=\"fill:#1f77b4;\"/>\n   </g>\n   <g id=\"patch_58\">\n    <path clip-path=\"url(#p5d2afe8bdb)\" d=\"M 191.558521 143.1 \nL 194.33267 143.1 \nL 194.33267 143.099996 \nL 191.558521 143.099996 \nz\n\" style=\"fill:#1f77b4;\"/>\n   </g>\n   <g id=\"patch_59\">\n    <path clip-path=\"url(#p5d2afe8bdb)\" d=\"M 194.33267 143.1 \nL 197.10682 143.1 \nL 197.10682 143.099999 \nL 194.33267 143.099999 \nz\n\" style=\"fill:#1f77b4;\"/>\n   </g>\n   <g id=\"patch_60\">\n    <path clip-path=\"url(#p5d2afe8bdb)\" d=\"M 197.10682 143.1 \nL 199.88097 143.1 \nL 199.88097 143.1 \nL 197.10682 143.1 \nz\n\" style=\"fill:#1f77b4;\"/>\n   </g>\n   <g id=\"patch_61\">\n    <path clip-path=\"url(#p5d2afe8bdb)\" d=\"M 199.880965 143.1 \nL 202.655114 143.1 \nL 202.655114 143.1 \nL 199.880965 143.1 \nz\n\" style=\"fill:#1f77b4;\"/>\n   </g>\n   <g id=\"patch_62\">\n    <path clip-path=\"url(#p5d2afe8bdb)\" d=\"M 202.655114 143.1 \nL 205.429264 143.1 \nL 205.429264 143.1 \nL 202.655114 143.1 \nz\n\" style=\"fill:#1f77b4;\"/>\n   </g>\n   <g id=\"patch_63\">\n    <path clip-path=\"url(#p5d2afe8bdb)\" d=\"M 205.429259 143.1 \nL 208.203408 143.1 \nL 208.203408 143.1 \nL 205.429259 143.1 \nz\n\" style=\"fill:#1f77b4;\"/>\n   </g>\n   <g id=\"patch_64\">\n    <path clip-path=\"url(#p5d2afe8bdb)\" d=\"M 208.203408 143.1 \nL 210.977558 143.1 \nL 210.977558 143.1 \nL 208.203408 143.1 \nz\n\" style=\"fill:#1f77b4;\"/>\n   </g>\n   <g id=\"patch_65\">\n    <path clip-path=\"url(#p5d2afe8bdb)\" d=\"M 210.977558 143.1 \nL 213.751708 143.1 \nL 213.751708 143.1 \nL 210.977558 143.1 \nz\n\" style=\"fill:#1f77b4;\"/>\n   </g>\n   <g id=\"patch_66\">\n    <path clip-path=\"url(#p5d2afe8bdb)\" d=\"M 213.751703 143.1 \nL 216.525852 143.1 \nL 216.525852 143.1 \nL 213.751703 143.1 \nz\n\" style=\"fill:#1f77b4;\"/>\n   </g>\n   <g id=\"matplotlib.axis_1\">\n    <g id=\"xtick_1\">\n     <g id=\"line2d_1\">\n      <defs>\n       <path d=\"M 0 0 \nL 0 3.5 \n\" id=\"m364d5eaa19\" style=\"stroke:#000000;stroke-width:0.8;\"/>\n      </defs>\n      <g>\n       <use style=\"stroke:#000000;stroke-width:0.8;\" x=\"71.974543\" xlink:href=\"#m364d5eaa19\" y=\"143.1\"/>\n      </g>\n     </g>\n     <g id=\"text_1\">\n      <!-- −5 -->\n      <defs>\n       <path d=\"M 10.59375 35.5 \nL 73.1875 35.5 \nL 73.1875 27.203125 \nL 10.59375 27.203125 \nz\n\" id=\"DejaVuSans-8722\"/>\n       <path d=\"M 10.796875 72.90625 \nL 49.515625 72.90625 \nL 49.515625 64.59375 \nL 19.828125 64.59375 \nL 19.828125 46.734375 \nQ 21.96875 47.46875 24.109375 47.828125 \nQ 26.265625 48.1875 28.421875 48.1875 \nQ 40.625 48.1875 47.75 41.5 \nQ 54.890625 34.8125 54.890625 23.390625 \nQ 54.890625 11.625 47.5625 5.09375 \nQ 40.234375 -1.421875 26.90625 -1.421875 \nQ 22.3125 -1.421875 17.546875 -0.640625 \nQ 12.796875 0.140625 7.71875 1.703125 \nL 7.71875 11.625 \nQ 12.109375 9.234375 16.796875 8.0625 \nQ 21.484375 6.890625 26.703125 6.890625 \nQ 35.15625 6.890625 40.078125 11.328125 \nQ 45.015625 15.765625 45.015625 23.390625 \nQ 45.015625 31 40.078125 35.4375 \nQ 35.15625 39.890625 26.703125 39.890625 \nQ 22.75 39.890625 18.8125 39.015625 \nQ 14.890625 38.140625 10.796875 36.28125 \nz\n\" id=\"DejaVuSans-53\"/>\n      </defs>\n      <g transform=\"translate(64.603449 157.698438)scale(0.1 -0.1)\">\n       <use xlink:href=\"#DejaVuSans-8722\"/>\n       <use x=\"83.789062\" xlink:href=\"#DejaVuSans-53\"/>\n      </g>\n     </g>\n    </g>\n    <g id=\"xtick_2\">\n     <g id=\"line2d_2\">\n      <g>\n       <use style=\"stroke:#000000;stroke-width:0.8;\" x=\"126.964784\" xlink:href=\"#m364d5eaa19\" y=\"143.1\"/>\n      </g>\n     </g>\n     <g id=\"text_2\">\n      <!-- 0 -->\n      <defs>\n       <path d=\"M 31.78125 66.40625 \nQ 24.171875 66.40625 20.328125 58.90625 \nQ 16.5 51.421875 16.5 36.375 \nQ 16.5 21.390625 20.328125 13.890625 \nQ 24.171875 6.390625 31.78125 6.390625 \nQ 39.453125 6.390625 43.28125 13.890625 \nQ 47.125 21.390625 47.125 36.375 \nQ 47.125 51.421875 43.28125 58.90625 \nQ 39.453125 66.40625 31.78125 66.40625 \nz\nM 31.78125 74.21875 \nQ 44.046875 74.21875 50.515625 64.515625 \nQ 56.984375 54.828125 56.984375 36.375 \nQ 56.984375 17.96875 50.515625 8.265625 \nQ 44.046875 -1.421875 31.78125 -1.421875 \nQ 19.53125 -1.421875 13.0625 8.265625 \nQ 6.59375 17.96875 6.59375 36.375 \nQ 6.59375 54.828125 13.0625 64.515625 \nQ 19.53125 74.21875 31.78125 74.21875 \nz\n\" id=\"DejaVuSans-48\"/>\n      </defs>\n      <g transform=\"translate(123.783534 157.698438)scale(0.1 -0.1)\">\n       <use xlink:href=\"#DejaVuSans-48\"/>\n      </g>\n     </g>\n    </g>\n    <g id=\"xtick_3\">\n     <g id=\"line2d_3\">\n      <g>\n       <use style=\"stroke:#000000;stroke-width:0.8;\" x=\"181.955026\" xlink:href=\"#m364d5eaa19\" y=\"143.1\"/>\n      </g>\n     </g>\n     <g id=\"text_3\">\n      <!-- 5 -->\n      <g transform=\"translate(178.773776 157.698438)scale(0.1 -0.1)\">\n       <use xlink:href=\"#DejaVuSans-53\"/>\n      </g>\n     </g>\n    </g>\n   </g>\n   <g id=\"matplotlib.axis_2\">\n    <g id=\"ytick_1\">\n     <g id=\"line2d_4\">\n      <defs>\n       <path d=\"M 0 0 \nL -3.5 0 \n\" id=\"m3b96774416\" style=\"stroke:#000000;stroke-width:0.8;\"/>\n      </defs>\n      <g>\n       <use style=\"stroke:#000000;stroke-width:0.8;\" x=\"30.103125\" xlink:href=\"#m3b96774416\" y=\"143.1\"/>\n      </g>\n     </g>\n     <g id=\"text_4\">\n      <!-- 0.0 -->\n      <defs>\n       <path d=\"M 10.6875 12.40625 \nL 21 12.40625 \nL 21 0 \nL 10.6875 0 \nz\n\" id=\"DejaVuSans-46\"/>\n      </defs>\n      <g transform=\"translate(7.2 146.899219)scale(0.1 -0.1)\">\n       <use xlink:href=\"#DejaVuSans-48\"/>\n       <use x=\"63.623047\" xlink:href=\"#DejaVuSans-46\"/>\n       <use x=\"95.410156\" xlink:href=\"#DejaVuSans-48\"/>\n      </g>\n     </g>\n    </g>\n    <g id=\"ytick_2\">\n     <g id=\"line2d_5\">\n      <g>\n       <use style=\"stroke:#000000;stroke-width:0.8;\" x=\"30.103125\" xlink:href=\"#m3b96774416\" y=\"110.573615\"/>\n      </g>\n     </g>\n     <g id=\"text_5\">\n      <!-- 0.1 -->\n      <defs>\n       <path d=\"M 12.40625 8.296875 \nL 28.515625 8.296875 \nL 28.515625 63.921875 \nL 10.984375 60.40625 \nL 10.984375 69.390625 \nL 28.421875 72.90625 \nL 38.28125 72.90625 \nL 38.28125 8.296875 \nL 54.390625 8.296875 \nL 54.390625 0 \nL 12.40625 0 \nz\n\" id=\"DejaVuSans-49\"/>\n      </defs>\n      <g transform=\"translate(7.2 114.372834)scale(0.1 -0.1)\">\n       <use xlink:href=\"#DejaVuSans-48\"/>\n       <use x=\"63.623047\" xlink:href=\"#DejaVuSans-46\"/>\n       <use x=\"95.410156\" xlink:href=\"#DejaVuSans-49\"/>\n      </g>\n     </g>\n    </g>\n    <g id=\"ytick_3\">\n     <g id=\"line2d_6\">\n      <g>\n       <use style=\"stroke:#000000;stroke-width:0.8;\" x=\"30.103125\" xlink:href=\"#m3b96774416\" y=\"78.04723\"/>\n      </g>\n     </g>\n     <g id=\"text_6\">\n      <!-- 0.2 -->\n      <defs>\n       <path d=\"M 19.1875 8.296875 \nL 53.609375 8.296875 \nL 53.609375 0 \nL 7.328125 0 \nL 7.328125 8.296875 \nQ 12.9375 14.109375 22.625 23.890625 \nQ 32.328125 33.6875 34.8125 36.53125 \nQ 39.546875 41.84375 41.421875 45.53125 \nQ 43.3125 49.21875 43.3125 52.78125 \nQ 43.3125 58.59375 39.234375 62.25 \nQ 35.15625 65.921875 28.609375 65.921875 \nQ 23.96875 65.921875 18.8125 64.3125 \nQ 13.671875 62.703125 7.8125 59.421875 \nL 7.8125 69.390625 \nQ 13.765625 71.78125 18.9375 73 \nQ 24.125 74.21875 28.421875 74.21875 \nQ 39.75 74.21875 46.484375 68.546875 \nQ 53.21875 62.890625 53.21875 53.421875 \nQ 53.21875 48.921875 51.53125 44.890625 \nQ 49.859375 40.875 45.40625 35.40625 \nQ 44.1875 33.984375 37.640625 27.21875 \nQ 31.109375 20.453125 19.1875 8.296875 \nz\n\" id=\"DejaVuSans-50\"/>\n      </defs>\n      <g transform=\"translate(7.2 81.846449)scale(0.1 -0.1)\">\n       <use xlink:href=\"#DejaVuSans-48\"/>\n       <use x=\"63.623047\" xlink:href=\"#DejaVuSans-46\"/>\n       <use x=\"95.410156\" xlink:href=\"#DejaVuSans-50\"/>\n      </g>\n     </g>\n    </g>\n    <g id=\"ytick_4\">\n     <g id=\"line2d_7\">\n      <g>\n       <use style=\"stroke:#000000;stroke-width:0.8;\" x=\"30.103125\" xlink:href=\"#m3b96774416\" y=\"45.520845\"/>\n      </g>\n     </g>\n     <g id=\"text_7\">\n      <!-- 0.3 -->\n      <defs>\n       <path d=\"M 40.578125 39.3125 \nQ 47.65625 37.796875 51.625 33 \nQ 55.609375 28.21875 55.609375 21.1875 \nQ 55.609375 10.40625 48.1875 4.484375 \nQ 40.765625 -1.421875 27.09375 -1.421875 \nQ 22.515625 -1.421875 17.65625 -0.515625 \nQ 12.796875 0.390625 7.625 2.203125 \nL 7.625 11.71875 \nQ 11.71875 9.328125 16.59375 8.109375 \nQ 21.484375 6.890625 26.8125 6.890625 \nQ 36.078125 6.890625 40.9375 10.546875 \nQ 45.796875 14.203125 45.796875 21.1875 \nQ 45.796875 27.640625 41.28125 31.265625 \nQ 36.765625 34.90625 28.71875 34.90625 \nL 20.21875 34.90625 \nL 20.21875 43.015625 \nL 29.109375 43.015625 \nQ 36.375 43.015625 40.234375 45.921875 \nQ 44.09375 48.828125 44.09375 54.296875 \nQ 44.09375 59.90625 40.109375 62.90625 \nQ 36.140625 65.921875 28.71875 65.921875 \nQ 24.65625 65.921875 20.015625 65.03125 \nQ 15.375 64.15625 9.8125 62.3125 \nL 9.8125 71.09375 \nQ 15.4375 72.65625 20.34375 73.4375 \nQ 25.25 74.21875 29.59375 74.21875 \nQ 40.828125 74.21875 47.359375 69.109375 \nQ 53.90625 64.015625 53.90625 55.328125 \nQ 53.90625 49.265625 50.4375 45.09375 \nQ 46.96875 40.921875 40.578125 39.3125 \nz\n\" id=\"DejaVuSans-51\"/>\n      </defs>\n      <g transform=\"translate(7.2 49.320064)scale(0.1 -0.1)\">\n       <use xlink:href=\"#DejaVuSans-48\"/>\n       <use x=\"63.623047\" xlink:href=\"#DejaVuSans-46\"/>\n       <use x=\"95.410156\" xlink:href=\"#DejaVuSans-51\"/>\n      </g>\n     </g>\n    </g>\n    <g id=\"ytick_5\">\n     <g id=\"line2d_8\">\n      <g>\n       <use style=\"stroke:#000000;stroke-width:0.8;\" x=\"30.103125\" xlink:href=\"#m3b96774416\" y=\"12.99446\"/>\n      </g>\n     </g>\n     <g id=\"text_8\">\n      <!-- 0.4 -->\n      <defs>\n       <path d=\"M 37.796875 64.3125 \nL 12.890625 25.390625 \nL 37.796875 25.390625 \nz\nM 35.203125 72.90625 \nL 47.609375 72.90625 \nL 47.609375 25.390625 \nL 58.015625 25.390625 \nL 58.015625 17.1875 \nL 47.609375 17.1875 \nL 47.609375 0 \nL 37.796875 0 \nL 37.796875 17.1875 \nL 4.890625 17.1875 \nL 4.890625 26.703125 \nz\n\" id=\"DejaVuSans-52\"/>\n      </defs>\n      <g transform=\"translate(7.2 16.793678)scale(0.1 -0.1)\">\n       <use xlink:href=\"#DejaVuSans-48\"/>\n       <use x=\"63.623047\" xlink:href=\"#DejaVuSans-46\"/>\n       <use x=\"95.410156\" xlink:href=\"#DejaVuSans-52\"/>\n      </g>\n     </g>\n    </g>\n   </g>\n   <g id=\"line2d_9\">\n    <path clip-path=\"url(#p5d2afe8bdb)\" d=\"M 38.980398 143.1 \nL 41.754547 143.1 \nL 44.528692 143.1 \nL 47.302842 143.1 \nL 50.076986 143.1 \nL 52.851136 143.1 \nL 55.625285 143.1 \nL 58.39943 143.1 \nL 61.17358 143.099998 \nL 63.947729 143.09999 \nL 66.721874 143.09996 \nL 69.496023 143.099847 \nL 72.270168 143.099447 \nL 75.044318 143.098122 \nL 77.818467 143.094016 \nL 80.592612 143.082106 \nL 83.366761 143.049792 \nL 86.140908 142.967805 \nL 88.915056 142.773392 \nL 91.689205 142.342807 \nL 94.463352 141.452771 \nL 97.237499 139.737443 \nL 100.011646 136.659 \nL 102.785796 131.522758 \nL 105.559943 123.573487 \nL 108.33409 112.196169 \nL 111.108239 97.204719 \nL 113.882386 79.142471 \nL 116.656534 59.4659 \nL 119.430682 40.477387 \nL 122.20483 24.939925 \nL 124.978977 15.436586 \nL 127.753124 13.671429 \nL 130.527272 19.97057 \nL 133.30142 33.18383 \nL 136.075568 51.027632 \nL 138.849715 70.728917 \nL 141.623863 89.721204 \nL 144.39801 106.156286 \nL 147.172158 119.107237 \nL 149.946307 128.478634 \nL 152.720454 134.738893 \nL 155.494601 138.613501 \nL 158.268751 140.840985 \nL 161.042898 142.032669 \nL 163.817045 142.626798 \nL 166.591192 142.903138 \nL 169.365342 143.02315 \nL 172.139489 143.071849 \nL 174.913638 143.090324 \nL 177.687783 143.096879 \nL 180.461932 143.099055 \nL 183.236077 143.099732 \nL 186.010227 143.099929 \nL 188.784376 143.099982 \nL 191.558521 143.099996 \nL 194.33267 143.099999 \nL 197.10682 143.1 \nL 199.880965 143.1 \nL 202.655114 143.1 \nL 205.429259 143.1 \nL 208.203408 143.1 \nL 210.977558 143.1 \nL 213.751703 143.1 \n\" style=\"fill:none;stroke:#000000;stroke-linecap:square;stroke-width:1.5;\"/>\n   </g>\n   <g id=\"patch_67\">\n    <path d=\"M 30.103125 143.1 \nL 30.103125 7.2 \n\" style=\"fill:none;stroke:#000000;stroke-linecap:square;stroke-linejoin:miter;stroke-width:0.8;\"/>\n   </g>\n   <g id=\"patch_68\">\n    <path d=\"M 225.403125 143.1 \nL 225.403125 7.2 \n\" style=\"fill:none;stroke:#000000;stroke-linecap:square;stroke-linejoin:miter;stroke-width:0.8;\"/>\n   </g>\n   <g id=\"patch_69\">\n    <path d=\"M 30.103125 143.1 \nL 225.403125 143.1 \n\" style=\"fill:none;stroke:#000000;stroke-linecap:square;stroke-linejoin:miter;stroke-width:0.8;\"/>\n   </g>\n   <g id=\"patch_70\">\n    <path d=\"M 30.103125 7.2 \nL 225.403125 7.2 \n\" style=\"fill:none;stroke:#000000;stroke-linecap:square;stroke-linejoin:miter;stroke-width:0.8;\"/>\n   </g>\n  </g>\n </g>\n <defs>\n  <clipPath id=\"p5d2afe8bdb\">\n   <rect height=\"135.9\" width=\"195.3\" x=\"30.103125\" y=\"7.2\"/>\n  </clipPath>\n </defs>\n</svg>\n"
          },
          "metadata": {
            "needs_background": "light"
          }
        },
        {
          "output_type": "execute_result",
          "data": {
            "application/vnd.google.colaboratory.intrinsic+json": {
              "type": "string"
            },
            "text/plain": [
              "'approximation: 1.0000000130791062'"
            ]
          },
          "metadata": {},
          "execution_count": 10
        }
      ]
    },
    {
      "cell_type": "markdown",
      "metadata": {
        "id": "qQ-5hFtkMPfq"
      },
      "source": [
        "### Gradient Descent Algorithm"
      ],
      "id": "qQ-5hFtkMPfq"
    },
    {
      "cell_type": "markdown",
      "metadata": {
        "id": "3dcd7767-08bb-411d-910a-db179ec4fe25"
      },
      "source": [
        "![](https://miro.medium.com/max/1400/1*Qfdsh_bJRIJ-Sla4TulrWA.jpeg)"
      ],
      "id": "3dcd7767-08bb-411d-910a-db179ec4fe25"
    },
    {
      "cell_type": "markdown",
      "metadata": {
        "id": "e1c628ea-dd77-4137-baf1-4a0956b10c17"
      },
      "source": [
        "![](https://hackernoon.com/hn-images/0*D7zG46WrdKx54pbU.gif)"
      ],
      "id": "e1c628ea-dd77-4137-baf1-4a0956b10c17"
    },
    {
      "cell_type": "markdown",
      "metadata": {
        "id": "s-i9ZEo-LnBQ"
      },
      "source": [
        "\n",
        "Gradient Descent minimize the loss between objective and cost function by taking partial derivatives with respect to each parameter(w, b in this example)\n",
        "\n",
        "・Gradient \\\n",
        "$\\nabla L = (\\frac{\\partial L}{\\partial w} \\frac{\\partial L}{\\partial b})$\n",
        "\n",
        "・Partial Derivatives \\\n",
        "$\\frac{\\partial}{\\partial w}((y-(wx^2+b)) = -2x^2(-b-wx^2+y)$ \\\n",
        "$\\frac{\\partial}{\\partial b}((y-(wx^2+b)) = -2(-b-wx^2+y)$\n",
        "\n",
        "・Update parameters \\\n",
        "$w ← w - \\eta \\frac{\\partial f}{\\partial w} $ \\\n",
        "$b ← b - \\eta \\frac{\\partial f}{\\partial b} $"
      ],
      "id": "s-i9ZEo-LnBQ"
    },
    {
      "cell_type": "markdown",
      "metadata": {
        "id": "cdd271a0-0682-4751-b4e8-9bae3da59232"
      },
      "source": [
        "### Neural Network"
      ],
      "id": "cdd271a0-0682-4751-b4e8-9bae3da59232"
    },
    {
      "cell_type": "markdown",
      "metadata": {
        "id": "4DKifPdooPRS"
      },
      "source": [
        "\n",
        "\n",
        "<div>\n",
        "<img src=\"https://storage.ning.com/topology/rest/1.0/file/get/2808330901?profile=\" width=\"800\"/>\n",
        "</div>"
      ],
      "id": "4DKifPdooPRS"
    },
    {
      "cell_type": "markdown",
      "metadata": {
        "id": "7aca43ab-bc72-4355-9408-91109fe91395"
      },
      "source": [
        "\n",
        "\n",
        "<div>\n",
        "<img src=\"https://www.jeremyjordan.me/content/images/2018/01/Screen-Shot-2017-11-07-at-12.53.07-PM.png\" width=\"800\"/>\n",
        "</div>"
      ],
      "id": "7aca43ab-bc72-4355-9408-91109fe91395"
    },
    {
      "cell_type": "markdown",
      "metadata": {
        "id": "wLPZxxHWeuKa"
      },
      "source": [
        "Reference\n",
        "* [Math for Data Science - Online Workshop](https://www.meetup.com/Le-Wagon-Tokyo-Coding-Station/events/281393490/) "
      ],
      "id": "wLPZxxHWeuKa"
    }
  ]
}