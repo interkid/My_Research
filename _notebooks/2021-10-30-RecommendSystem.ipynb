{
  "nbformat": 4,
  "nbformat_minor": 0,
  "metadata": {
    "colab": {
      "name": "RecommendSystem.ipynb",
      "provenance": [],
      "collapsed_sections": [],
      "authorship_tag": "ABX9TyOmdMb/OW4h/S918pQDcLkS"
    },
    "kernelspec": {
      "name": "python3",
      "display_name": "Python 3"
    },
    "language_info": {
      "name": "python"
    }
  },
  "cells": [
    {
      "cell_type": "markdown",
      "metadata": {
        "id": "XZ03luwHaWlw"
      },
      "source": [
        "# Reccomend system introduction"
      ]
    },
    {
      "cell_type": "markdown",
      "metadata": {
        "id": "E6SR8oscdjDD"
      },
      "source": [
        "### Goal\n",
        "\n",
        "from interset users show, making methods for recommendation that user would have interset.  \n",
        "(ユーザーが示している現在の興味から、新しく興味を持つであろう分野をお勧めする方法を作る)"
      ]
    },
    {
      "cell_type": "markdown",
      "metadata": {
        "id": "ea4RajSzach3"
      },
      "source": [
        "methods\n",
        "* reccomend  ranking deceinding oreder (this aritcle don't treat)\n",
        "* user based collaborative filtering(ユーザーベース協調フィルタリング)\n",
        "* item based  collaborative filtering(アイテムベース協調フィルタリング)"
      ]
    },
    {
      "cell_type": "markdown",
      "metadata": {
        "id": "TlkiDnWL64fw"
      },
      "source": [
        "![](https://github.com/interkid/My_Research/blob/master/images/colaborative_filtering.png?raw=1)\n"
      ]
    },
    {
      "cell_type": "markdown",
      "metadata": {
        "id": "_qBtVBM1a_A7"
      },
      "source": [
        "## user based collaborative filtering"
      ]
    },
    {
      "cell_type": "markdown",
      "metadata": {
        "id": "j4mfMPfobFUK"
      },
      "source": [
        "policy\n",
        "- search user who is silimilar to target user\n",
        "- suggest interest that  group of users has to  target user\n",
        "\n",
        "how to\n",
        "- use  cosaine similarity (0: not same interst  / 1 same interest )"
      ]
    },
    {
      "cell_type": "markdown",
      "metadata": {
        "id": "e2_561vNiGdl"
      },
      "source": [
        "### users Data"
      ]
    },
    {
      "cell_type": "code",
      "metadata": {
        "id": "3fNBgJSC_Ahr"
      },
      "source": [
        "# eahc list show one user interest\n",
        "users_interests = [\n",
        "    [\"Hadoop\", \"Big Data\", \"HBase\", \"Java\", \"Spark\", \"Storm\", \"Cassandra\"],\n",
        "    [\"NoSQL\", \"MongoDB\", \"Cassandra\", \"HBase\", \"Postgres\"],\n",
        "    [\"Python\", \"scikit-learn\", \"scipy\", \"numpy\", \"statsmodels\", \"pandas\"],\n",
        "    [\"R\", \"Python\", \"statistics\", \"regression\", \"probability\"],\n",
        "    [\"machine learning\", \"regression\", \"decision trees\", \"libsvm\"],\n",
        "    [\"Python\", \"R\", \"Java\", \"C++\", \"Haskell\", \"programming languages\"],\n",
        "    [\"statistics\", \"probability\", \"mathematics\", \"theory\"],\n",
        "    [\"machine learning\", \"scikit-learn\", \"Mahout\", \"neural networks\"],\n",
        "    [\"neural networks\", \"deep learning\", \"Big Data\", \"artificial intelligence\"],\n",
        "    [\"Hadoop\", \"Java\", \"MapReduce\", \"Big Data\"],\n",
        "    [\"statistics\", \"R\", \"statsmodels\"],\n",
        "    [\"C++\", \"deep learning\", \"artificial intelligence\", \"probability\"],\n",
        "    [\"pandas\", \"R\", \"Python\"],\n",
        "    [\"databases\", \"HBase\", \"Postgres\", \"MySQL\", \"MongoDB\"],\n",
        "    [\"libsvm\", \"regression\", \"support vector machines\"]\n",
        "]"
      ],
      "execution_count": 57,
      "outputs": []
    },
    {
      "cell_type": "code",
      "metadata": {
        "colab": {
          "base_uri": "https://localhost:8080/"
        },
        "id": "P6gPj_MNdZsm",
        "outputId": "1db3b4ff-862f-43ff-a0a8-e76805349625"
      },
      "source": [
        "unique_interests = sorted({interest\n",
        "                           for user_interests in users_interests\n",
        "                           for interest in user_interests})\n",
        "unique_interests"
      ],
      "execution_count": 2,
      "outputs": [
        {
          "output_type": "execute_result",
          "data": {
            "text/plain": [
              "['Big Data',\n",
              " 'C++',\n",
              " 'Cassandra',\n",
              " 'HBase',\n",
              " 'Hadoop',\n",
              " 'Haskell',\n",
              " 'Java',\n",
              " 'Mahout',\n",
              " 'MapReduce',\n",
              " 'MongoDB',\n",
              " 'MySQL',\n",
              " 'NoSQL',\n",
              " 'Postgres',\n",
              " 'Python',\n",
              " 'R',\n",
              " 'Spark',\n",
              " 'Storm',\n",
              " 'artificial intelligence',\n",
              " 'databases',\n",
              " 'decision trees',\n",
              " 'deep learning',\n",
              " 'libsvm',\n",
              " 'machine learning',\n",
              " 'mathematics',\n",
              " 'neural networks',\n",
              " 'numpy',\n",
              " 'pandas',\n",
              " 'probability',\n",
              " 'programming languages',\n",
              " 'regression',\n",
              " 'scikit-learn',\n",
              " 'scipy',\n",
              " 'statistics',\n",
              " 'statsmodels',\n",
              " 'support vector machines',\n",
              " 'theory']"
            ]
          },
          "metadata": {},
          "execution_count": 2
        }
      ]
    },
    {
      "cell_type": "code",
      "metadata": {
        "id": "3Bbhhy4pgRUT"
      },
      "source": [
        "def make_user_interest_vector(user_interests):\n",
        "  \"\"\"\n",
        "  Given a list ofinterests, produce a vector whose its element is 1\n",
        "  if unique_interests[i] is in the list, 0 otherwise\n",
        "  \"\"\"\n",
        "  return [1 if interest in user_interests else 0\n",
        "          for interest in unique_interests]"
      ],
      "execution_count": 3,
      "outputs": []
    },
    {
      "cell_type": "code",
      "metadata": {
        "colab": {
          "base_uri": "https://localhost:8080/"
        },
        "id": "PQDQ_sq5gxDW",
        "outputId": "aeb0d88c-99a3-462e-cf0d-ea137a006e36"
      },
      "source": [
        "# if user has interset, user_interset_vectors[i][j] is 1, else 0 \n",
        "user_interest_vectors = [make_user_interest_vector(user_interests)\n",
        "                          for user_interests in users_interests]\n",
        "len(user_interest_vectors)\n",
        "user_interest_vectors"
      ],
      "execution_count": 4,
      "outputs": [
        {
          "output_type": "execute_result",
          "data": {
            "text/plain": [
              "[[1,\n",
              "  0,\n",
              "  1,\n",
              "  1,\n",
              "  1,\n",
              "  0,\n",
              "  1,\n",
              "  0,\n",
              "  0,\n",
              "  0,\n",
              "  0,\n",
              "  0,\n",
              "  0,\n",
              "  0,\n",
              "  0,\n",
              "  1,\n",
              "  1,\n",
              "  0,\n",
              "  0,\n",
              "  0,\n",
              "  0,\n",
              "  0,\n",
              "  0,\n",
              "  0,\n",
              "  0,\n",
              "  0,\n",
              "  0,\n",
              "  0,\n",
              "  0,\n",
              "  0,\n",
              "  0,\n",
              "  0,\n",
              "  0,\n",
              "  0,\n",
              "  0,\n",
              "  0],\n",
              " [0,\n",
              "  0,\n",
              "  1,\n",
              "  1,\n",
              "  0,\n",
              "  0,\n",
              "  0,\n",
              "  0,\n",
              "  0,\n",
              "  1,\n",
              "  0,\n",
              "  1,\n",
              "  1,\n",
              "  0,\n",
              "  0,\n",
              "  0,\n",
              "  0,\n",
              "  0,\n",
              "  0,\n",
              "  0,\n",
              "  0,\n",
              "  0,\n",
              "  0,\n",
              "  0,\n",
              "  0,\n",
              "  0,\n",
              "  0,\n",
              "  0,\n",
              "  0,\n",
              "  0,\n",
              "  0,\n",
              "  0,\n",
              "  0,\n",
              "  0,\n",
              "  0,\n",
              "  0],\n",
              " [0,\n",
              "  0,\n",
              "  0,\n",
              "  0,\n",
              "  0,\n",
              "  0,\n",
              "  0,\n",
              "  0,\n",
              "  0,\n",
              "  0,\n",
              "  0,\n",
              "  0,\n",
              "  0,\n",
              "  1,\n",
              "  0,\n",
              "  0,\n",
              "  0,\n",
              "  0,\n",
              "  0,\n",
              "  0,\n",
              "  0,\n",
              "  0,\n",
              "  0,\n",
              "  0,\n",
              "  0,\n",
              "  1,\n",
              "  1,\n",
              "  0,\n",
              "  0,\n",
              "  0,\n",
              "  1,\n",
              "  1,\n",
              "  0,\n",
              "  1,\n",
              "  0,\n",
              "  0],\n",
              " [0,\n",
              "  0,\n",
              "  0,\n",
              "  0,\n",
              "  0,\n",
              "  0,\n",
              "  0,\n",
              "  0,\n",
              "  0,\n",
              "  0,\n",
              "  0,\n",
              "  0,\n",
              "  0,\n",
              "  1,\n",
              "  1,\n",
              "  0,\n",
              "  0,\n",
              "  0,\n",
              "  0,\n",
              "  0,\n",
              "  0,\n",
              "  0,\n",
              "  0,\n",
              "  0,\n",
              "  0,\n",
              "  0,\n",
              "  0,\n",
              "  1,\n",
              "  0,\n",
              "  1,\n",
              "  0,\n",
              "  0,\n",
              "  1,\n",
              "  0,\n",
              "  0,\n",
              "  0],\n",
              " [0,\n",
              "  0,\n",
              "  0,\n",
              "  0,\n",
              "  0,\n",
              "  0,\n",
              "  0,\n",
              "  0,\n",
              "  0,\n",
              "  0,\n",
              "  0,\n",
              "  0,\n",
              "  0,\n",
              "  0,\n",
              "  0,\n",
              "  0,\n",
              "  0,\n",
              "  0,\n",
              "  0,\n",
              "  1,\n",
              "  0,\n",
              "  1,\n",
              "  1,\n",
              "  0,\n",
              "  0,\n",
              "  0,\n",
              "  0,\n",
              "  0,\n",
              "  0,\n",
              "  1,\n",
              "  0,\n",
              "  0,\n",
              "  0,\n",
              "  0,\n",
              "  0,\n",
              "  0],\n",
              " [0,\n",
              "  1,\n",
              "  0,\n",
              "  0,\n",
              "  0,\n",
              "  1,\n",
              "  1,\n",
              "  0,\n",
              "  0,\n",
              "  0,\n",
              "  0,\n",
              "  0,\n",
              "  0,\n",
              "  1,\n",
              "  1,\n",
              "  0,\n",
              "  0,\n",
              "  0,\n",
              "  0,\n",
              "  0,\n",
              "  0,\n",
              "  0,\n",
              "  0,\n",
              "  0,\n",
              "  0,\n",
              "  0,\n",
              "  0,\n",
              "  0,\n",
              "  1,\n",
              "  0,\n",
              "  0,\n",
              "  0,\n",
              "  0,\n",
              "  0,\n",
              "  0,\n",
              "  0],\n",
              " [0,\n",
              "  0,\n",
              "  0,\n",
              "  0,\n",
              "  0,\n",
              "  0,\n",
              "  0,\n",
              "  0,\n",
              "  0,\n",
              "  0,\n",
              "  0,\n",
              "  0,\n",
              "  0,\n",
              "  0,\n",
              "  0,\n",
              "  0,\n",
              "  0,\n",
              "  0,\n",
              "  0,\n",
              "  0,\n",
              "  0,\n",
              "  0,\n",
              "  0,\n",
              "  1,\n",
              "  0,\n",
              "  0,\n",
              "  0,\n",
              "  1,\n",
              "  0,\n",
              "  0,\n",
              "  0,\n",
              "  0,\n",
              "  1,\n",
              "  0,\n",
              "  0,\n",
              "  1],\n",
              " [0,\n",
              "  0,\n",
              "  0,\n",
              "  0,\n",
              "  0,\n",
              "  0,\n",
              "  0,\n",
              "  1,\n",
              "  0,\n",
              "  0,\n",
              "  0,\n",
              "  0,\n",
              "  0,\n",
              "  0,\n",
              "  0,\n",
              "  0,\n",
              "  0,\n",
              "  0,\n",
              "  0,\n",
              "  0,\n",
              "  0,\n",
              "  0,\n",
              "  1,\n",
              "  0,\n",
              "  1,\n",
              "  0,\n",
              "  0,\n",
              "  0,\n",
              "  0,\n",
              "  0,\n",
              "  1,\n",
              "  0,\n",
              "  0,\n",
              "  0,\n",
              "  0,\n",
              "  0],\n",
              " [1,\n",
              "  0,\n",
              "  0,\n",
              "  0,\n",
              "  0,\n",
              "  0,\n",
              "  0,\n",
              "  0,\n",
              "  0,\n",
              "  0,\n",
              "  0,\n",
              "  0,\n",
              "  0,\n",
              "  0,\n",
              "  0,\n",
              "  0,\n",
              "  0,\n",
              "  1,\n",
              "  0,\n",
              "  0,\n",
              "  1,\n",
              "  0,\n",
              "  0,\n",
              "  0,\n",
              "  1,\n",
              "  0,\n",
              "  0,\n",
              "  0,\n",
              "  0,\n",
              "  0,\n",
              "  0,\n",
              "  0,\n",
              "  0,\n",
              "  0,\n",
              "  0,\n",
              "  0],\n",
              " [1,\n",
              "  0,\n",
              "  0,\n",
              "  0,\n",
              "  1,\n",
              "  0,\n",
              "  1,\n",
              "  0,\n",
              "  1,\n",
              "  0,\n",
              "  0,\n",
              "  0,\n",
              "  0,\n",
              "  0,\n",
              "  0,\n",
              "  0,\n",
              "  0,\n",
              "  0,\n",
              "  0,\n",
              "  0,\n",
              "  0,\n",
              "  0,\n",
              "  0,\n",
              "  0,\n",
              "  0,\n",
              "  0,\n",
              "  0,\n",
              "  0,\n",
              "  0,\n",
              "  0,\n",
              "  0,\n",
              "  0,\n",
              "  0,\n",
              "  0,\n",
              "  0,\n",
              "  0],\n",
              " [0,\n",
              "  0,\n",
              "  0,\n",
              "  0,\n",
              "  0,\n",
              "  0,\n",
              "  0,\n",
              "  0,\n",
              "  0,\n",
              "  0,\n",
              "  0,\n",
              "  0,\n",
              "  0,\n",
              "  0,\n",
              "  1,\n",
              "  0,\n",
              "  0,\n",
              "  0,\n",
              "  0,\n",
              "  0,\n",
              "  0,\n",
              "  0,\n",
              "  0,\n",
              "  0,\n",
              "  0,\n",
              "  0,\n",
              "  0,\n",
              "  0,\n",
              "  0,\n",
              "  0,\n",
              "  0,\n",
              "  0,\n",
              "  1,\n",
              "  1,\n",
              "  0,\n",
              "  0],\n",
              " [0,\n",
              "  1,\n",
              "  0,\n",
              "  0,\n",
              "  0,\n",
              "  0,\n",
              "  0,\n",
              "  0,\n",
              "  0,\n",
              "  0,\n",
              "  0,\n",
              "  0,\n",
              "  0,\n",
              "  0,\n",
              "  0,\n",
              "  0,\n",
              "  0,\n",
              "  1,\n",
              "  0,\n",
              "  0,\n",
              "  1,\n",
              "  0,\n",
              "  0,\n",
              "  0,\n",
              "  0,\n",
              "  0,\n",
              "  0,\n",
              "  1,\n",
              "  0,\n",
              "  0,\n",
              "  0,\n",
              "  0,\n",
              "  0,\n",
              "  0,\n",
              "  0,\n",
              "  0],\n",
              " [0,\n",
              "  0,\n",
              "  0,\n",
              "  0,\n",
              "  0,\n",
              "  0,\n",
              "  0,\n",
              "  0,\n",
              "  0,\n",
              "  0,\n",
              "  0,\n",
              "  0,\n",
              "  0,\n",
              "  1,\n",
              "  1,\n",
              "  0,\n",
              "  0,\n",
              "  0,\n",
              "  0,\n",
              "  0,\n",
              "  0,\n",
              "  0,\n",
              "  0,\n",
              "  0,\n",
              "  0,\n",
              "  0,\n",
              "  1,\n",
              "  0,\n",
              "  0,\n",
              "  0,\n",
              "  0,\n",
              "  0,\n",
              "  0,\n",
              "  0,\n",
              "  0,\n",
              "  0],\n",
              " [0,\n",
              "  0,\n",
              "  0,\n",
              "  1,\n",
              "  0,\n",
              "  0,\n",
              "  0,\n",
              "  0,\n",
              "  0,\n",
              "  1,\n",
              "  1,\n",
              "  0,\n",
              "  1,\n",
              "  0,\n",
              "  0,\n",
              "  0,\n",
              "  0,\n",
              "  0,\n",
              "  1,\n",
              "  0,\n",
              "  0,\n",
              "  0,\n",
              "  0,\n",
              "  0,\n",
              "  0,\n",
              "  0,\n",
              "  0,\n",
              "  0,\n",
              "  0,\n",
              "  0,\n",
              "  0,\n",
              "  0,\n",
              "  0,\n",
              "  0,\n",
              "  0,\n",
              "  0],\n",
              " [0,\n",
              "  0,\n",
              "  0,\n",
              "  0,\n",
              "  0,\n",
              "  0,\n",
              "  0,\n",
              "  0,\n",
              "  0,\n",
              "  0,\n",
              "  0,\n",
              "  0,\n",
              "  0,\n",
              "  0,\n",
              "  0,\n",
              "  0,\n",
              "  0,\n",
              "  0,\n",
              "  0,\n",
              "  0,\n",
              "  0,\n",
              "  1,\n",
              "  0,\n",
              "  0,\n",
              "  0,\n",
              "  0,\n",
              "  0,\n",
              "  0,\n",
              "  0,\n",
              "  1,\n",
              "  0,\n",
              "  0,\n",
              "  0,\n",
              "  0,\n",
              "  1,\n",
              "  0]]"
            ]
          },
          "metadata": {},
          "execution_count": 4
        }
      ]
    },
    {
      "cell_type": "markdown",
      "metadata": {
        "id": "2b_oqz6rh28p"
      },
      "source": [
        "#### Utils"
      ]
    },
    {
      "cell_type": "code",
      "metadata": {
        "id": "8yLv7_8khgaE"
      },
      "source": [
        "import math\n",
        "def dot(v, w):\n",
        "    \"\"\"Computes v_1 * w_1 + ... + v_n * w_n\"\"\"\n",
        "    assert len(v) == len(w), \"vectors must be same length\"\n",
        "\n",
        "    return sum(v_i * w_i for v_i, w_i in zip(v, w))\n",
        "\n",
        "def cosine_similarity(v1, v2):\n",
        "    return dot(v1, v2) / math.sqrt(dot(v1, v1) * dot(v2, v2))"
      ],
      "execution_count": 5,
      "outputs": []
    },
    {
      "cell_type": "code",
      "metadata": {
        "colab": {
          "base_uri": "https://localhost:8080/"
        },
        "id": "le2g3rM1iO-S",
        "outputId": "7381f9c9-8244-4593-f7dd-8c434b5b78e3"
      },
      "source": [
        "user_similarities = [[ cosine_similarity(interest_vector_i, interest_vector_j)\n",
        "                    for interest_vector_j in user_interest_vectors]\n",
        "                     for interest_vector_i in user_interest_vectors]\n",
        "print(len(user_similarities))\n",
        "print(user_similarities[0])\n",
        "# similarity (user0&user1)\n",
        "print(user_similarities[0][1])\n",
        "print(user_similarities[1][0])"
      ],
      "execution_count": 6,
      "outputs": [
        {
          "output_type": "stream",
          "name": "stdout",
          "text": [
            "15\n",
            "[1.0, 0.3380617018914066, 0.0, 0.0, 0.0, 0.1543033499620919, 0.0, 0.0, 0.1889822365046136, 0.5669467095138409, 0.0, 0.0, 0.0, 0.1690308509457033, 0.0]\n",
            "0.3380617018914066\n",
            "0.3380617018914066\n"
          ]
        }
      ]
    },
    {
      "cell_type": "markdown",
      "metadata": {
        "id": "hewJyg5nn7W6"
      },
      "source": [
        "### Show user similarity"
      ]
    },
    {
      "cell_type": "code",
      "metadata": {
        "colab": {
          "base_uri": "https://localhost:8080/"
        },
        "id": "VyeghEItk3-x",
        "outputId": "c09e47d0-c09b-4cb1-905e-8bb9dffa902d"
      },
      "source": [
        "# user0, 9 share interest about \"Hadoop, Java, Big Data\"\n",
        "print(users_interests[0], users_interests[9], user_similarities[0][9])\n",
        "\n",
        "# user0, 8 share interest only \"Big Data\"\n",
        "print(users_interests[0], users_interests[8], user_similarities[0][8])"
      ],
      "execution_count": 7,
      "outputs": [
        {
          "output_type": "stream",
          "name": "stdout",
          "text": [
            "['Hadoop', 'Big Data', 'HBase', 'Java', 'Spark', 'Storm', 'Cassandra'] ['Hadoop', 'Java', 'MapReduce', 'Big Data'] 0.5669467095138409\n",
            "['Hadoop', 'Big Data', 'HBase', 'Java', 'Spark', 'Storm', 'Cassandra'] ['neural networks', 'deep learning', 'Big Data', 'artificial intelligence'] 0.1889822365046136\n"
          ]
        }
      ]
    },
    {
      "cell_type": "code",
      "metadata": {
        "id": "nXu3ENFZl_vp"
      },
      "source": [
        "def most_similar_users_to(user_id):\n",
        "  # find other users with nonzero similality\n",
        "  pairs = [(other_user_id, similarity)\n",
        "          for other_user_id, similarity in enumerate(user_similarities[user_id])\n",
        "          if user_id != other_user_id and similarity > 0]\n",
        "\n",
        "  # sort them most similar first\n",
        "  return sorted(pairs,\n",
        "                key = lambda pair: pair[-1],\n",
        "                reverse = True)"
      ],
      "execution_count": 8,
      "outputs": []
    },
    {
      "cell_type": "code",
      "metadata": {
        "colab": {
          "base_uri": "https://localhost:8080/"
        },
        "id": "1PInJbD3n4Gu",
        "outputId": "7a47ac0c-0e90-4102-bb03-506dfad9028e"
      },
      "source": [
        "most_similar_users_to(0)"
      ],
      "execution_count": 9,
      "outputs": [
        {
          "output_type": "execute_result",
          "data": {
            "text/plain": [
              "[(9, 0.5669467095138409),\n",
              " (1, 0.3380617018914066),\n",
              " (8, 0.1889822365046136),\n",
              " (13, 0.1690308509457033),\n",
              " (5, 0.1543033499620919)]"
            ]
          },
          "metadata": {},
          "execution_count": 9
        }
      ]
    },
    {
      "cell_type": "markdown",
      "metadata": {
        "id": "Te77EDxfpD6m"
      },
      "source": [
        "user0 is similar to 9. cosaine similarity is about 0.56 "
      ]
    },
    {
      "cell_type": "markdown",
      "metadata": {
        "id": "wWwz14xKqL7A"
      },
      "source": [
        "### suggest recomendation\n",
        "\n",
        "sum up the similarities every each domain "
      ]
    },
    {
      "cell_type": "code",
      "metadata": {
        "id": "Ck7j0dkNpfaG"
      },
      "source": [
        "from collections import defaultdict\n",
        "\n",
        "def user_based_suggestions(user_id, include_current_interests=False):\n",
        "    # Sum up the similarities.\n",
        "    suggestions: Dict[str, float] = defaultdict(float)\n",
        "    for other_user_id, similarity in most_similar_users_to(user_id):\n",
        "        for interest in users_interests[other_user_id]:\n",
        "            suggestions[interest] += similarity\n",
        "\n",
        "    # Convert them to a sorted list.\n",
        "    suggestions = sorted(suggestions.items(),\n",
        "                         key=lambda pair: pair[-1],  # weight\n",
        "                         reverse=True)\n",
        "\n",
        "    # And (maybe) exclude already-interests\n",
        "    if include_current_interests:\n",
        "        return suggestions\n",
        "    else:\n",
        "        return [(suggestion, weight)\n",
        "                for suggestion, weight in suggestions\n",
        "                if suggestion not in users_interests[user_id]]"
      ],
      "execution_count": 10,
      "outputs": []
    },
    {
      "cell_type": "code",
      "metadata": {
        "colab": {
          "base_uri": "https://localhost:8080/"
        },
        "id": "EcBQ7Y21p-de",
        "outputId": "0c38aba9-8d52-48db-95b6-98c2c71983e1"
      },
      "source": [
        "ubs0 = user_based_suggestions(0)\n",
        "ubs0"
      ],
      "execution_count": 11,
      "outputs": [
        {
          "output_type": "execute_result",
          "data": {
            "text/plain": [
              "[('MapReduce', 0.5669467095138409),\n",
              " ('MongoDB', 0.50709255283711),\n",
              " ('Postgres', 0.50709255283711),\n",
              " ('NoSQL', 0.3380617018914066),\n",
              " ('neural networks', 0.1889822365046136),\n",
              " ('deep learning', 0.1889822365046136),\n",
              " ('artificial intelligence', 0.1889822365046136),\n",
              " ('databases', 0.1690308509457033),\n",
              " ('MySQL', 0.1690308509457033),\n",
              " ('Python', 0.1543033499620919),\n",
              " ('R', 0.1543033499620919),\n",
              " ('C++', 0.1543033499620919),\n",
              " ('Haskell', 0.1543033499620919),\n",
              " ('programming languages', 0.1543033499620919)]"
            ]
          },
          "metadata": {},
          "execution_count": 11
        }
      ]
    },
    {
      "cell_type": "markdown",
      "metadata": {
        "id": "Jeexan6Lqsyc"
      },
      "source": [
        "Weak point user based collaborative filtering\n",
        "* if number of elements increase , then don't sugget well for curse of dimensionality  \n",
        "  * 👉 then content base try to solve its problem\n"
      ]
    },
    {
      "cell_type": "markdown",
      "metadata": {
        "id": "3KNe4metbCG3"
      },
      "source": [
        "## item based collaborative filtering\n"
      ]
    },
    {
      "cell_type": "code",
      "metadata": {
        "colab": {
          "base_uri": "https://localhost:8080/",
          "height": 35
        },
        "id": "KWqkUJxszFQW",
        "outputId": "dc3962f0-622b-4760-9c28-e7693c3e9df1"
      },
      "source": [
        "unique_interests[0]"
      ],
      "execution_count": 21,
      "outputs": [
        {
          "output_type": "execute_result",
          "data": {
            "application/vnd.google.colaboratory.intrinsic+json": {
              "type": "string"
            },
            "text/plain": [
              "'Big Data'"
            ]
          },
          "metadata": {},
          "execution_count": 21
        }
      ]
    },
    {
      "cell_type": "code",
      "metadata": {
        "id": "iWxiJSeXx5Vs"
      },
      "source": [
        "# transpose user_interest_matrix\n",
        "interest_user_matrix = [[user_interest_vector[j]\n",
        "                         for user_interest_vector in user_interest_vectors]\n",
        "                         for j, _ in enumerate(unique_interests)]"
      ],
      "execution_count": 18,
      "outputs": []
    },
    {
      "cell_type": "code",
      "metadata": {
        "colab": {
          "base_uri": "https://localhost:8080/"
        },
        "id": "jHRsbhEKyxcI",
        "outputId": "85b53ae5-5622-4c75-a2cd-427854a4c148"
      },
      "source": [
        "print(unique_interests[0])\n",
        "# ex) user 0, 8, 9 has interest \"Big Data\"\n",
        "interest_user_matrix"
      ],
      "execution_count": 22,
      "outputs": [
        {
          "output_type": "stream",
          "name": "stdout",
          "text": [
            "Big Data\n"
          ]
        },
        {
          "output_type": "execute_result",
          "data": {
            "text/plain": [
              "[[1, 0, 0, 0, 0, 0, 0, 0, 1, 1, 0, 0, 0, 0, 0],\n",
              " [0, 0, 0, 0, 0, 1, 0, 0, 0, 0, 0, 1, 0, 0, 0],\n",
              " [1, 1, 0, 0, 0, 0, 0, 0, 0, 0, 0, 0, 0, 0, 0],\n",
              " [1, 1, 0, 0, 0, 0, 0, 0, 0, 0, 0, 0, 0, 1, 0],\n",
              " [1, 0, 0, 0, 0, 0, 0, 0, 0, 1, 0, 0, 0, 0, 0],\n",
              " [0, 0, 0, 0, 0, 1, 0, 0, 0, 0, 0, 0, 0, 0, 0],\n",
              " [1, 0, 0, 0, 0, 1, 0, 0, 0, 1, 0, 0, 0, 0, 0],\n",
              " [0, 0, 0, 0, 0, 0, 0, 1, 0, 0, 0, 0, 0, 0, 0],\n",
              " [0, 0, 0, 0, 0, 0, 0, 0, 0, 1, 0, 0, 0, 0, 0],\n",
              " [0, 1, 0, 0, 0, 0, 0, 0, 0, 0, 0, 0, 0, 1, 0],\n",
              " [0, 0, 0, 0, 0, 0, 0, 0, 0, 0, 0, 0, 0, 1, 0],\n",
              " [0, 1, 0, 0, 0, 0, 0, 0, 0, 0, 0, 0, 0, 0, 0],\n",
              " [0, 1, 0, 0, 0, 0, 0, 0, 0, 0, 0, 0, 0, 1, 0],\n",
              " [0, 0, 1, 1, 0, 1, 0, 0, 0, 0, 0, 0, 1, 0, 0],\n",
              " [0, 0, 0, 1, 0, 1, 0, 0, 0, 0, 1, 0, 1, 0, 0],\n",
              " [1, 0, 0, 0, 0, 0, 0, 0, 0, 0, 0, 0, 0, 0, 0],\n",
              " [1, 0, 0, 0, 0, 0, 0, 0, 0, 0, 0, 0, 0, 0, 0],\n",
              " [0, 0, 0, 0, 0, 0, 0, 0, 1, 0, 0, 1, 0, 0, 0],\n",
              " [0, 0, 0, 0, 0, 0, 0, 0, 0, 0, 0, 0, 0, 1, 0],\n",
              " [0, 0, 0, 0, 1, 0, 0, 0, 0, 0, 0, 0, 0, 0, 0],\n",
              " [0, 0, 0, 0, 0, 0, 0, 0, 1, 0, 0, 1, 0, 0, 0],\n",
              " [0, 0, 0, 0, 1, 0, 0, 0, 0, 0, 0, 0, 0, 0, 1],\n",
              " [0, 0, 0, 0, 1, 0, 0, 1, 0, 0, 0, 0, 0, 0, 0],\n",
              " [0, 0, 0, 0, 0, 0, 1, 0, 0, 0, 0, 0, 0, 0, 0],\n",
              " [0, 0, 0, 0, 0, 0, 0, 1, 1, 0, 0, 0, 0, 0, 0],\n",
              " [0, 0, 1, 0, 0, 0, 0, 0, 0, 0, 0, 0, 0, 0, 0],\n",
              " [0, 0, 1, 0, 0, 0, 0, 0, 0, 0, 0, 0, 1, 0, 0],\n",
              " [0, 0, 0, 1, 0, 0, 1, 0, 0, 0, 0, 1, 0, 0, 0],\n",
              " [0, 0, 0, 0, 0, 1, 0, 0, 0, 0, 0, 0, 0, 0, 0],\n",
              " [0, 0, 0, 1, 1, 0, 0, 0, 0, 0, 0, 0, 0, 0, 1],\n",
              " [0, 0, 1, 0, 0, 0, 0, 1, 0, 0, 0, 0, 0, 0, 0],\n",
              " [0, 0, 1, 0, 0, 0, 0, 0, 0, 0, 0, 0, 0, 0, 0],\n",
              " [0, 0, 0, 1, 0, 0, 1, 0, 0, 0, 1, 0, 0, 0, 0],\n",
              " [0, 0, 1, 0, 0, 0, 0, 0, 0, 0, 1, 0, 0, 0, 0],\n",
              " [0, 0, 0, 0, 0, 0, 0, 0, 0, 0, 0, 0, 0, 0, 1],\n",
              " [0, 0, 0, 0, 0, 0, 1, 0, 0, 0, 0, 0, 0, 0, 0]]"
            ]
          },
          "metadata": {},
          "execution_count": 22
        }
      ]
    },
    {
      "cell_type": "markdown",
      "metadata": {
        "id": "1c0oP9iRzkjR"
      },
      "source": [
        "if same users are interested in  2 items  , cosaine similarity is 1,  if not similarity is 0 "
      ]
    },
    {
      "cell_type": "code",
      "metadata": {
        "id": "ThJ9subEzc2e"
      },
      "source": [
        "interest_similarities = [[cosine_similarity(user_vector_i, user_vector_j)\n",
        "                       for user_vector_j in interest_user_matrix]\n",
        "                        for user_vector_i in interest_user_matrix]"
      ],
      "execution_count": 26,
      "outputs": []
    },
    {
      "cell_type": "code",
      "metadata": {
        "colab": {
          "base_uri": "https://localhost:8080/"
        },
        "id": "FgVzNa6b068y",
        "outputId": "e43950ae-7d2e-431f-858b-bd5facc2d1cb"
      },
      "source": [
        "interest_similarities[0]"
      ],
      "execution_count": 30,
      "outputs": [
        {
          "output_type": "execute_result",
          "data": {
            "text/plain": [
              "[1.0,\n",
              " 0.0,\n",
              " 0.4082482904638631,\n",
              " 0.3333333333333333,\n",
              " 0.8164965809277261,\n",
              " 0.0,\n",
              " 0.6666666666666666,\n",
              " 0.0,\n",
              " 0.5773502691896258,\n",
              " 0.0,\n",
              " 0.0,\n",
              " 0.0,\n",
              " 0.0,\n",
              " 0.0,\n",
              " 0.0,\n",
              " 0.5773502691896258,\n",
              " 0.5773502691896258,\n",
              " 0.4082482904638631,\n",
              " 0.0,\n",
              " 0.0,\n",
              " 0.4082482904638631,\n",
              " 0.0,\n",
              " 0.0,\n",
              " 0.0,\n",
              " 0.4082482904638631,\n",
              " 0.0,\n",
              " 0.0,\n",
              " 0.0,\n",
              " 0.0,\n",
              " 0.0,\n",
              " 0.0,\n",
              " 0.0,\n",
              " 0.0,\n",
              " 0.0,\n",
              " 0.0,\n",
              " 0.0]"
            ]
          },
          "metadata": {},
          "execution_count": 30
        }
      ]
    },
    {
      "cell_type": "code",
      "metadata": {
        "id": "arjQdiKR1H7-"
      },
      "source": [
        "def most_similar_interests_to(interest_id):\n",
        "  similarities = interest_similarities[interest_id]\n",
        "  pairs = [(unique_interests[other_interest_id], similarity)\n",
        "          for other_interest_id, similarity in enumerate(similarities)\n",
        "          if interest_id != other_interest_id and similarity > 0]\n",
        "\n",
        "  return sorted(pairs,\n",
        "               key=lambda pair: pair[-1],\n",
        "               reverse=True)"
      ],
      "execution_count": 35,
      "outputs": []
    },
    {
      "cell_type": "markdown",
      "metadata": {
        "id": "ioP7rhXP2Hf2"
      },
      "source": [
        "for example, similarity with \"Big Data\" is below"
      ]
    },
    {
      "cell_type": "code",
      "metadata": {
        "colab": {
          "base_uri": "https://localhost:8080/"
        },
        "id": "4SdsMeOb16Kw",
        "outputId": "0abca23a-705c-4df7-a6f7-b4846a9903cd"
      },
      "source": [
        "msit0 = most_similar_interests_to(0)\n",
        "msit0"
      ],
      "execution_count": 38,
      "outputs": [
        {
          "output_type": "execute_result",
          "data": {
            "text/plain": [
              "[('Hadoop', 0.8164965809277261),\n",
              " ('Java', 0.6666666666666666),\n",
              " ('MapReduce', 0.5773502691896258),\n",
              " ('Spark', 0.5773502691896258),\n",
              " ('Storm', 0.5773502691896258),\n",
              " ('Cassandra', 0.4082482904638631),\n",
              " ('artificial intelligence', 0.4082482904638631),\n",
              " ('deep learning', 0.4082482904638631),\n",
              " ('neural networks', 0.4082482904638631),\n",
              " ('HBase', 0.3333333333333333)]"
            ]
          },
          "metadata": {},
          "execution_count": 38
        }
      ]
    },
    {
      "cell_type": "code",
      "metadata": {
        "colab": {
          "base_uri": "https://localhost:8080/"
        },
        "id": "mxMk1Jvb3bYh",
        "outputId": "dcb15296-ef2d-4213-da6a-d96ae95c1336"
      },
      "source": [
        "#most_similar_interests_to(0)\n",
        "for interest, similarity in most_similar_interests_to(0):\n",
        "  print(interest, similarity)"
      ],
      "execution_count": 41,
      "outputs": [
        {
          "output_type": "stream",
          "name": "stdout",
          "text": [
            "Hadoop 0.8164965809277261\n",
            "Java 0.6666666666666666\n",
            "MapReduce 0.5773502691896258\n",
            "Spark 0.5773502691896258\n",
            "Storm 0.5773502691896258\n",
            "Cassandra 0.4082482904638631\n",
            "artificial intelligence 0.4082482904638631\n",
            "deep learning 0.4082482904638631\n",
            "neural networks 0.4082482904638631\n",
            "HBase 0.3333333333333333\n"
          ]
        }
      ]
    },
    {
      "cell_type": "code",
      "metadata": {
        "id": "eeKzIHmk2Xf5"
      },
      "source": [
        "def item_based_suggestions(user_id, include_current_interests=False):\n",
        "   # Add up the similar interests\n",
        "   suggestions = defaultdict(float)\n",
        "   user_interest_vector = user_interest_vectors[user_id]\n",
        "   for interest_id, is_interested in enumerate(user_interest_vector):\n",
        "     similar_interests = most_similar_interests_to(interest_id)\n",
        "     for interest, similarity in similar_interests:\n",
        "       suggestions[interest] += similarity\n",
        "\n",
        "   # Sort them by weight\n",
        "   suggestions = sorted(suggestions.items(),\n",
        "                         key=lambda pair: pair[-1],\n",
        "                         reverse=True)\n",
        "   \n",
        "   print(\"suggestion is : {}\".format(suggestions))\n",
        "   \n",
        "   # And (maybe) exclude already-interests\n",
        "   if include_current_interests:\n",
        "     return suggestion\n",
        "   else:\n",
        "     return [(suggestion, weight)\n",
        "            for suggestion, weight in suggestions\n",
        "             if suggestion not in users_interests[user_id]]"
      ],
      "execution_count": 60,
      "outputs": []
    },
    {
      "cell_type": "markdown",
      "metadata": {
        "id": "5miQYCcP6CN8"
      },
      "source": [
        "recommendation  to user0"
      ]
    },
    {
      "cell_type": "code",
      "metadata": {
        "colab": {
          "base_uri": "https://localhost:8080/"
        },
        "id": "FOt4ihMq5OjQ",
        "outputId": "f0e4d0bb-9bb6-4f1c-ce78-3090240e59e0"
      },
      "source": [
        "ibs0 = item_based_suggestions(0)\n",
        "ibs0"
      ],
      "execution_count": 62,
      "outputs": [
        {
          "output_type": "stream",
          "name": "stdout",
          "text": [
            "suggestion is : [('HBase', 6.411156045861838), ('Java', 6.097094776993208), ('Python', 5.672467491345621), ('Cassandra', 5.2543135054150945), ('Big Data', 5.1815405503520555), ('Hadoop', 4.662561795878958), ('scikit-learn', 4.474873734152916), ('MongoDB', 4.437816924487368), ('Postgres', 4.437816924487368), ('R', 4.2540358447538855), ('Spark', 4.146264369941973), ('Storm', 4.146264369941973), ('probability', 3.9567956789604666), ('C++', 3.9378169244873686), ('regression', 3.6234623456271335), ('numpy', 3.6213203435596424), ('scipy', 3.6213203435596424), ('statsmodels', 3.5295686340235055), ('pandas', 3.4748737341529163), ('statistics', 3.4289742326275534), ('machine learning', 3.322461852836958), ('Haskell', 3.284457050376173), ('programming languages', 3.284457050376173), ('neural networks', 3.1153550716504106), ('MySQL', 2.9915638315627207), ('databases', 2.9915638315627207), ('artificial intelligence', 2.8164965809277263), ('deep learning', 2.8164965809277263), ('libsvm', 2.730710143300821), ('NoSQL', 2.698670612749268), ('theory', 2.1547005383792515), ('mathematics', 2.1547005383792515), ('Mahout', 2.1213203435596424), ('decision trees', 1.9915638315627207), ('MapReduce', 1.861807319565799), ('support vector machines', 1.2844570503761732)]\n"
          ]
        },
        {
          "output_type": "execute_result",
          "data": {
            "text/plain": [
              "[('Python', 5.672467491345621),\n",
              " ('scikit-learn', 4.474873734152916),\n",
              " ('MongoDB', 4.437816924487368),\n",
              " ('Postgres', 4.437816924487368),\n",
              " ('R', 4.2540358447538855),\n",
              " ('probability', 3.9567956789604666),\n",
              " ('C++', 3.9378169244873686),\n",
              " ('regression', 3.6234623456271335),\n",
              " ('numpy', 3.6213203435596424),\n",
              " ('scipy', 3.6213203435596424),\n",
              " ('statsmodels', 3.5295686340235055),\n",
              " ('pandas', 3.4748737341529163),\n",
              " ('statistics', 3.4289742326275534),\n",
              " ('machine learning', 3.322461852836958),\n",
              " ('Haskell', 3.284457050376173),\n",
              " ('programming languages', 3.284457050376173),\n",
              " ('neural networks', 3.1153550716504106),\n",
              " ('MySQL', 2.9915638315627207),\n",
              " ('databases', 2.9915638315627207),\n",
              " ('artificial intelligence', 2.8164965809277263),\n",
              " ('deep learning', 2.8164965809277263),\n",
              " ('libsvm', 2.730710143300821),\n",
              " ('NoSQL', 2.698670612749268),\n",
              " ('theory', 2.1547005383792515),\n",
              " ('mathematics', 2.1547005383792515),\n",
              " ('Mahout', 2.1213203435596424),\n",
              " ('decision trees', 1.9915638315627207),\n",
              " ('MapReduce', 1.861807319565799),\n",
              " ('support vector machines', 1.2844570503761732)]"
            ]
          },
          "metadata": {},
          "execution_count": 62
        }
      ]
    },
    {
      "cell_type": "markdown",
      "metadata": {
        "id": "Tc_JgJjp-2ly"
      },
      "source": [
        "### REF\n",
        "* [data-science-from-scratch](https://github.com/joelgrus/data-science-from-scratch/blob/master/scratch/recommender_systems.py)"
      ]
    },
    {
      "cell_type": "code",
      "metadata": {
        "id": "H02AVaHK-9aX"
      },
      "source": [
        ""
      ],
      "execution_count": 11,
      "outputs": []
    }
  ]
}